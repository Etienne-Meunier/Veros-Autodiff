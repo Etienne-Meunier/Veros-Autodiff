{
 "cells": [
  {
   "cell_type": "markdown",
   "id": "cf416fb8-04a3-4230-80cb-622711990f15",
   "metadata": {},
   "source": [
    "# Compare Veros Original Implementation with modif "
   ]
  },
  {
   "cell_type": "code",
   "execution_count": 1,
   "id": "5ecd3dc7-1088-41d6-919f-31c948227714",
   "metadata": {},
   "outputs": [
    {
     "name": "stdout",
     "output_type": "stream",
     "text": [
      "/home/emeunier/code/Veros-Autodiff/\n",
      "Differentiable Veros Experimental version\n",
      "Importing core modules\n",
      " Using computational backend jax on gpu\n",
      "  Kernels are compiled during first iteration, be patient\n",
      " Runtime settings are now locked\n",
      "\n"
     ]
    },
    {
     "name": "stderr",
     "output_type": "stream",
     "text": [
      "2025-10-07 17:44:20.112720: W external/xla/xla/service/gpu/nvptx_compiler.cc:836] The NVIDIA driver's CUDA version is 12.2 which is older than the PTX compiler version (12.9.86). Because the driver is older than the PTX compiler version, XLA is disabling parallel compilation, which may slow down compilation. You should update your NVIDIA driver or use the NVIDIA-provided CUDA forward compatibility packages.\n"
     ]
    }
   ],
   "source": [
    "from __init__ import PRP; import sys\n",
    "sys.path.append(PRP)\n",
    "\n",
    "from scripts.grad_compare import *\n",
    "\n",
    "from setups.acc.acc_learning import ACCSetup\n",
    "from tqdm import tqdm\n",
    "import gc \n",
    "import pandas as pd\n",
    "import seaborn as sns\n",
    "import matplotlib.pyplot as plt\n",
    "import veros\n",
    "\n",
    "run_steps = 3000\n",
    "save_freq =  100"
   ]
  },
  {
   "cell_type": "markdown",
   "id": "5ccb4c41-8659-4f96-bca3-1b897bcc5260",
   "metadata": {},
   "source": [
    "Classical loop "
   ]
  },
  {
   "cell_type": "code",
   "execution_count": 2,
   "id": "40a58078-db56-484f-a52b-932f611733f7",
   "metadata": {},
   "outputs": [
    {
     "name": "stdout",
     "output_type": "stream",
     "text": [
      "Running model setup\n"
     ]
    },
    {
     "name": "stderr",
     "output_type": "stream",
     "text": [
      "\n",
      "KeyboardInterrupt\n",
      "\n"
     ]
    }
   ],
   "source": [
    "# Spin-up \n",
    "acc = ACCSetup()\n",
    "acc.setup()\n",
    "\n",
    "\n",
    "for step in tqdm(range(run_steps)) :\n",
    "    acc.step(acc.state)\n",
    "    if step % save_freq == 0 :\n",
    "        jnp.save(f'save_states/{veros.__doc__.split(\" \")[0].replace(\",\", \"\")}/{step}_temp.npy', acc.state.variables.temp)"
   ]
  },
  {
   "cell_type": "markdown",
   "id": "c9dce4e3-0a92-4272-b4fb-aba12cd5555b",
   "metadata": {},
   "source": [
    "Jit Call"
   ]
  },
  {
   "cell_type": "code",
   "execution_count": 2,
   "id": "c512eb63-a8ee-4091-a760-1060ca70bc83",
   "metadata": {},
   "outputs": [
    {
     "name": "stdout",
     "output_type": "stream",
     "text": [
      "Running model setup\n",
      "Diffusion grid factor delta_iso1 = 0.01942284820457075\n"
     ]
    },
    {
     "name": "stderr",
     "output_type": "stream",
     "text": [
      "100%|██████████| 3000/3000 [00:45<00:00, 65.74it/s] \n"
     ]
    }
   ],
   "source": [
    "# Spin-up \n",
    "acc = ACCSetup()\n",
    "acc.setup()\n",
    "\n",
    "def ps(state) : \n",
    "    n_state = state.copy()\n",
    "    acc.step(n_state)\n",
    "    return n_state\n",
    "\n",
    "step_jit = jax.jit(ps)\n",
    "\n",
    "state = acc.state.copy()\n",
    "for step in tqdm(range(run_steps)) :\n",
    "    state = step_jit(state)\n",
    "    if step % save_freq == 0 :\n",
    "        jnp.save(f'save_states/{veros.__doc__.split(\" \")[0].replace(\",\", \"\")}_Jit/{step}_temp.npy', state.variables.temp)"
   ]
  },
  {
   "cell_type": "markdown",
   "id": "9b997139-7122-48ad-8a9d-a53975680683",
   "metadata": {},
   "source": [
    "# Compare forward "
   ]
  },
  {
   "cell_type": "code",
   "execution_count": 3,
   "id": "fbf31091-c6b1-4b86-96af-47245eefef1a",
   "metadata": {},
   "outputs": [
    {
     "name": "stdout",
     "output_type": "stream",
     "text": [
      "RuntimeWarning: os.fork() was called. os.fork() is incompatible with multithreaded code, and JAX is multithreaded, so this will likely lead to a deadlock. (/home/emeunier/.conda/envs/verosenv/lib/python3.12/pty.py:95)\n",
      "/var/lib/oar/.batch_job_bashrc: line 5: /home/emeunier/.bashrc: No such file or directory\n",
      "0_temp.npy     1400_temp.npy  2000_temp.npy  2500_temp.npy  400_temp.npy\n",
      "1000_temp.npy  1500_temp.npy  200_temp.npy   2600_temp.npy  500_temp.npy\n",
      "100_temp.npy   1600_temp.npy  2100_temp.npy  2700_temp.npy  600_temp.npy\n",
      "1100_temp.npy  1700_temp.npy  2200_temp.npy  2800_temp.npy  700_temp.npy\n",
      "1200_temp.npy  1800_temp.npy  2300_temp.npy  2900_temp.npy  800_temp.npy\n",
      "1300_temp.npy  1900_temp.npy  2400_temp.npy  300_temp.npy   900_temp.npy\n"
     ]
    }
   ],
   "source": [
    "ls save_states/Veros"
   ]
  },
  {
   "cell_type": "code",
   "execution_count": 4,
   "id": "c20e1021-e7fb-4c44-9433-cb54d80acb77",
   "metadata": {},
   "outputs": [],
   "source": [
    "from glob import glob\n",
    "import pandas as pd\n",
    "import seaborn as sns"
   ]
  },
  {
   "cell_type": "code",
   "execution_count": 5,
   "id": "67a64f0b-0e9d-4bc5-87ee-6bf77c408b18",
   "metadata": {},
   "outputs": [],
   "source": [
    "reference = 'Veros'\n",
    "methods = ['AutodiffVeros', 'AutodiffVeros_Jit']\n",
    "steps = range(0,run_steps,save_freq)\n",
    "dir = 'save_states'\n",
    "variable = 'temp'"
   ]
  },
  {
   "cell_type": "code",
   "execution_count": 9,
   "id": "16fd4325-921c-4da2-a054-e6d91f1534bf",
   "metadata": {},
   "outputs": [],
   "source": [
    "stats =  []\n",
    "for step in steps : \n",
    "    ref_state = jnp.load(f'{dir}/{reference}/{step}_{variable}.npy')\n",
    "    for method in methods : \n",
    "        state = jnp.load(f'{dir}/{method}/{step}_{variable}.npy')\n",
    "        diff = ((ref_state - state)**2).sum() / (ref_state**2).sum()\n",
    "        stats.append({'step':step, 'method' : method, 'diff' : diff.item()})\n",
    "stats = pd.DataFrame(stats)"
   ]
  },
  {
   "cell_type": "code",
   "execution_count": null,
   "id": "f63cb262-6ea8-44cc-9835-ad0ea599d297",
   "metadata": {},
   "outputs": [],
   "source": []
  },
  {
   "cell_type": "code",
   "execution_count": 11,
   "id": "7f4c3f67-344e-4208-b48c-ffba66cf0608",
   "metadata": {},
   "outputs": [
    {
     "data": {
      "text/plain": [
       "Text(0.5, 1.0, 'Difference temperature field - forward different methods')"
      ]
     },
     "execution_count": 11,
     "metadata": {},
     "output_type": "execute_result"
    },
    {
     "data": {
      "image/png": "[encoded data removed]",
      "text/plain": [
       "<Figure size 640x480 with 1 Axes>"
      ]
     },
     "metadata": {},
     "output_type": "display_data"
    }
   ],
   "source": [
    "sns.lineplot(stats, x='step', y='diff', hue='method')\n",
    "plt.title('Difference temperature field - forward different methods')"
   ]
  },
  {
   "cell_type": "code",
   "execution_count": 12,
   "id": "1260701c-d028-466b-8fbc-fa9575470d39",
   "metadata": {},
   "outputs": [
    {
     "data": {
      "text/html": [
       "<div>\n",
       "<style scoped>\n",
       "    .dataframe tbody tr th:only-of-type {\n",
       "        vertical-align: middle;\n",
       "    }\n",
       "\n",
       "    .dataframe tbody tr th {\n",
       "        vertical-align: top;\n",
       "    }\n",
       "\n",
       "    .dataframe thead th {\n",
       "        text-align: right;\n",
       "    }\n",
       "</style>\n",
       "<table border=\"1\" class=\"dataframe\">\n",
       "  <thead>\n",
       "    <tr style=\"text-align: right;\">\n",
       "      <th></th>\n",
       "      <th>step</th>\n",
       "      <th>diff</th>\n",
       "    </tr>\n",
       "    <tr>\n",
       "      <th>method</th>\n",
       "      <th></th>\n",
       "      <th></th>\n",
       "    </tr>\n",
       "  </thead>\n",
       "  <tbody>\n",
       "    <tr>\n",
       "      <th>AutodiffVeros</th>\n",
       "      <td>1450.0</td>\n",
       "      <td>7.688696e-10</td>\n",
       "    </tr>\n",
       "    <tr>\n",
       "      <th>AutodiffVeros_Jit</th>\n",
       "      <td>1450.0</td>\n",
       "      <td>6.052145e-10</td>\n",
       "    </tr>\n",
       "  </tbody>\n",
       "</table>\n",
       "</div>"
      ],
      "text/plain": [
       "                     step          diff\n",
       "method                                 \n",
       "AutodiffVeros      1450.0  7.688696e-10\n",
       "AutodiffVeros_Jit  1450.0  6.052145e-10"
      ]
     },
     "execution_count": 12,
     "metadata": {},
     "output_type": "execute_result"
    }
   ],
   "source": [
    "stats.groupby('method').mean()"
   ]
  },
  {
   "cell_type": "code",
   "execution_count": null,
   "id": "2325bc07-60ab-4d1f-97a1-c7a6f5942f6b",
   "metadata": {},
   "outputs": [],
   "source": []
  },
  {
   "cell_type": "code",
   "execution_count": null,
   "id": "6893185f-116d-4dd8-a5ec-97592cac1274",
   "metadata": {},
   "outputs": [],
   "source": []
  }
 ],
 "metadata": {
  "kernelspec": {
   "display_name": "Python (verosenv_kernel)",
   "language": "python",
   "name": "verosenv"
  },
  "language_info": {
   "codemirror_mode": {
    "name": "ipython",
    "version": 3
   },
   "file_extension": ".py",
   "mimetype": "text/x-python",
   "name": "python",
   "nbconvert_exporter": "python",
   "pygments_lexer": "ipython3",
   "version": "3.12.4"
  }
 },
 "nbformat": 4,
 "nbformat_minor": 5
}
