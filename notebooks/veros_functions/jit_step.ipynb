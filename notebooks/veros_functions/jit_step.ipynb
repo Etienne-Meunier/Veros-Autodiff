{
 "cells": [
  {
   "cell_type": "code",
   "execution_count": 1,
   "id": "e91ffa29",
   "metadata": {},
   "outputs": [
    {
     "name": "stdout",
     "output_type": "stream",
     "text": [
      "Importing core modules\n",
      " Using computational backend jax on cpu\n",
      "  Kernels are compiled during first iteration, be patient\n",
      " Runtime settings are now locked\n",
      "\n",
      "Running model setup\n",
      "Diffusion grid factor delta_iso1 = 0.01942284820457075\n"
     ]
    },
    {
     "name": "stderr",
     "output_type": "stream",
     "text": [
      "100%|██████████| 5/5 [00:04<00:00,  1.00it/s]\n"
     ]
    }
   ],
   "source": [
    "from __init__ import PRP; import sys\n",
    "sys.path.append(PRP)\n",
    "\n",
    "from scripts.grad_compare import *\n",
    "\n",
    "from setups.acc.acc_learning import ACCSetup\n",
    "from tqdm import tqdm\n",
    "\n",
    "# Spin-up \n",
    "acc = ACCSetup()\n",
    "acc.setup()\n",
    "\n",
    "\n",
    "for step in tqdm(range(5)) :\n",
    "    acc.step(acc.state)"
   ]
  },
  {
   "cell_type": "code",
   "execution_count": 2,
   "id": "bf7e7c68",
   "metadata": {},
   "outputs": [],
   "source": [
    "import jax"
   ]
  },
  {
   "cell_type": "code",
   "execution_count": 3,
   "id": "5e565499",
   "metadata": {},
   "outputs": [],
   "source": [
    "step_jit = jax.jit(acc.step)"
   ]
  },
  {
   "cell_type": "code",
   "execution_count": 4,
   "id": "d7ded268",
   "metadata": {},
   "outputs": [],
   "source": [
    "step_jit(acc.state)"
   ]
  },
  {
   "cell_type": "code",
   "execution_count": null,
   "id": "05145a50",
   "metadata": {},
   "outputs": [],
   "source": []
  }
 ],
 "metadata": {
  "kernelspec": {
   "display_name": "veros",
   "language": "python",
   "name": "python3"
  },
  "language_info": {
   "codemirror_mode": {
    "name": "ipython",
    "version": 3
   },
   "file_extension": ".py",
   "mimetype": "text/x-python",
   "name": "python",
   "nbconvert_exporter": "python",
   "pygments_lexer": "ipython3",
   "version": "3.12.4"
  }
 },
 "nbformat": 4,
 "nbformat_minor": 5
}
