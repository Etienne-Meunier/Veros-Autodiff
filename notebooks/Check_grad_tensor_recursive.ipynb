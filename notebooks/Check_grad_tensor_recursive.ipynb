{
 "cells": [
  {
   "cell_type": "code",
   "execution_count": 1,
   "id": "d9d04bff",
   "metadata": {},
   "outputs": [
    {
     "name": "stdout",
     "output_type": "stream",
     "text": [
      "/home/emeunier/code/Veros-Autodiff/\n",
      "Differentiable Veros Experimental version\n",
      "Importing core modules\n",
      " Using computational backend jax on gpu\n",
      "  Kernels are compiled during first iteration, be patient\n",
      " Runtime settings are now locked\n",
      "\n"
     ]
    },
    {
     "name": "stderr",
     "output_type": "stream",
     "text": [
      "2025-10-15 09:26:05.271257: W external/xla/xla/service/gpu/nvptx_compiler.cc:836] The NVIDIA driver's CUDA version is 12.2 which is older than the PTX compiler version (12.9.86). Because the driver is older than the PTX compiler version, XLA is disabling parallel compilation, which may slow down compilation. You should update your NVIDIA driver or use the NVIDIA-provided CUDA forward compatibility packages.\n"
     ]
    }
   ],
   "source": [
    "from __init__ import PRP; import sys\n",
    "sys.path.append(PRP)\n",
    "\n",
    "from scripts.grad_compare import *\n",
    "from scripts.utils import *\n",
    "\n",
    "from setups.acc.acc_learning import ACCSetup\n",
    "from tqdm import tqdm\n",
    "import gc \n",
    "import pandas as pd\n",
    "import seaborn as sns\n",
    "import matplotlib.pyplot as plt\n",
    "import seaborn as sn\n",
    "\n",
    "from jax import lax"
   ]
  },
  {
   "cell_type": "markdown",
   "id": "26d41313-9a89-408f-8873-4efe43610c1c",
   "metadata": {},
   "source": [
    "# Spin-up"
   ]
  },
  {
   "cell_type": "code",
   "execution_count": 2,
   "id": "e0a542ad",
   "metadata": {},
   "outputs": [
    {
     "name": "stdout",
     "output_type": "stream",
     "text": [
      "Running model setup\n",
      "Diffusion grid factor delta_iso1 = 0.01942284820457075\n",
      "Running model setup\n",
      "Diffusion grid factor delta_iso1 = 0.01942284820457075\n"
     ]
    },
    {
     "name": "stderr",
     "output_type": "stream",
     "text": [
      "100%|██████████| 200/200 [00:24<00:00,  8.30it/s]\n"
     ]
    }
   ],
   "source": [
    "# Spin-up \n",
    "warmup_steps = 200\n",
    "acc = ACCSetup()\n",
    "acc.setup()\n",
    "\n",
    "\n",
    "def ps(state) : \n",
    "    n_state = state.copy()\n",
    "    acc.step(n_state)\n",
    "    return n_state\n",
    "\n",
    "# Spin-up \n",
    "acc = ACCSetup()\n",
    "acc.setup()\n",
    "\n",
    "step_jit = jax.jit(ps)\n",
    "\n",
    "state = acc.state.copy()\n",
    "for step in tqdm(range(warmup_steps)) :\n",
    "    state = step_jit(state)"
   ]
  },
  {
   "cell_type": "markdown",
   "id": "9e2c6d43",
   "metadata": {},
   "source": [
    "Backward vjp - Directional Gradients"
   ]
  },
  {
   "cell_type": "markdown",
   "id": "03b5f7cb-f685-4128-b411-1a62536e7bf6",
   "metadata": {},
   "source": [
    "# Methods"
   ]
  },
  {
   "cell_type": "code",
   "execution_count": 6,
   "id": "c67f5026-fe37-4252-8ff3-d7eae5cdee2f",
   "metadata": {},
   "outputs": [],
   "source": [
    "#direction = jax.random.normal(jax.random.PRNGKey(0), acc.state.variables.u.shape)\n",
    "#direction = direction / jnp.linalg.norm(direction)  # normalize\n",
    "\n",
    "\n",
    "#\n",
    "var_dev = 'r_bot'\n",
    "random = 'ones'\n",
    "\n",
    "direction = jnp.zeros_like(getattr(state.variables, var_dev))\n",
    "if random == 'normal' :\n",
    "    direction = jax.random.normal(jax.random.PRNGKey(0), direction.shape)\n",
    "elif random == 'uniform' :\n",
    "    direction = jax.random.uniform(jax.random.PRNGKey(0), direction.shape)\n",
    "elif random == 'ones' :\n",
    "    direction = jnp.ones_like(direction)\n",
    "    \n",
    "# if len(direction.shape) > 0 : \n",
    "#     direction = direction.at[:,:,:,state.variables.tau].set(jax.random.normal(jax.random.PRNGKey(0), direction[:,:,:,state.variables.tau].shape))\n",
    "\n",
    "direction = direction / jnp.linalg.norm(direction)\n",
    "\n",
    "\n",
    "var_agg = 'u'\n",
    "def agg_sum(state, key_sum = 'temp') :\n",
    "    tau = getattr(state.variables, 'tau')\n",
    "    return ((getattr(state.variables, key_sum))**2).sum()\n",
    "    \n",
    "agg_function = lambda state : agg_sum(state, key_sum=var_agg)"
   ]
  },
  {
   "cell_type": "code",
   "execution_count": 7,
   "id": "69ebd7f0-7a5f-46b5-93c6-8d982db920ae",
   "metadata": {},
   "outputs": [
    {
     "data": {
      "text/plain": [
       "Array(1., dtype=float64)"
      ]
     },
     "execution_count": 7,
     "metadata": {},
     "output_type": "execute_result"
    }
   ],
   "source": [
    "direction"
   ]
  },
  {
   "cell_type": "code",
   "execution_count": 8,
   "id": "c2a1d09d-1f2e-428e-90a9-bbd4a12991b8",
   "metadata": {},
   "outputs": [],
   "source": [
    "vjpm = vjp_grad(acc.step, agg_function, var_dev)\n",
    "\n",
    "\n",
    "vjpm.step_function = jax.jit(vjpm.step_function)\n",
    "vjpm.agg_function = jax.jit(vjpm.agg_function)\n",
    "\n",
    "loss_and_grad = lambda s, v, it: vjpm.g(s, v, iterations=it)"
   ]
  },
  {
   "cell_type": "code",
   "execution_count": 9,
   "id": "b59dedd1-e690-4d16-8844-c8deed3c0768",
   "metadata": {},
   "outputs": [
    {
     "name": "stdout",
     "output_type": "stream",
     "text": [
      "CPU times: user 1min 30s, sys: 2.8 s, total: 1min 33s\n",
      "Wall time: 1min 48s\n"
     ]
    }
   ],
   "source": [
    "%%time\n",
    "state = state.copy()\n",
    "field = jnp.array(1e-5, dtype=jnp.float64) #getattr(state.variables, var_dev)\n",
    "\n",
    "output_forward, gradients = loss_and_grad(state, field, it=2)"
   ]
  },
  {
   "cell_type": "code",
   "execution_count": 11,
   "id": "90805e97",
   "metadata": {},
   "outputs": [],
   "source": [
    "def dir_der_autodiff(state, field, direction, loss_and_grad, iterations) :\n",
    "    output_forward, gradients = loss_and_grad(state, field, it=iterations)\n",
    "    analytical_dir_deriv = jnp.sum(gradients * direction)\n",
    "    return output_forward, analytical_dir_deriv"
   ]
  },
  {
   "cell_type": "code",
   "execution_count": 12,
   "id": "07fffee1-ccd9-409b-af48-f97c428d33ae",
   "metadata": {},
   "outputs": [
    {
     "name": "stdout",
     "output_type": "stream",
     "text": [
      "CPU times: user 1.93 s, sys: 56.7 ms, total: 1.99 s\n",
      "Wall time: 1.93 s\n"
     ]
    },
    {
     "data": {
      "text/plain": [
       "(Array(24.97432923, dtype=float64), Array(10121.03165375, dtype=float64))"
      ]
     },
     "execution_count": 12,
     "metadata": {},
     "output_type": "execute_result"
    }
   ],
   "source": [
    "%%time\n",
    "dir_der_autodiff(state, field, direction, loss_and_grad, iterations=2)"
   ]
  },
  {
   "cell_type": "code",
   "execution_count": null,
   "id": "d57bf7a0-9681-4812-b348-c1b7d9d3d32c",
   "metadata": {},
   "outputs": [],
   "source": []
  },
  {
   "cell_type": "code",
   "execution_count": 13,
   "id": "1290e96b-4246-42c6-af08-ae4f5ddff7b2",
   "metadata": {},
   "outputs": [],
   "source": [
    "\n",
    "class numerical_diff_tensor(autodiff) :\n",
    "\n",
    "    @staticmethod\n",
    "    def perturb(field, direction, epsilon= 1e-4) : \n",
    "        field_pert = field.copy() + epsilon * direction\n",
    "        return field_pert\n",
    "\n",
    "    def g(self, state, var_value, direction, iterations=1, epsilon=1e-9, **kwargs) :\n",
    "\n",
    "        forward = partial(autodiff.wrapper,\n",
    "                        state=state,\n",
    "                        step_fun=self.step_function,\n",
    "                        var_name=self.var_name,\n",
    "                        agg_func=self.agg_function,\n",
    "                        iter=iterations)\n",
    "\n",
    "        field_plus = self.perturb(var_value, direction, epsilon)\n",
    "        f_plus = forward(field_plus)\n",
    "        \n",
    "        field_minus = self.perturb(var_value, -direction, epsilon)\n",
    "        f_minus = forward(field_minus)\n",
    "        \n",
    "        numerical_dir_deriv = (f_plus - f_minus) / (2 * epsilon)\n",
    "\n",
    "        return (f_plus + f_minus)/2, numerical_dir_deriv\n",
    "        "
   ]
  },
  {
   "cell_type": "markdown",
   "id": "8d46ec74",
   "metadata": {},
   "source": [
    "Numerical diff"
   ]
  },
  {
   "cell_type": "code",
   "execution_count": 14,
   "id": "36890d08",
   "metadata": {},
   "outputs": [],
   "source": [
    "# Numerical directional derivative check for the full tensor\n",
    "\n",
    "ndm = numerical_diff_tensor(acc.step, agg_function, var_dev)\n",
    "\n",
    "ndm.step_function = jax.jit(ndm.step_function)\n",
    "ndm.agg_function = jax.jit(ndm.agg_function)"
   ]
  },
  {
   "cell_type": "code",
   "execution_count": 15,
   "id": "d895956c-3832-4659-8769-994b6967fb17",
   "metadata": {},
   "outputs": [
    {
     "name": "stdout",
     "output_type": "stream",
     "text": [
      "CPU times: user 17.2 s, sys: 349 ms, total: 17.6 s\n",
      "Wall time: 14.3 s\n"
     ]
    },
    {
     "data": {
      "text/plain": [
       "(Array(24.99473882, dtype=float64), Array(-8255.87879778, dtype=float64))"
      ]
     },
     "execution_count": 15,
     "metadata": {},
     "output_type": "execute_result"
    }
   ],
   "source": [
    "%%time\n",
    "ndm.g(state, field, direction, iterations=2, epsilon=1e-5)"
   ]
  },
  {
   "cell_type": "code",
   "execution_count": 69,
   "id": "1d13003c-1dd0-409e-9a37-ef99c9031656",
   "metadata": {},
   "outputs": [
    {
     "data": {
      "text/plain": [
       "Array(1., dtype=float64)"
      ]
     },
     "execution_count": 69,
     "metadata": {},
     "output_type": "execute_result"
    }
   ],
   "source": [
    "direction"
   ]
  },
  {
   "cell_type": "code",
   "execution_count": null,
   "id": "fdb545fa-521e-4c55-8c75-174d1bdca11f",
   "metadata": {},
   "outputs": [],
   "source": []
  },
  {
   "cell_type": "markdown",
   "id": "defdd344-9fb1-47e3-99a1-4898f772c1e2",
   "metadata": {},
   "source": [
    "# Precision vs. iteration"
   ]
  },
  {
   "cell_type": "code",
   "execution_count": null,
   "id": "f456fc7f-1a17-445c-a362-a467fc451399",
   "metadata": {},
   "outputs": [
    {
     "name": "stdout",
     "output_type": "stream",
     "text": [
      "{'n_iteration': 0, 'autodiff_loss': Array(2186947.96029149, dtype=float64), 'autodiff_grad': Array(2067.91708991, dtype=float64), 'numerical_loss': Array(2186947.9602915, dtype=float64), 'numerical_grad': Array(2067.91708944, dtype=float64)}\n",
      "{'n_iteration': 1, 'autodiff_loss': Array(2185782.44001271, dtype=float64), 'autodiff_grad': Array(2060.49872643, dtype=float64), 'numerical_loss': Array(2185782.44000242, dtype=float64), 'numerical_grad': Array(2060.48557768, dtype=float64)}\n",
      "{'n_iteration': 2, 'autodiff_loss': Array(2184658.30488528, dtype=float64), 'autodiff_grad': Array(2057.54693207, dtype=float64), 'numerical_loss': Array(2184658.31060665, dtype=float64), 'numerical_grad': Array(2057.69091379, dtype=float64)}\n",
      "{'n_iteration': 3, 'autodiff_loss': Array(2183527.05171483, dtype=float64), 'autodiff_grad': Array(2053.94086819, dtype=float64), 'numerical_loss': Array(2183527.05907912, dtype=float64), 'numerical_grad': Array(2053.60129941, dtype=float64)}\n",
      "{'n_iteration': 4, 'autodiff_loss': Array(2182397.52113257, dtype=float64), 'autodiff_grad': Array(2050.4279052, dtype=float64), 'numerical_loss': Array(2182397.51925839, dtype=float64), 'numerical_grad': Array(2064.07752819, dtype=float64)}\n",
      "{'n_iteration': 5, 'autodiff_loss': Array(2181301.45907567, dtype=float64), 'autodiff_grad': Array(2053.36416551, dtype=float64), 'numerical_loss': Array(2181301.44795565, dtype=float64), 'numerical_grad': Array(2057.74480244, dtype=float64)}\n",
      "{'n_iteration': 6, 'autodiff_loss': Array(2180202.60516445, dtype=float64), 'autodiff_grad': Array(2066.69861386, dtype=float64), 'numerical_loss': Array(2180202.5981054, dtype=float64), 'numerical_grad': Array(2049.1638314, dtype=float64)}\n",
      "{'n_iteration': 7, 'autodiff_loss': Array(2179103.61179979, dtype=float64), 'autodiff_grad': Array(2079.22615044, dtype=float64), 'numerical_loss': Array(2179103.59239312, dtype=float64), 'numerical_grad': Array(2043.76204871, dtype=float64)}\n",
      "{'n_iteration': 8, 'autodiff_loss': Array(2178008.57739354, dtype=float64), 'autodiff_grad': Array(2016.46256423, dtype=float64), 'numerical_loss': Array(2178008.534314, dtype=float64), 'numerical_grad': Array(2047.82995861, dtype=float64)}\n",
      "{'n_iteration': 9, 'autodiff_loss': Array(2176922.32579539, dtype=float64), 'autodiff_grad': Array(2119.80562835, dtype=float64), 'numerical_loss': Array(2176922.33027335, dtype=float64), 'numerical_grad': Array(2004.4383686, dtype=float64)}\n",
      "{'n_iteration': 10, 'autodiff_loss': Array(2175861.77109168, dtype=float64), 'autodiff_grad': Array(1593.82229578, dtype=float64), 'numerical_loss': Array(2175861.65881782, dtype=float64), 'numerical_grad': Array(2000.68348553, dtype=float64)}\n",
      "{'n_iteration': 11, 'autodiff_loss': Array(2174801.14144805, dtype=float64), 'autodiff_grad': Array(-3780.09589673, dtype=float64), 'numerical_loss': Array(2174801.00984079, dtype=float64), 'numerical_grad': Array(2040.78764422, dtype=float64)}\n",
      "{'n_iteration': 12, 'autodiff_loss': Array(2173742.07564356, dtype=float64), 'autodiff_grad': Array(-2348.37733065, dtype=float64), 'numerical_loss': Array(2173742.05380445, dtype=float64), 'numerical_grad': Array(2053.04423347, dtype=float64)}\n",
      "{'n_iteration': 13, 'autodiff_loss': Array(2172686.38831867, dtype=float64), 'autodiff_grad': Array(-16650.74884189, dtype=float64), 'numerical_loss': Array(2172686.26697323, dtype=float64), 'numerical_grad': Array(1932.39764776, dtype=float64)}\n",
      "{'n_iteration': 14, 'autodiff_loss': Array(2171634.47160091, dtype=float64), 'autodiff_grad': Array(169082.57413258, dtype=float64), 'numerical_loss': Array(2171634.32524388, dtype=float64), 'numerical_grad': Array(2090.6312298, dtype=float64)}\n",
      "{'n_iteration': 15, 'autodiff_loss': Array(2170585.845139, dtype=float64), 'autodiff_grad': Array(-351885.08557551, dtype=float64), 'numerical_loss': Array(2170585.72511792, dtype=float64), 'numerical_grad': Array(2145.03909461, dtype=float64)}\n",
      "{'n_iteration': 16, 'autodiff_loss': Array(2169543.16271214, dtype=float64), 'autodiff_grad': Array(-19664919.88107446, dtype=float64), 'numerical_loss': Array(2169543.04155742, dtype=float64), 'numerical_grad': Array(1830.89197148, dtype=float64)}\n",
      "{'n_iteration': 17, 'autodiff_loss': Array(2168513.86888973, dtype=float64), 'autodiff_grad': Array(1496375.04856278, dtype=float64), 'numerical_loss': Array(2168513.58922951, dtype=float64), 'numerical_grad': Array(2136.37387613, dtype=float64)}\n",
      "{'n_iteration': 18, 'autodiff_loss': Array(2167507.2073623, dtype=float64), 'autodiff_grad': Array(3.45150536e+08, dtype=float64), 'numerical_loss': Array(2167507.09307598, dtype=float64), 'numerical_grad': Array(1836.02309786, dtype=float64)}\n"
     ]
    }
   ],
   "source": [
    "stats = []\n",
    "\n",
    "for nitt in range(100) :\n",
    "    s = {'n_iteration' : nitt}\n",
    "    s['autodiff_loss'], s['autodiff_grad'] = dir_der_autodiff(state, field, direction, loss_and_grad, iterations=nitt)\n",
    "    \n",
    "    s['numerical_loss'], s['numerical_grad'] = ndm.g(state, field, direction, iterations=nitt, epsilon=1e-4)\n",
    "    stats.append(s)\n",
    "    print(s)"
   ]
  },
  {
   "cell_type": "code",
   "execution_count": 154,
   "id": "019fa905-07da-44e0-a8e9-4eb4b23dce4d",
   "metadata": {},
   "outputs": [],
   "source": [
    "stats = pd.DataFrame(stats)\n",
    "stats = stats.melt(id_vars='n_iteration')\n",
    "stats['value'] = stats['value'].apply(lambda x : x.item())\n",
    "stats_g =stats.pivot(columns='variable', index='n_iteration', values='value').reset_index()\n",
    "stats_g['accuracy'] = 1 - np.abs((stats_g['autodiff_grad'] - stats_g['numerical_grad'])/stats_g['numerical_grad'])"
   ]
  },
  {
   "cell_type": "code",
   "execution_count": 155,
   "id": "4c62a5dd-c184-43db-9d53-2654350623b6",
   "metadata": {},
   "outputs": [],
   "source": []
  },
  {
   "cell_type": "code",
   "execution_count": 156,
   "id": "c13f2d2c-3c2c-4f93-8028-333d201b47cd",
   "metadata": {},
   "outputs": [],
   "source": []
  },
  {
   "cell_type": "code",
   "execution_count": 157,
   "id": "8f494235-6836-432e-a1a8-93800e3602c8",
   "metadata": {},
   "outputs": [],
   "source": []
  },
  {
   "cell_type": "code",
   "execution_count": 164,
   "id": "df69552f-6b23-425b-8cee-d9d57ddaf682",
   "metadata": {},
   "outputs": [],
   "source": []
  },
  {
   "cell_type": "code",
   "execution_count": null,
   "id": "32bcda18-fea9-4a29-ad3c-6301642a41e8",
   "metadata": {},
   "outputs": [],
   "source": []
  },
  {
   "cell_type": "code",
   "execution_count": 165,
   "id": "f70d1361-b5a4-47a1-a2bf-30de9553a457",
   "metadata": {},
   "outputs": [],
   "source": [
    "stats_gf =  stats_g.melt(id_vars='n_iteration')"
   ]
  },
  {
   "cell_type": "code",
   "execution_count": 168,
   "id": "e936a7de-1cce-4239-8a37-2a2feb6949b3",
   "metadata": {},
   "outputs": [
    {
     "data": {
      "text/html": [
       "<div>\n",
       "<style scoped>\n",
       "    .dataframe tbody tr th:only-of-type {\n",
       "        vertical-align: middle;\n",
       "    }\n",
       "\n",
       "    .dataframe tbody tr th {\n",
       "        vertical-align: top;\n",
       "    }\n",
       "\n",
       "    .dataframe thead th {\n",
       "        text-align: right;\n",
       "    }\n",
       "</style>\n",
       "<table border=\"1\" class=\"dataframe\">\n",
       "  <thead>\n",
       "    <tr style=\"text-align: right;\">\n",
       "      <th></th>\n",
       "      <th>n_iteration</th>\n",
       "      <th>variable</th>\n",
       "      <th>value</th>\n",
       "    </tr>\n",
       "  </thead>\n",
       "  <tbody>\n",
       "    <tr>\n",
       "      <th>0</th>\n",
       "      <td>0</td>\n",
       "      <td>autodiff_grad</td>\n",
       "      <td>2.067917e+03</td>\n",
       "    </tr>\n",
       "    <tr>\n",
       "      <th>1</th>\n",
       "      <td>1</td>\n",
       "      <td>autodiff_grad</td>\n",
       "      <td>2.060499e+03</td>\n",
       "    </tr>\n",
       "    <tr>\n",
       "      <th>2</th>\n",
       "      <td>2</td>\n",
       "      <td>autodiff_grad</td>\n",
       "      <td>2.057547e+03</td>\n",
       "    </tr>\n",
       "    <tr>\n",
       "      <th>3</th>\n",
       "      <td>3</td>\n",
       "      <td>autodiff_grad</td>\n",
       "      <td>2.053941e+03</td>\n",
       "    </tr>\n",
       "    <tr>\n",
       "      <th>4</th>\n",
       "      <td>4</td>\n",
       "      <td>autodiff_grad</td>\n",
       "      <td>2.050428e+03</td>\n",
       "    </tr>\n",
       "    <tr>\n",
       "      <th>5</th>\n",
       "      <td>0</td>\n",
       "      <td>autodiff_loss</td>\n",
       "      <td>2.186948e+06</td>\n",
       "    </tr>\n",
       "    <tr>\n",
       "      <th>6</th>\n",
       "      <td>1</td>\n",
       "      <td>autodiff_loss</td>\n",
       "      <td>2.185782e+06</td>\n",
       "    </tr>\n",
       "    <tr>\n",
       "      <th>7</th>\n",
       "      <td>2</td>\n",
       "      <td>autodiff_loss</td>\n",
       "      <td>2.184658e+06</td>\n",
       "    </tr>\n",
       "    <tr>\n",
       "      <th>8</th>\n",
       "      <td>3</td>\n",
       "      <td>autodiff_loss</td>\n",
       "      <td>2.183527e+06</td>\n",
       "    </tr>\n",
       "    <tr>\n",
       "      <th>9</th>\n",
       "      <td>4</td>\n",
       "      <td>autodiff_loss</td>\n",
       "      <td>2.182398e+06</td>\n",
       "    </tr>\n",
       "    <tr>\n",
       "      <th>10</th>\n",
       "      <td>0</td>\n",
       "      <td>numerical_grad</td>\n",
       "      <td>2.067917e+03</td>\n",
       "    </tr>\n",
       "    <tr>\n",
       "      <th>11</th>\n",
       "      <td>1</td>\n",
       "      <td>numerical_grad</td>\n",
       "      <td>2.060486e+03</td>\n",
       "    </tr>\n",
       "    <tr>\n",
       "      <th>12</th>\n",
       "      <td>2</td>\n",
       "      <td>numerical_grad</td>\n",
       "      <td>2.057691e+03</td>\n",
       "    </tr>\n",
       "    <tr>\n",
       "      <th>13</th>\n",
       "      <td>3</td>\n",
       "      <td>numerical_grad</td>\n",
       "      <td>2.053601e+03</td>\n",
       "    </tr>\n",
       "    <tr>\n",
       "      <th>14</th>\n",
       "      <td>4</td>\n",
       "      <td>numerical_grad</td>\n",
       "      <td>2.064078e+03</td>\n",
       "    </tr>\n",
       "    <tr>\n",
       "      <th>15</th>\n",
       "      <td>0</td>\n",
       "      <td>numerical_loss</td>\n",
       "      <td>2.186948e+06</td>\n",
       "    </tr>\n",
       "    <tr>\n",
       "      <th>16</th>\n",
       "      <td>1</td>\n",
       "      <td>numerical_loss</td>\n",
       "      <td>2.185782e+06</td>\n",
       "    </tr>\n",
       "    <tr>\n",
       "      <th>17</th>\n",
       "      <td>2</td>\n",
       "      <td>numerical_loss</td>\n",
       "      <td>2.184658e+06</td>\n",
       "    </tr>\n",
       "    <tr>\n",
       "      <th>18</th>\n",
       "      <td>3</td>\n",
       "      <td>numerical_loss</td>\n",
       "      <td>2.183527e+06</td>\n",
       "    </tr>\n",
       "    <tr>\n",
       "      <th>19</th>\n",
       "      <td>4</td>\n",
       "      <td>numerical_loss</td>\n",
       "      <td>2.182398e+06</td>\n",
       "    </tr>\n",
       "    <tr>\n",
       "      <th>20</th>\n",
       "      <td>0</td>\n",
       "      <td>accuracy</td>\n",
       "      <td>1.000000e+00</td>\n",
       "    </tr>\n",
       "    <tr>\n",
       "      <th>21</th>\n",
       "      <td>1</td>\n",
       "      <td>accuracy</td>\n",
       "      <td>9.999936e-01</td>\n",
       "    </tr>\n",
       "    <tr>\n",
       "      <th>22</th>\n",
       "      <td>2</td>\n",
       "      <td>accuracy</td>\n",
       "      <td>9.999300e-01</td>\n",
       "    </tr>\n",
       "    <tr>\n",
       "      <th>23</th>\n",
       "      <td>3</td>\n",
       "      <td>accuracy</td>\n",
       "      <td>9.998346e-01</td>\n",
       "    </tr>\n",
       "    <tr>\n",
       "      <th>24</th>\n",
       "      <td>4</td>\n",
       "      <td>accuracy</td>\n",
       "      <td>9.933871e-01</td>\n",
       "    </tr>\n",
       "  </tbody>\n",
       "</table>\n",
       "</div>"
      ],
      "text/plain": [
       "    n_iteration        variable         value\n",
       "0             0   autodiff_grad  2.067917e+03\n",
       "1             1   autodiff_grad  2.060499e+03\n",
       "2             2   autodiff_grad  2.057547e+03\n",
       "3             3   autodiff_grad  2.053941e+03\n",
       "4             4   autodiff_grad  2.050428e+03\n",
       "5             0   autodiff_loss  2.186948e+06\n",
       "6             1   autodiff_loss  2.185782e+06\n",
       "7             2   autodiff_loss  2.184658e+06\n",
       "8             3   autodiff_loss  2.183527e+06\n",
       "9             4   autodiff_loss  2.182398e+06\n",
       "10            0  numerical_grad  2.067917e+03\n",
       "11            1  numerical_grad  2.060486e+03\n",
       "12            2  numerical_grad  2.057691e+03\n",
       "13            3  numerical_grad  2.053601e+03\n",
       "14            4  numerical_grad  2.064078e+03\n",
       "15            0  numerical_loss  2.186948e+06\n",
       "16            1  numerical_loss  2.185782e+06\n",
       "17            2  numerical_loss  2.184658e+06\n",
       "18            3  numerical_loss  2.183527e+06\n",
       "19            4  numerical_loss  2.182398e+06\n",
       "20            0        accuracy  1.000000e+00\n",
       "21            1        accuracy  9.999936e-01\n",
       "22            2        accuracy  9.999300e-01\n",
       "23            3        accuracy  9.998346e-01\n",
       "24            4        accuracy  9.933871e-01"
      ]
     },
     "execution_count": 168,
     "metadata": {},
     "output_type": "execute_result"
    }
   ],
   "source": [
    "stats_gf"
   ]
  },
  {
   "cell_type": "code",
   "execution_count": 172,
   "id": "f5d7dccd-f125-4205-ba43-6f7dc9b2abe9",
   "metadata": {},
   "outputs": [
    {
     "data": {
      "text/plain": [
       "Text(0.5, 0, 'Number of iterations')"
      ]
     },
     "execution_count": 172,
     "metadata": {},
     "output_type": "execute_result"
    },
    {
     "data": {
      "image/png": "[encoded data removed]",
      "text/plain": [
       "<Figure size 1500x500 with 2 Axes>"
      ]
     },
     "metadata": {},
     "output_type": "display_data"
    }
   ],
   "source": [
    "fig, axs = plt.subplots(1,2, figsize=(15,5))\n",
    "sns.lineplot(data=stats_gf.query('n_iteration < 5 and variable != \"accuracy\" and variable.str.contains(\"grad\")', engine='python'),\n",
    "             x='n_iteration', y='value', hue='variable', ax=axs[0])\n",
    "axs[0].set_title('Directional derivative value')\n",
    "axs[0].set_xlabel('Number of iterations')\n",
    "sns.lineplot(data=stats_gf.query('n_iteration < 5 and variable == \"accuracy\"'),\n",
    "             x='n_iteration', y='value', ax=axs[1])\n",
    "axs[1].set_title('Accuracy directional derivative')\n",
    "axs[1].set_ylim([0,1.1])\n",
    "axs[1].set_xlabel('Number of iterations')\n",
    "#fig.savefig(f'figures/directional_derivative_accuracy_{datetime.now().strftime(\"%d%m%y\")}.png')"
   ]
  },
  {
   "cell_type": "code",
   "execution_count": 171,
   "id": "3a7a9972-1c74-4783-8ed8-78256f0f1320",
   "metadata": {},
   "outputs": [
    {
     "data": {
      "text/html": [
       "<div>\n",
       "<style scoped>\n",
       "    .dataframe tbody tr th:only-of-type {\n",
       "        vertical-align: middle;\n",
       "    }\n",
       "\n",
       "    .dataframe tbody tr th {\n",
       "        vertical-align: top;\n",
       "    }\n",
       "\n",
       "    .dataframe thead th {\n",
       "        text-align: right;\n",
       "    }\n",
       "</style>\n",
       "<table border=\"1\" class=\"dataframe\">\n",
       "  <thead>\n",
       "    <tr style=\"text-align: right;\">\n",
       "      <th></th>\n",
       "      <th>n_iteration</th>\n",
       "      <th>variable</th>\n",
       "      <th>value</th>\n",
       "    </tr>\n",
       "  </thead>\n",
       "  <tbody>\n",
       "    <tr>\n",
       "      <th>0</th>\n",
       "      <td>0</td>\n",
       "      <td>autodiff_grad</td>\n",
       "      <td>2067.917090</td>\n",
       "    </tr>\n",
       "    <tr>\n",
       "      <th>1</th>\n",
       "      <td>1</td>\n",
       "      <td>autodiff_grad</td>\n",
       "      <td>2060.498726</td>\n",
       "    </tr>\n",
       "    <tr>\n",
       "      <th>2</th>\n",
       "      <td>2</td>\n",
       "      <td>autodiff_grad</td>\n",
       "      <td>2057.546932</td>\n",
       "    </tr>\n",
       "    <tr>\n",
       "      <th>3</th>\n",
       "      <td>3</td>\n",
       "      <td>autodiff_grad</td>\n",
       "      <td>2053.940868</td>\n",
       "    </tr>\n",
       "    <tr>\n",
       "      <th>4</th>\n",
       "      <td>4</td>\n",
       "      <td>autodiff_grad</td>\n",
       "      <td>2050.427905</td>\n",
       "    </tr>\n",
       "    <tr>\n",
       "      <th>10</th>\n",
       "      <td>0</td>\n",
       "      <td>numerical_grad</td>\n",
       "      <td>2067.917089</td>\n",
       "    </tr>\n",
       "    <tr>\n",
       "      <th>11</th>\n",
       "      <td>1</td>\n",
       "      <td>numerical_grad</td>\n",
       "      <td>2060.485578</td>\n",
       "    </tr>\n",
       "    <tr>\n",
       "      <th>12</th>\n",
       "      <td>2</td>\n",
       "      <td>numerical_grad</td>\n",
       "      <td>2057.690914</td>\n",
       "    </tr>\n",
       "    <tr>\n",
       "      <th>13</th>\n",
       "      <td>3</td>\n",
       "      <td>numerical_grad</td>\n",
       "      <td>2053.601299</td>\n",
       "    </tr>\n",
       "    <tr>\n",
       "      <th>14</th>\n",
       "      <td>4</td>\n",
       "      <td>numerical_grad</td>\n",
       "      <td>2064.077528</td>\n",
       "    </tr>\n",
       "  </tbody>\n",
       "</table>\n",
       "</div>"
      ],
      "text/plain": [
       "    n_iteration        variable        value\n",
       "0             0   autodiff_grad  2067.917090\n",
       "1             1   autodiff_grad  2060.498726\n",
       "2             2   autodiff_grad  2057.546932\n",
       "3             3   autodiff_grad  2053.940868\n",
       "4             4   autodiff_grad  2050.427905\n",
       "10            0  numerical_grad  2067.917089\n",
       "11            1  numerical_grad  2060.485578\n",
       "12            2  numerical_grad  2057.690914\n",
       "13            3  numerical_grad  2053.601299\n",
       "14            4  numerical_grad  2064.077528"
      ]
     },
     "execution_count": 171,
     "metadata": {},
     "output_type": "execute_result"
    }
   ],
   "source": [
    "stats_gf.query('n_iteration < 5 and variable != \"accuracy\" and variable.str.contains(\"grad\")', engine='python')"
   ]
  },
  {
   "cell_type": "code",
   "execution_count": null,
   "id": "bab8ea39-2dae-4709-b3da-219f7ae52358",
   "metadata": {},
   "outputs": [],
   "source": [
    "w"
   ]
  }
 ],
 "metadata": {
  "kernelspec": {
   "display_name": "Python (verosenv_kernel)",
   "language": "python",
   "name": "verosenv"
  },
  "language_info": {
   "codemirror_mode": {
    "name": "ipython",
    "version": 3
   },
   "file_extension": ".py",
   "mimetype": "text/x-python",
   "name": "python",
   "nbconvert_exporter": "python",
   "pygments_lexer": "ipython3",
   "version": "3.12.4"
  }
 },
 "nbformat": 4,
 "nbformat_minor": 5
}
