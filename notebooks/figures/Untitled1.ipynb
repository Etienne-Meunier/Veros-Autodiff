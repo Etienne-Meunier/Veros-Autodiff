{
 "cells": [
  {
   "cell_type": "code",
   "execution_count": null,
   "id": "b5189e79-8dd6-46b0-ad20-c393676fa610",
   "metadata": {},
   "outputs": [],
   "source": []
  }
 ],
 "metadata": {
  "kernelspec": {
   "display_name": "Bash",
   "language": "bash",
   "name": "bash"
  },
  "language_info": {
   "codemirror_mode": "shell",
   "file_extension": ".sh",
   "mimetype": "text/x-sh",
   "name": "bash"
  }
 },
 "nbformat": 4,
 "nbformat_minor": 5
}
