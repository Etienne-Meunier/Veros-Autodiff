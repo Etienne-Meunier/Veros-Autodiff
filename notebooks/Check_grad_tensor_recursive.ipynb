{
 "cells": [
  {
   "cell_type": "code",
   "execution_count": 1,
   "id": "d9d04bff",
   "metadata": {},
   "outputs": [],
   "source": [
    "from __init__ import PRP; import sys\n",
    "sys.path.append(PRP + 'veros/')\n",
    "\n",
    "from datetime import datetime\n",
    "from jax import config\n",
    "config.update(\"jax_enable_x64\", True)"
   ]
  },
  {
   "cell_type": "code",
   "execution_count": 2,
   "id": "f736a940-c4a9-47a5-acf7-978130ea4116",
   "metadata": {},
   "outputs": [
    {
     "name": "stdout",
     "output_type": "stream",
     "text": [
      "/Users/emeunier/Desktop/Projets/Veros-Autodiff/\n",
      "Differentiable Veros Experimental version\n",
      "Importing core modules\n",
      " Using computational backend jax on cpu\n",
      "  Kernels are compiled during first iteration, be patient\n",
      " Runtime settings are now locked\n",
      "\n"
     ]
    }
   ],
   "source": [
    "\n",
    "sys.path.append(PRP)\n",
    "\n",
    "from scripts.grad_compare import *\n",
    "from scripts.utils import *\n",
    "\n",
    "from setups.acc.acc_learning import ACCSetup\n",
    "from tqdm import tqdm\n",
    "import gc \n",
    "import pandas as pd\n",
    "import seaborn as sns\n",
    "import matplotlib.pyplot as plt\n",
    "import seaborn as sn\n",
    "\n",
    "from jax import lax"
   ]
  },
  {
   "cell_type": "markdown",
   "id": "26d41313-9a89-408f-8873-4efe43610c1c",
   "metadata": {},
   "source": [
    "# Spin-up"
   ]
  },
  {
   "cell_type": "code",
   "execution_count": 3,
   "id": "e0a542ad",
   "metadata": {},
   "outputs": [
    {
     "name": "stdout",
     "output_type": "stream",
     "text": [
      "Running model setup\n",
      "Diffusion grid factor delta_iso1 = 0.01942284820457075\n",
      "Running model setup\n",
      "Diffusion grid factor delta_iso1 = 0.01942284820457075\n"
     ]
    },
    {
     "name": "stderr",
     "output_type": "stream",
     "text": [
      "100%|██████████| 200/200 [00:08<00:00, 24.32it/s]\n"
     ]
    }
   ],
   "source": [
    "# Spin-up \n",
    "warmup_steps = 200\n",
    "acc = ACCSetup()\n",
    "acc.setup()\n",
    "\n",
    "\n",
    "def ps(state) : \n",
    "    n_state = state.copy()\n",
    "    acc.step(n_state)\n",
    "    return n_state\n",
    "\n",
    "# Spin-up \n",
    "acc = ACCSetup()\n",
    "acc.setup()\n",
    "\n",
    "step_jit = jax.jit(ps)\n",
    "\n",
    "state = acc.state.copy()\n",
    "for step in tqdm(range(warmup_steps)) :\n",
    "    state = step_jit(state)"
   ]
  },
  {
   "cell_type": "markdown",
   "id": "9e2c6d43",
   "metadata": {},
   "source": [
    "Backward vjp - Directional Gradients"
   ]
  },
  {
   "cell_type": "markdown",
   "id": "03b5f7cb-f685-4128-b411-1a62536e7bf6",
   "metadata": {},
   "source": [
    "# Methods"
   ]
  },
  {
   "cell_type": "markdown",
   "id": "505bc50f-9df9-47de-84db-44919c8baa22",
   "metadata": {},
   "source": [
    "### Setup Comparison"
   ]
  },
  {
   "cell_type": "code",
   "execution_count": 4,
   "id": "eac8e7b4-8f19-4cc2-aea1-de472c1b5df5",
   "metadata": {},
   "outputs": [],
   "source": [
    "var_dev = 'temp'\n",
    "random = 'normal'\n",
    "\n",
    "direction = jnp.zeros_like(getattr(state.variables, var_dev))\n",
    "if random == 'normal' :\n",
    "    direction = jax.random.normal(jax.random.PRNGKey(0), direction.shape)\n",
    "elif random == 'uniform' :\n",
    "    direction = jax.random.uniform(jax.random.PRNGKey(0), direction.shape)\n",
    "elif random == 'ones' :\n",
    "    direction = jnp.ones_like(direction)\n",
    "\n",
    "\n",
    "direction = direction / jnp.linalg.norm(direction)"
   ]
  },
  {
   "cell_type": "code",
   "execution_count": 5,
   "id": "a2a2d9c2-a449-494d-bacf-a0bbf08477a0",
   "metadata": {},
   "outputs": [],
   "source": [
    "state = state.copy()\n",
    "field = getattr(state.variables, var_dev)"
   ]
  },
  {
   "cell_type": "code",
   "execution_count": 6,
   "id": "c67f5026-fe37-4252-8ff3-d7eae5cdee2f",
   "metadata": {},
   "outputs": [],
   "source": [
    "var_agg = 'temp'\n",
    "def agg_sum(state, key_sum = 'temp') :\n",
    "    tau = getattr(state.variables, 'tau')\n",
    "    return ((getattr(state.variables, key_sum))**2).sum()\n",
    "    \n",
    "agg_function = lambda state : agg_sum(state, key_sum=var_agg)"
   ]
  },
  {
   "cell_type": "markdown",
   "id": "3e57fc79-52eb-44f9-aeb8-01ffba5d87a2",
   "metadata": {},
   "source": [
    "1. VJP Recursive "
   ]
  },
  {
   "cell_type": "code",
   "execution_count": 7,
   "id": "c2a1d09d-1f2e-428e-90a9-bbd4a12991b8",
   "metadata": {},
   "outputs": [],
   "source": [
    "vjpm = vjp_grad(acc.step, agg_function, var_dev)\n",
    "\n",
    "vjpm.step_function = jax.jit(vjpm.step_function)\n",
    "vjpm.agg_function = jax.jit(vjpm.agg_function)\n",
    "\n",
    "loss_and_grad = lambda s, v, it: vjpm.g(s, v, iterations=it)"
   ]
  },
  {
   "cell_type": "code",
   "execution_count": 8,
   "id": "90805e97",
   "metadata": {},
   "outputs": [],
   "source": [
    "def dir_der_autodiff(state, field, direction, loss_and_grad, iterations) :\n",
    "    output_forward, gradients = loss_and_grad(state, field, it=iterations)\n",
    "    analytical_dir_deriv = jnp.sum(gradients * direction)\n",
    "    return output_forward, analytical_dir_deriv"
   ]
  },
  {
   "cell_type": "code",
   "execution_count": null,
   "id": "07fffee1-ccd9-409b-af48-f97c428d33ae",
   "metadata": {},
   "outputs": [],
   "source": [
    "%%time\n",
    "\n",
    "dir_der_autodiff(state, field, direction, loss_and_grad, iterations=3)"
   ]
  },
  {
   "cell_type": "code",
   "execution_count": null,
   "id": "f96af379",
   "metadata": {},
   "outputs": [
    {
     "name": "stdout",
     "output_type": "stream",
     "text": [
      "CPU times: user 1.26 s, sys: 264 ms, total: 1.52 s\n",
      "Wall time: 1.37 s\n"
     ]
    },
    {
     "data": {
      "text/plain": [
       "(Array(6180577.0211651, dtype=float64), Array(-13.73019202, dtype=float64))"
      ]
     },
     "execution_count": 10,
     "metadata": {},
     "output_type": "execute_result"
    }
   ],
   "source": [
    "%%time\n",
    "\n",
    "dir_der_autodiff(state, field, direction, loss_and_grad, iterations=3)"
   ]
  },
  {
   "cell_type": "markdown",
   "id": "199c72bc-bfb0-4cf9-9e35-e7ab7b22187d",
   "metadata": {},
   "source": [
    "1. ter : loop storing the states"
   ]
  },
  {
   "cell_type": "code",
   "execution_count": null,
   "id": "862325f7-36d0-481e-99fa-613209334731",
   "metadata": {},
   "outputs": [],
   "source": [
    "class vjp_grad_gpu_loop(autodiff):\n",
    "    def g(self, state, var_value, iterations=1, **kwargs):\n",
    "        n_state = autodiff.set_var(self.var_name, state, var_value)\n",
    "\n",
    "        # --- Forward pass: store states ---\n",
    "        states = [n_state]\n",
    "        current_state = n_state\n",
    "        for _ in range(iterations):\n",
    "            current_state = self.step_function(current_state)\n",
    "            states.append(current_state)\n",
    "\n",
    "        # --- Aggregation ---\n",
    "        l, vjp_agg = jax.vjp(self.agg_function, current_state)\n",
    "        ds, = vjp_agg(jnp.ones_like(l))\n",
    "\n",
    "        # --- Backward pass (reverse loop over states) ---\n",
    "        for state in reversed(states[:-1]):\n",
    "            _, vjp_fun = jax.vjp(self.step_function, state)\n",
    "            ds, = vjp_fun(ds)\n",
    "\n",
    "        grad = attrgetter(f'variables.{self.var_name}')(ds)\n",
    "        return l, grad"
   ]
  },
  {
   "cell_type": "code",
   "execution_count": null,
   "id": "88b74646-4025-4eed-bc8c-f28124ea824c",
   "metadata": {},
   "outputs": [],
   "source": [
    "vjpm_t = vjp_grad_gpu_loop(acc.step, agg_function, var_dev)\n",
    "\n",
    "vjpm_t.step_function = jax.jit(vjpm_t.step_function)\n",
    "vjpm_t.agg_function = jax.jit(vjpm_t.agg_function)\n",
    "\n",
    "loss_and_grad_t = lambda s, v, it: vjpm_t.g(s, v, iterations=it)"
   ]
  },
  {
   "cell_type": "code",
   "execution_count": null,
   "id": "85001151-2781-4fa7-8971-66318517bae6",
   "metadata": {},
   "outputs": [
    {
     "name": "stdout",
     "output_type": "stream",
     "text": [
      "CPU times: user 3.78 s, sys: 4.42 ms, total: 3.78 s\n",
      "Wall time: 3.74 s\n"
     ]
    },
    {
     "data": {
      "text/plain": [
       "(Array(6180577.08618217, dtype=float64), Array(-231.45024873, dtype=float64))"
      ]
     },
     "execution_count": 53,
     "metadata": {},
     "output_type": "execute_result"
    }
   ],
   "source": [
    "%%time\n",
    "dir_der_autodiff(state, field, direction, loss_and_grad_t, iterations=3)"
   ]
  },
  {
   "cell_type": "code",
   "execution_count": null,
   "id": "579b1faf",
   "metadata": {},
   "outputs": [],
   "source": [
    "%%time\n",
    "dir_der_autodiff(state, field, direction, loss_and_grad_t, iterations=3)"
   ]
  },
  {
   "cell_type": "markdown",
   "id": "b2191ffe-5e2b-44c0-88a2-abeb458161e8",
   "metadata": {},
   "source": [
    "2. VJP New"
   ]
  },
  {
   "cell_type": "code",
   "execution_count": 12,
   "id": "d57bf7a0-9681-4812-b348-c1b7d9d3d32c",
   "metadata": {},
   "outputs": [],
   "source": [
    "vjpm_n = vjp_grad_new(acc.step, agg_function, var_dev)\n",
    "\n",
    "vjpm_n.step_function = jax.jit(vjpm_n.step_function)\n",
    "vjpm_n.agg_function = jax.jit(vjpm_n.agg_function)\n",
    "\n",
    "loss_and_grad_n = lambda s, v, it: vjpm_n.g(s, v, iterations=it)"
   ]
  },
  {
   "cell_type": "code",
   "execution_count": 24,
   "id": "c4c2d856-7cad-4bfb-ad74-9caca55b08e7",
   "metadata": {},
   "outputs": [
    {
     "name": "stdout",
     "output_type": "stream",
     "text": [
      "CPU times: user 776 ms, sys: 15.8 ms, total: 792 ms\n",
      "Wall time: 784 ms\n"
     ]
    },
    {
     "data": {
      "text/plain": [
       "(Array(6180577.01509026, dtype=float64), Array(-13.62317771, dtype=float64))"
      ]
     },
     "execution_count": 24,
     "metadata": {},
     "output_type": "execute_result"
    }
   ],
   "source": [
    "%%time\n",
    "dir_der_autodiff(state, field, direction, loss_and_grad_n, iterations=3)"
   ]
  },
  {
   "cell_type": "code",
   "execution_count": 25,
   "id": "a1d730e4-89e6-4ee4-9420-d1fa3b3f46a3",
   "metadata": {},
   "outputs": [
    {
     "name": "stdout",
     "output_type": "stream",
     "text": [
      "CPU times: user 1min 24s, sys: 1.95 s, total: 1min 26s\n",
      "Wall time: 1min 33s\n"
     ]
    },
    {
     "data": {
      "text/plain": [
       "(Array(6170707.05205291, dtype=float64), Array(2898.15912485, dtype=float64))"
      ]
     },
     "execution_count": 25,
     "metadata": {},
     "output_type": "execute_result"
    }
   ],
   "source": [
    "%%time\n",
    "dir_der_autodiff(state, field, direction, loss_and_grad_n, iterations=10)"
   ]
  },
  {
   "cell_type": "markdown",
   "id": "f573b607",
   "metadata": {},
   "source": [
    "2bis. VJP New + Remat"
   ]
  },
  {
   "cell_type": "markdown",
   "id": "0276a17f",
   "metadata": {},
   "source": [
    "vjpm_nr = vjp_grad_new(acc.step, agg_function, var_dev)\n",
    "\n",
    "vjpm_nr.step_function = jax.jit(vjpm_nr.step_function)\n",
    "vjpm_nr.agg_function = jax.jit(vjpm_nr.agg_function)\n",
    "\n",
    "loss_and_grad_n = lambda s, v, it: vjpm_nr.g(s, v, iterations=it)"
   ]
  },
  {
   "cell_type": "markdown",
   "id": "e82dbcba-54bd-4031-a396-b39e0ca42f74",
   "metadata": {},
   "source": [
    "3. Numerical Diff"
   ]
  },
  {
   "cell_type": "code",
   "execution_count": 40,
   "id": "1290e96b-4246-42c6-af08-ae4f5ddff7b2",
   "metadata": {},
   "outputs": [],
   "source": [
    "class numerical_diff_tensor(autodiff) :\n",
    "\n",
    "    @staticmethod\n",
    "    def perturb(field, direction, epsilon= 1e-4) : \n",
    "        field_pert = field.copy() + epsilon * direction\n",
    "        return field_pert\n",
    "\n",
    "    def g(self, state, var_value, direction, iterations=1, epsilon=1e-9, **kwargs) :\n",
    "\n",
    "        forward = partial(autodiff.wrapper,\n",
    "                        state=state,\n",
    "                        step_fun=self.step_function,\n",
    "                        var_name=self.var_name,\n",
    "                        agg_func=self.agg_function,\n",
    "                        iter=iterations)\n",
    "\n",
    "        field_plus = self.perturb(var_value, direction, epsilon)\n",
    "        f_plus = forward(field_plus)\n",
    "        \n",
    "        field_minus = self.perturb(var_value, -direction, epsilon)\n",
    "        f_minus = forward(field_minus)\n",
    "        \n",
    "        numerical_dir_deriv = (f_plus - f_minus) / (2 * epsilon)\n",
    "\n",
    "        return (f_plus + f_minus)/2, numerical_dir_deriv"
   ]
  },
  {
   "cell_type": "code",
   "execution_count": 41,
   "id": "36890d08",
   "metadata": {},
   "outputs": [],
   "source": [
    "# Numerical directional derivative check for the full tensor\n",
    "\n",
    "ndm = numerical_diff_tensor(acc.step, agg_function, var_dev)\n",
    "\n",
    "ndm.step_function = jax.jit(ndm.step_function)\n",
    "ndm.agg_function = jax.jit(ndm.agg_function)"
   ]
  },
  {
   "cell_type": "code",
   "execution_count": 42,
   "id": "d895956c-3832-4659-8769-994b6967fb17",
   "metadata": {},
   "outputs": [
    {
     "name": "stdout",
     "output_type": "stream",
     "text": [
      "CPU times: user 13.8 s, sys: 235 ms, total: 14 s\n",
      "Wall time: 11.9 s\n"
     ]
    },
    {
     "data": {
      "text/plain": [
       "(Array(6180577.08618217, dtype=float64), Array(-13.96983862, dtype=float64))"
      ]
     },
     "execution_count": 42,
     "metadata": {},
     "output_type": "execute_result"
    }
   ],
   "source": [
    "%%time\n",
    "ndm.g(state, field, direction, iterations=3, epsilon=1e-9)"
   ]
  },
  {
   "cell_type": "markdown",
   "id": "defdd344-9fb1-47e3-99a1-4898f772c1e2",
   "metadata": {},
   "source": [
    "# Precision vs. iteration"
   ]
  },
  {
   "cell_type": "code",
   "execution_count": 85,
   "id": "f456fc7f-1a17-445c-a362-a467fc451399",
   "metadata": {},
   "outputs": [
    {
     "name": "stdout",
     "output_type": "stream",
     "text": [
      "{'n_iteration': 0, 'device': 'cpu', 'autodiff_loss': Array(6184714.32963765, dtype=float64), 'autodiff_grad': Array(-10.44907478, dtype=float64), 'numerical_loss': Array(6184714.32963767, dtype=float64), 'numerical_grad': Array(-10.44917852, dtype=float64)}\n",
      "{'n_iteration': 1, 'device': 'cpu', 'autodiff_loss': Array(6183304.63660689, dtype=float64), 'autodiff_grad': Array(-0.81549404, dtype=float64), 'numerical_loss': Array(6183304.63660692, dtype=float64), 'numerical_grad': Array(-0.81567559, dtype=float64)}\n",
      "{'n_iteration': 2, 'device': 'cpu', 'autodiff_loss': Array(6181931.29426615, dtype=float64), 'autodiff_grad': Array(-12.49582405, dtype=float64), 'numerical_loss': Array(6181931.29427488, dtype=float64), 'numerical_grad': Array(-12.48237211, dtype=float64)}\n",
      "{'n_iteration': 3, 'device': 'cpu', 'autodiff_loss': Array(6180577.09823968, dtype=float64), 'autodiff_grad': Array(-13.69720604, dtype=float64), 'numerical_loss': Array(6180577.09827205, dtype=float64), 'numerical_grad': Array(-13.59954011, dtype=float64)}\n",
      "{'n_iteration': 4, 'device': 'cpu', 'autodiff_loss': Array(6179200.19826595, dtype=float64), 'autodiff_grad': Array(-12.72644449, dtype=float64), 'numerical_loss': Array(6179200.19831891, dtype=float64), 'numerical_grad': Array(-12.56060787, dtype=float64)}\n",
      "{'n_iteration': 5, 'device': 'cpu', 'autodiff_loss': Array(6177800.77049751, dtype=float64), 'autodiff_grad': Array(-11.86352826, dtype=float64), 'numerical_loss': Array(6177800.77055809, dtype=float64), 'numerical_grad': Array(-11.72046177, dtype=float64)}\n",
      "{'n_iteration': 6, 'device': 'cpu', 'autodiff_loss': Array(6176386.92804983, dtype=float64), 'autodiff_grad': Array(-11.15689491, dtype=float64), 'numerical_loss': Array(6176386.9281056, dtype=float64), 'numerical_grad': Array(-11.33057289, dtype=float64)}\n",
      "{'n_iteration': 7, 'device': 'cpu', 'autodiff_loss': Array(6174966.104481, dtype=float64), 'autodiff_grad': Array(-10.61307897, dtype=float64), 'numerical_loss': Array(6174966.10450715, dtype=float64), 'numerical_grad': Array(-11.03565097, dtype=float64)}\n",
      "{'n_iteration': 8, 'device': 'cpu', 'autodiff_loss': Array(6173543.49552581, dtype=float64), 'autodiff_grad': Array(-10.16337575, dtype=float64), 'numerical_loss': Array(6173543.49553826, dtype=float64), 'numerical_grad': Array(-10.84556803, dtype=float64)}\n",
      "{'n_iteration': 9, 'device': 'cpu', 'autodiff_loss': Array(6172122.79348973, dtype=float64), 'autodiff_grad': Array(-9.42644628, dtype=float64), 'numerical_loss': Array(6172122.79349587, dtype=float64), 'numerical_grad': Array(-10.1194717, dtype=float64)}\n",
      "{'n_iteration': 10, 'device': 'cpu', 'autodiff_loss': Array(6170707.04842577, dtype=float64), 'autodiff_grad': Array(-8.23475144, dtype=float64), 'numerical_loss': Array(6170707.04844868, dtype=float64), 'numerical_grad': Array(-8.79994128, dtype=float64)}\n",
      "{'n_iteration': 11, 'device': 'cpu', 'autodiff_loss': Array(6169299.01759019, dtype=float64), 'autodiff_grad': Array(-6.73841766, dtype=float64), 'numerical_loss': Array(6169299.01760656, dtype=float64), 'numerical_grad': Array(-5.85335307, dtype=float64)}\n",
      "{'n_iteration': 12, 'device': 'cpu', 'autodiff_loss': Array(6167901.22374745, dtype=float64), 'autodiff_grad': Array(-4.94981095, dtype=float64), 'numerical_loss': Array(6167901.22374841, dtype=float64), 'numerical_grad': Array(-2.66754068, dtype=float64)}\n",
      "{'n_iteration': 13, 'device': 'cpu', 'autodiff_loss': Array(6166551.35483201, dtype=float64), 'autodiff_grad': Array(-4.65557453, dtype=float64), 'numerical_loss': Array(6166551.35482773, dtype=float64), 'numerical_grad': Array(-1.27100851, dtype=float64)}\n",
      "{'n_iteration': 14, 'device': 'cpu', 'autodiff_loss': Array(6165240.21595606, dtype=float64), 'autodiff_grad': Array(-4.83906915, dtype=float64), 'numerical_loss': Array(6165240.21596361, dtype=float64), 'numerical_grad': Array(-1.81991607, dtype=float64)}\n",
      "{'n_iteration': 15, 'device': 'cpu', 'autodiff_loss': Array(6163952.41604845, dtype=float64), 'autodiff_grad': Array(-5.90694948, dtype=float64), 'numerical_loss': Array(6163952.41604622, dtype=float64), 'numerical_grad': Array(-3.34091019, dtype=float64)}\n",
      "{'n_iteration': 16, 'device': 'cpu', 'autodiff_loss': Array(6162638.77021161, dtype=float64), 'autodiff_grad': Array(-6.11254099, dtype=float64), 'numerical_loss': Array(6162638.77020519, dtype=float64), 'numerical_grad': Array(-6.86720014, dtype=float64)}\n",
      "{'n_iteration': 17, 'device': 'cpu', 'autodiff_loss': Array(6161299.51216737, dtype=float64), 'autodiff_grad': Array(-6.22613744, dtype=float64), 'numerical_loss': Array(6161299.51218268, dtype=float64), 'numerical_grad': Array(-9.97700728, dtype=float64)}\n",
      "{'n_iteration': 18, 'device': 'cpu', 'autodiff_loss': Array(6159943.0851876, dtype=float64), 'autodiff_grad': Array(-6.30037054, dtype=float64), 'numerical_loss': Array(6159943.08524714, dtype=float64), 'numerical_grad': Array(-12.82854006, dtype=float64)}\n",
      "{'n_iteration': 19, 'device': 'cpu', 'autodiff_loss': Array(6158576.79984301, dtype=float64), 'autodiff_grad': Array(-6.29754913, dtype=float64), 'numerical_loss': Array(6158576.79989802, dtype=float64), 'numerical_grad': Array(-12.56985124, dtype=float64)}\n",
      "{'n_iteration': 20, 'device': 'cpu', 'autodiff_loss': Array(6157205.50709096, dtype=float64), 'autodiff_grad': Array(-6.24327789, dtype=float64), 'numerical_loss': Array(6157205.50708311, dtype=float64), 'numerical_grad': Array(-12.19347119, dtype=float64)}\n",
      "{'n_iteration': 21, 'device': 'cpu', 'autodiff_loss': Array(6155832.01617174, dtype=float64), 'autodiff_grad': Array(-6.09257749, dtype=float64), 'numerical_loss': Array(6155832.01610156, dtype=float64), 'numerical_grad': Array(-11.69268042, dtype=float64)}\n",
      "{'n_iteration': 22, 'device': 'cpu', 'autodiff_loss': Array(6154458.14501967, dtype=float64), 'autodiff_grad': Array(-5.81985979, dtype=float64), 'numerical_loss': Array(6154458.14490895, dtype=float64), 'numerical_grad': Array(-4.47543338, dtype=float64)}\n",
      "{'n_iteration': 23, 'device': 'cpu', 'autodiff_loss': Array(6153085.13571792, dtype=float64), 'autodiff_grad': Array(-5.44125048, dtype=float64), 'numerical_loss': Array(6153085.13560773, dtype=float64), 'numerical_grad': Array(2.37144995, dtype=float64)}\n",
      "{'n_iteration': 24, 'device': 'cpu', 'autodiff_loss': Array(6151713.73000943, dtype=float64), 'autodiff_grad': Array(-5.0000661, dtype=float64), 'numerical_loss': Array(6151713.72989128, dtype=float64), 'numerical_grad': Array(8.79405532, dtype=float64)}\n",
      "{'n_iteration': 25, 'device': 'cpu', 'autodiff_loss': Array(6150344.49372351, dtype=float64), 'autodiff_grad': Array(-4.54293034, dtype=float64), 'numerical_loss': Array(6150344.4936127, dtype=float64), 'numerical_grad': Array(8.26881267, dtype=float64)}\n",
      "{'n_iteration': 26, 'device': 'cpu', 'autodiff_loss': Array(6148977.77109049, dtype=float64), 'autodiff_grad': Array(-4.13175442, dtype=float64), 'numerical_loss': Array(6148977.77097378, dtype=float64), 'numerical_grad': Array(7.72663392, dtype=float64)}\n",
      "{'n_iteration': 27, 'device': 'cpu', 'autodiff_loss': Array(6147613.90851128, dtype=float64), 'autodiff_grad': Array(-3.82116061, dtype=float64), 'numerical_loss': Array(6147613.90866567, dtype=float64), 'numerical_grad': Array(-16.70791768, dtype=float64)}\n",
      "{'n_iteration': 28, 'device': 'cpu', 'autodiff_loss': Array(6146253.53516468, dtype=float64), 'autodiff_grad': Array(-3.60785991, dtype=float64), 'numerical_loss': Array(6146253.53557483, dtype=float64), 'numerical_grad': Array(-39.69257697, dtype=float64)}\n",
      "{'n_iteration': 29, 'device': 'cpu', 'autodiff_loss': Array(6144897.78096788, dtype=float64), 'autodiff_grad': Array(-3.52997508, dtype=float64), 'numerical_loss': Array(6144897.78162148, dtype=float64), 'numerical_grad': Array(-61.28565874, dtype=float64)}\n",
      "{'n_iteration': 30, 'device': 'cpu', 'autodiff_loss': Array(6143547.21865415, dtype=float64), 'autodiff_grad': Array(-3.55777853, dtype=float64), 'numerical_loss': Array(6143547.21926765, dtype=float64), 'numerical_grad': Array(-57.6114608, dtype=float64)}\n"
     ]
    },
    {
     "name": "stderr",
     "output_type": "stream",
     "text": [
      "\n",
      "KeyboardInterrupt\n",
      "\n"
     ]
    }
   ],
   "source": [
    "stats = []\n",
    "\n",
    "for nitt in range(100) :\n",
    "    s = {'n_iteration' : nitt, 'device' : field.device.device_kind}\n",
    "    s['autodiff_loss'], s['autodiff_grad'] = dir_der_autodiff(state, field, direction, loss_and_grad, iterations=nitt)\n",
    "    \n",
    "    s['numerical_loss'], s['numerical_grad'] = ndm.g(state, field, direction, iterations=nitt, epsilon=1e-4)\n",
    "    stats.append(s)\n",
    "    print(s)"
   ]
  },
  {
   "cell_type": "code",
   "execution_count": 89,
   "id": "8d4a6660-55c6-469e-aefd-bd8141584348",
   "metadata": {},
   "outputs": [],
   "source": [
    "stats = pd.DataFrame(stats)"
   ]
  },
  {
   "cell_type": "code",
   "execution_count": 93,
   "id": "7863aa66-5a6c-4bfb-9440-eb44566c1305",
   "metadata": {},
   "outputs": [],
   "source": [
    "stats = stats.pivot(columns='variable', index='n_iteration', values='value').reset_index()"
   ]
  },
  {
   "cell_type": "code",
   "execution_count": 95,
   "id": "725e4c0a-45ea-4f2c-a0dd-790179d44961",
   "metadata": {},
   "outputs": [
    {
     "ename": "KeyError",
     "evalue": "\"['variable'] not found in axis\"",
     "output_type": "error",
     "traceback": [
      "\u001b[31m---------------------------------------------------------------------------\u001b[39m",
      "\u001b[31mKeyError\u001b[39m                                  Traceback (most recent call last)",
      "\u001b[36mCell\u001b[39m\u001b[36m \u001b[39m\u001b[32mIn[95]\u001b[39m\u001b[32m, line 1\u001b[39m\n\u001b[32m----> \u001b[39m\u001b[32m1\u001b[39m \u001b[43mstats\u001b[49m\u001b[43m.\u001b[49m\u001b[43mdrop\u001b[49m\u001b[43m(\u001b[49m\u001b[43mcolumns\u001b[49m\u001b[43m=\u001b[49m\u001b[43m[\u001b[49m\u001b[33;43m'\u001b[39;49m\u001b[33;43mvariable\u001b[39;49m\u001b[33;43m'\u001b[39;49m\u001b[43m]\u001b[49m\u001b[43m)\u001b[49m\n",
      "\u001b[36mFile \u001b[39m\u001b[32m~/data/conda/envs/verosenv/lib/python3.12/site-packages/pandas/core/frame.py:5603\u001b[39m, in \u001b[36mDataFrame.drop\u001b[39m\u001b[34m(self, labels, axis, index, columns, level, inplace, errors)\u001b[39m\n\u001b[32m   5455\u001b[39m \u001b[38;5;28;01mdef\u001b[39;00m\u001b[38;5;250m \u001b[39m\u001b[34mdrop\u001b[39m(\n\u001b[32m   5456\u001b[39m     \u001b[38;5;28mself\u001b[39m,\n\u001b[32m   5457\u001b[39m     labels: IndexLabel | \u001b[38;5;28;01mNone\u001b[39;00m = \u001b[38;5;28;01mNone\u001b[39;00m,\n\u001b[32m   (...)\u001b[39m\u001b[32m   5464\u001b[39m     errors: IgnoreRaise = \u001b[33m\"\u001b[39m\u001b[33mraise\u001b[39m\u001b[33m\"\u001b[39m,\n\u001b[32m   5465\u001b[39m ) -> DataFrame | \u001b[38;5;28;01mNone\u001b[39;00m:\n\u001b[32m   5466\u001b[39m \u001b[38;5;250m    \u001b[39m\u001b[33;03m\"\"\"\u001b[39;00m\n\u001b[32m   5467\u001b[39m \u001b[33;03m    Drop specified labels from rows or columns.\u001b[39;00m\n\u001b[32m   5468\u001b[39m \n\u001b[32m   (...)\u001b[39m\u001b[32m   5601\u001b[39m \u001b[33;03m            weight  1.0     0.8\u001b[39;00m\n\u001b[32m   5602\u001b[39m \u001b[33;03m    \"\"\"\u001b[39;00m\n\u001b[32m-> \u001b[39m\u001b[32m5603\u001b[39m     \u001b[38;5;28;01mreturn\u001b[39;00m \u001b[38;5;28;43msuper\u001b[39;49m\u001b[43m(\u001b[49m\u001b[43m)\u001b[49m\u001b[43m.\u001b[49m\u001b[43mdrop\u001b[49m\u001b[43m(\u001b[49m\n\u001b[32m   5604\u001b[39m \u001b[43m        \u001b[49m\u001b[43mlabels\u001b[49m\u001b[43m=\u001b[49m\u001b[43mlabels\u001b[49m\u001b[43m,\u001b[49m\n\u001b[32m   5605\u001b[39m \u001b[43m        \u001b[49m\u001b[43maxis\u001b[49m\u001b[43m=\u001b[49m\u001b[43maxis\u001b[49m\u001b[43m,\u001b[49m\n\u001b[32m   5606\u001b[39m \u001b[43m        \u001b[49m\u001b[43mindex\u001b[49m\u001b[43m=\u001b[49m\u001b[43mindex\u001b[49m\u001b[43m,\u001b[49m\n\u001b[32m   5607\u001b[39m \u001b[43m        \u001b[49m\u001b[43mcolumns\u001b[49m\u001b[43m=\u001b[49m\u001b[43mcolumns\u001b[49m\u001b[43m,\u001b[49m\n\u001b[32m   5608\u001b[39m \u001b[43m        \u001b[49m\u001b[43mlevel\u001b[49m\u001b[43m=\u001b[49m\u001b[43mlevel\u001b[49m\u001b[43m,\u001b[49m\n\u001b[32m   5609\u001b[39m \u001b[43m        \u001b[49m\u001b[43minplace\u001b[49m\u001b[43m=\u001b[49m\u001b[43minplace\u001b[49m\u001b[43m,\u001b[49m\n\u001b[32m   5610\u001b[39m \u001b[43m        \u001b[49m\u001b[43merrors\u001b[49m\u001b[43m=\u001b[49m\u001b[43merrors\u001b[49m\u001b[43m,\u001b[49m\n\u001b[32m   5611\u001b[39m \u001b[43m    \u001b[49m\u001b[43m)\u001b[49m\n",
      "\u001b[36mFile \u001b[39m\u001b[32m~/data/conda/envs/verosenv/lib/python3.12/site-packages/pandas/core/generic.py:4810\u001b[39m, in \u001b[36mNDFrame.drop\u001b[39m\u001b[34m(self, labels, axis, index, columns, level, inplace, errors)\u001b[39m\n\u001b[32m   4808\u001b[39m \u001b[38;5;28;01mfor\u001b[39;00m axis, labels \u001b[38;5;129;01min\u001b[39;00m axes.items():\n\u001b[32m   4809\u001b[39m     \u001b[38;5;28;01mif\u001b[39;00m labels \u001b[38;5;129;01mis\u001b[39;00m \u001b[38;5;129;01mnot\u001b[39;00m \u001b[38;5;28;01mNone\u001b[39;00m:\n\u001b[32m-> \u001b[39m\u001b[32m4810\u001b[39m         obj = \u001b[43mobj\u001b[49m\u001b[43m.\u001b[49m\u001b[43m_drop_axis\u001b[49m\u001b[43m(\u001b[49m\u001b[43mlabels\u001b[49m\u001b[43m,\u001b[49m\u001b[43m \u001b[49m\u001b[43maxis\u001b[49m\u001b[43m,\u001b[49m\u001b[43m \u001b[49m\u001b[43mlevel\u001b[49m\u001b[43m=\u001b[49m\u001b[43mlevel\u001b[49m\u001b[43m,\u001b[49m\u001b[43m \u001b[49m\u001b[43merrors\u001b[49m\u001b[43m=\u001b[49m\u001b[43merrors\u001b[49m\u001b[43m)\u001b[49m\n\u001b[32m   4812\u001b[39m \u001b[38;5;28;01mif\u001b[39;00m inplace:\n\u001b[32m   4813\u001b[39m     \u001b[38;5;28mself\u001b[39m._update_inplace(obj)\n",
      "\u001b[36mFile \u001b[39m\u001b[32m~/data/conda/envs/verosenv/lib/python3.12/site-packages/pandas/core/generic.py:4852\u001b[39m, in \u001b[36mNDFrame._drop_axis\u001b[39m\u001b[34m(self, labels, axis, level, errors, only_slice)\u001b[39m\n\u001b[32m   4850\u001b[39m         new_axis = axis.drop(labels, level=level, errors=errors)\n\u001b[32m   4851\u001b[39m     \u001b[38;5;28;01melse\u001b[39;00m:\n\u001b[32m-> \u001b[39m\u001b[32m4852\u001b[39m         new_axis = \u001b[43maxis\u001b[49m\u001b[43m.\u001b[49m\u001b[43mdrop\u001b[49m\u001b[43m(\u001b[49m\u001b[43mlabels\u001b[49m\u001b[43m,\u001b[49m\u001b[43m \u001b[49m\u001b[43merrors\u001b[49m\u001b[43m=\u001b[49m\u001b[43merrors\u001b[49m\u001b[43m)\u001b[49m\n\u001b[32m   4853\u001b[39m     indexer = axis.get_indexer(new_axis)\n\u001b[32m   4855\u001b[39m \u001b[38;5;66;03m# Case for non-unique axis\u001b[39;00m\n\u001b[32m   4856\u001b[39m \u001b[38;5;28;01melse\u001b[39;00m:\n",
      "\u001b[36mFile \u001b[39m\u001b[32m~/data/conda/envs/verosenv/lib/python3.12/site-packages/pandas/core/indexes/base.py:7136\u001b[39m, in \u001b[36mIndex.drop\u001b[39m\u001b[34m(self, labels, errors)\u001b[39m\n\u001b[32m   7134\u001b[39m \u001b[38;5;28;01mif\u001b[39;00m mask.any():\n\u001b[32m   7135\u001b[39m     \u001b[38;5;28;01mif\u001b[39;00m errors != \u001b[33m\"\u001b[39m\u001b[33mignore\u001b[39m\u001b[33m\"\u001b[39m:\n\u001b[32m-> \u001b[39m\u001b[32m7136\u001b[39m         \u001b[38;5;28;01mraise\u001b[39;00m \u001b[38;5;167;01mKeyError\u001b[39;00m(\u001b[33mf\u001b[39m\u001b[33m\"\u001b[39m\u001b[38;5;132;01m{\u001b[39;00mlabels[mask].tolist()\u001b[38;5;132;01m}\u001b[39;00m\u001b[33m not found in axis\u001b[39m\u001b[33m\"\u001b[39m)\n\u001b[32m   7137\u001b[39m     indexer = indexer[~mask]\n\u001b[32m   7138\u001b[39m \u001b[38;5;28;01mreturn\u001b[39;00m \u001b[38;5;28mself\u001b[39m.delete(indexer)\n",
      "\u001b[31mKeyError\u001b[39m: \"['variable'] not found in axis\""
     ]
    }
   ],
   "source": [
    "stats.drop(columns=['variable'])"
   ]
  },
  {
   "cell_type": "code",
   "execution_count": 98,
   "id": "a039a061-1a15-4565-b3b4-4a9a215ccee9",
   "metadata": {},
   "outputs": [
    {
     "data": {
      "text/html": [
       "<div>\n",
       "<style scoped>\n",
       "    .dataframe tbody tr th:only-of-type {\n",
       "        vertical-align: middle;\n",
       "    }\n",
       "\n",
       "    .dataframe tbody tr th {\n",
       "        vertical-align: top;\n",
       "    }\n",
       "\n",
       "    .dataframe thead th {\n",
       "        text-align: right;\n",
       "    }\n",
       "</style>\n",
       "<table border=\"1\" class=\"dataframe\">\n",
       "  <thead>\n",
       "    <tr style=\"text-align: right;\">\n",
       "      <th></th>\n",
       "      <th>n_iteration</th>\n",
       "      <th>device</th>\n",
       "      <th>variable</th>\n",
       "      <th>value</th>\n",
       "    </tr>\n",
       "  </thead>\n",
       "  <tbody>\n",
       "    <tr>\n",
       "      <th>0</th>\n",
       "      <td>0</td>\n",
       "      <td>cpu</td>\n",
       "      <td>autodiff_grad</td>\n",
       "      <td>-10.449074779107422</td>\n",
       "    </tr>\n",
       "    <tr>\n",
       "      <th>1</th>\n",
       "      <td>1</td>\n",
       "      <td>cpu</td>\n",
       "      <td>autodiff_grad</td>\n",
       "      <td>-0.815494035146556</td>\n",
       "    </tr>\n",
       "    <tr>\n",
       "      <th>2</th>\n",
       "      <td>2</td>\n",
       "      <td>cpu</td>\n",
       "      <td>autodiff_grad</td>\n",
       "      <td>-12.495824045775215</td>\n",
       "    </tr>\n",
       "    <tr>\n",
       "      <th>3</th>\n",
       "      <td>3</td>\n",
       "      <td>cpu</td>\n",
       "      <td>autodiff_grad</td>\n",
       "      <td>-13.69720604313649</td>\n",
       "    </tr>\n",
       "    <tr>\n",
       "      <th>4</th>\n",
       "      <td>4</td>\n",
       "      <td>cpu</td>\n",
       "      <td>autodiff_grad</td>\n",
       "      <td>-12.726444486418249</td>\n",
       "    </tr>\n",
       "    <tr>\n",
       "      <th>...</th>\n",
       "      <td>...</td>\n",
       "      <td>...</td>\n",
       "      <td>...</td>\n",
       "      <td>...</td>\n",
       "    </tr>\n",
       "    <tr>\n",
       "      <th>119</th>\n",
       "      <td>26</td>\n",
       "      <td>cpu</td>\n",
       "      <td>numerical_loss</td>\n",
       "      <td>6148977.770973782</td>\n",
       "    </tr>\n",
       "    <tr>\n",
       "      <th>120</th>\n",
       "      <td>27</td>\n",
       "      <td>cpu</td>\n",
       "      <td>numerical_loss</td>\n",
       "      <td>6147613.908665667</td>\n",
       "    </tr>\n",
       "    <tr>\n",
       "      <th>121</th>\n",
       "      <td>28</td>\n",
       "      <td>cpu</td>\n",
       "      <td>numerical_loss</td>\n",
       "      <td>6146253.535574829</td>\n",
       "    </tr>\n",
       "    <tr>\n",
       "      <th>122</th>\n",
       "      <td>29</td>\n",
       "      <td>cpu</td>\n",
       "      <td>numerical_loss</td>\n",
       "      <td>6144897.781621482</td>\n",
       "    </tr>\n",
       "    <tr>\n",
       "      <th>123</th>\n",
       "      <td>30</td>\n",
       "      <td>cpu</td>\n",
       "      <td>numerical_loss</td>\n",
       "      <td>6143547.219267648</td>\n",
       "    </tr>\n",
       "  </tbody>\n",
       "</table>\n",
       "<p>124 rows × 4 columns</p>\n",
       "</div>"
      ],
      "text/plain": [
       "     n_iteration device        variable                value\n",
       "0              0    cpu   autodiff_grad  -10.449074779107422\n",
       "1              1    cpu   autodiff_grad   -0.815494035146556\n",
       "2              2    cpu   autodiff_grad  -12.495824045775215\n",
       "3              3    cpu   autodiff_grad   -13.69720604313649\n",
       "4              4    cpu   autodiff_grad  -12.726444486418249\n",
       "..           ...    ...             ...                  ...\n",
       "119           26    cpu  numerical_loss    6148977.770973782\n",
       "120           27    cpu  numerical_loss    6147613.908665667\n",
       "121           28    cpu  numerical_loss    6146253.535574829\n",
       "122           29    cpu  numerical_loss    6144897.781621482\n",
       "123           30    cpu  numerical_loss    6143547.219267648\n",
       "\n",
       "[124 rows x 4 columns]"
      ]
     },
     "execution_count": 98,
     "metadata": {},
     "output_type": "execute_result"
    }
   ],
   "source": [
    "stats.melt(id_vars=['n_iteration', 'device'])"
   ]
  },
  {
   "cell_type": "code",
   "execution_count": 110,
   "id": "a8ced010-3093-43b6-828a-186cfecd9cbc",
   "metadata": {},
   "outputs": [],
   "source": []
  },
  {
   "cell_type": "code",
   "execution_count": 100,
   "id": "019fa905-07da-44e0-a8e9-4eb4b23dce4d",
   "metadata": {},
   "outputs": [],
   "source": [
    "statsdf = pd.DataFrame(stats)\n",
    "statsdf['accuracy'] = 1 - np.abs((statsdf['autodiff_grad'] - statsdf['numerical_grad'])/statsdf['numerical_grad'])\n",
    "statsdf = statsdf.melt(id_vars=['n_iteration', 'device'])\n",
    "statsdf['value'] = statsdf['value'].apply(lambda x : x.item())"
   ]
  },
  {
   "cell_type": "code",
   "execution_count": 111,
   "id": "f5d7dccd-f125-4205-ba43-6f7dc9b2abe9",
   "metadata": {},
   "outputs": [
    {
     "data": {
      "image/png": "[encoded data removed]",
      "text/plain": [
       "<Figure size 1500x500 with 2 Axes>"
      ]
     },
     "metadata": {},
     "output_type": "display_data"
    }
   ],
   "source": [
    "fig, axs = plt.subplots(1,2, figsize=(15,5))\n",
    "sns.lineplot(data=statsdf.query('n_iteration and variable != \"accuracy\" and variable.str.contains(\"grad\")', engine='python'),\n",
    "             x='n_iteration', y='value', hue='variable', ax=axs[0])\n",
    "axs[0].set_title('Directional derivative value')\n",
    "axs[0].set_xlabel('Number of iterations')\n",
    "sns.lineplot(data=statsdf.query('n_iteration and variable == \"accuracy\"'),\n",
    "             x='n_iteration', y='value', ax=axs[1])\n",
    "axs[1].set_title('Accuracy directional derivative')\n",
    "axs[1].set_ylim([0,1.1])\n",
    "axs[1].set_xlabel('Number of iterations')\n",
    "fig.suptitle(f'Derivative accuracy : {field.device.device_kind} - {var_agg=} - {var_dev=}')\n",
    "fig.savefig(f'figures/directional_derivative_accuracy_{field.device.device_kind}_{datetime.now().strftime(\"%d%m%y\")}.png')"
   ]
  },
  {
   "cell_type": "code",
   "execution_count": null,
   "id": "bab8ea39-2dae-4709-b3da-219f7ae52358",
   "metadata": {},
   "outputs": [],
   "source": [
    "w"
   ]
  }
 ],
 "metadata": {
  "kernelspec": {
   "display_name": "veros",
   "language": "python",
   "name": "python3"
  },
  "language_info": {
   "codemirror_mode": {
    "name": "ipython",
    "version": 3
   },
   "file_extension": ".py",
   "mimetype": "text/x-python",
   "name": "python",
   "nbconvert_exporter": "python",
   "pygments_lexer": "ipython3",
   "version": "3.12.4"
  }
 },
 "nbformat": 4,
 "nbformat_minor": 5
}
