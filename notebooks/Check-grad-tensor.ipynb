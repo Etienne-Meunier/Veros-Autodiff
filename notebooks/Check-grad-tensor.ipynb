{
 "cells": [
  {
   "cell_type": "code",
   "execution_count": 1,
   "id": "d9d04bff",
   "metadata": {},
   "outputs": [],
   "source": [
    "from __init__ import PRP; import sys\n",
    "sys.path.append(PRP)\n",
    "\n",
    "import jax.numpy as jnp\n",
    "import jax"
   ]
  },
  {
   "cell_type": "code",
   "execution_count": 2,
   "id": "78221900",
   "metadata": {},
   "outputs": [
    {
     "data": {
      "text/plain": [
       "'/Users/emeunier/Desktop/Projets/Veros-Autodiff/'"
      ]
     },
     "execution_count": 2,
     "metadata": {},
     "output_type": "execute_result"
    }
   ],
   "source": [
    "PRP"
   ]
  },
  {
   "cell_type": "code",
   "execution_count": 3,
   "id": "fce1ff23",
   "metadata": {},
   "outputs": [
    {
     "name": "stdout",
     "output_type": "stream",
     "text": [
      "Importing core modules\n",
      " Using computational backend jax on cpu\n",
      "  Kernels are compiled during first iteration, be patient\n",
      " Runtime settings are now locked\n",
      "\n"
     ]
    }
   ],
   "source": [
    "from scripts.grad_compare import *"
   ]
  },
  {
   "cell_type": "code",
   "execution_count": 28,
   "id": "e0a542ad",
   "metadata": {},
   "outputs": [
    {
     "name": "stdout",
     "output_type": "stream",
     "text": [
      "Running model setup\n",
      " Running diagnostic \"averages\" every 5.0 days\n",
      " Writing output for diagnostic \"averages\" every 1.0 years\n",
      " Running diagnostic \"energy\" every 5.0 days\n",
      " Writing output for diagnostic \"energy\" every 7.6 days\n",
      " Running diagnostic \"overturning\" every 5.0 days\n",
      " Writing output for diagnostic \"overturning\" every 7.6 days\n",
      " Writing output for diagnostic \"snapshot\" every 10.0 days\n",
      " Writing output for diagnostic \"tracer_monitor\" every 30.4 days\n",
      "Diffusion grid factor delta_iso1 = 0.01942284820457075\n"
     ]
    },
    {
     "name": "stderr",
     "output_type": "stream",
     "text": [
      "100%|██████████| 2/2 [00:04<00:00,  2.04s/it]\n"
     ]
    }
   ],
   "source": [
    "acc = warmup_acc(2, override_settings={'enable_streamfunction' : False})\n",
    "acc.state._diagnostics = {}\n",
    "current_state = acc.state.copy()"
   ]
  },
  {
   "cell_type": "code",
   "execution_count": 22,
   "id": "90805e97",
   "metadata": {},
   "outputs": [],
   "source": [
    "def step_function_(function, state) :\n",
    "    \"\"\"\n",
    "    Perform a single step of the simulation in a pure way (no inplace modification)\n",
    "\n",
    "    Args:\n",
    "        function: The step function to apply.\n",
    "        state: The current state of the simulation.\n",
    "\n",
    "    Returns:\n",
    "        The next state of the simulation.\n",
    "    \"\"\"\n",
    "\n",
    "    next_state = state.copy()\n",
    "    function(next_state)\n",
    "    return next_state\n",
    "\n",
    "# Params auto-diff\n",
    "def agg_sum(state, key_sum = 'v') :\n",
    "    return ((getattr(state.variables, key_sum)[:,:,:] - 0)**2).mean()\n",
    "\n",
    "\n",
    "diff_function = lambda state : agg_sum(step_function_(acc.step, state))"
   ]
  },
  {
   "cell_type": "markdown",
   "id": "9e2c6d43",
   "metadata": {},
   "source": [
    "Backward vjp"
   ]
  },
  {
   "cell_type": "code",
   "execution_count": 16,
   "id": "3d7d426d",
   "metadata": {},
   "outputs": [],
   "source": [
    "l, vjp_fun  = jax.vjp(diff_function, current_state)\n",
    "\n",
    "# Backward pass using VJP\n",
    "cotangent = jnp.ones_like(l)\n",
    "\n",
    "# Backpropagate through self.agg_function\n",
    "ds, = vjp_fun(cotangent)"
   ]
  },
  {
   "cell_type": "code",
   "execution_count": 17,
   "id": "bd1cc802",
   "metadata": {},
   "outputs": [
    {
     "data": {
      "text/plain": [
       "<matplotlib.image.AxesImage at 0x2f5493200>"
      ]
     },
     "execution_count": 17,
     "metadata": {},
     "output_type": "execute_result"
    },
    {
     "data": {
      "image/png": "[encoded data removed]",
      "text/plain": [
       "<Figure size 640x480 with 1 Axes>"
      ]
     },
     "metadata": {},
     "output_type": "display_data"
    }
   ],
   "source": [
    "plt.imshow(ds.variables.u[3, :, :, 2])"
   ]
  },
  {
   "cell_type": "markdown",
   "id": "8d46ec74",
   "metadata": {},
   "source": [
    "Numerical diff"
   ]
  },
  {
   "cell_type": "code",
   "execution_count": 18,
   "id": "36890d08",
   "metadata": {},
   "outputs": [
    {
     "name": "stdout",
     "output_type": "stream",
     "text": [
      "Numerical directional derivative: 8.489304247229603e-08\n",
      "Analytical directional derivative: 8.466390005845486e-08\n"
     ]
    }
   ],
   "source": [
    "# Numerical directional derivative check for the full tensor\n",
    "\n",
    "epsilon = 1e-4\n",
    "direction = jax.random.normal(jax.random.PRNGKey(0), acc.state.variables.u.shape)\n",
    "direction = direction / jnp.linalg.norm(direction)  # normalize\n",
    "\n",
    "\n",
    "state_plus = acc.state.copy()\n",
    "with state_plus.variables.unlock() :\n",
    "    state_plus.variables.u = state_plus.variables.u + epsilon * direction\n",
    "    f_plus = diff_function(state_plus)\n",
    "\n",
    "state_minus = acc.state.copy()\n",
    "with state_minus.variables.unlock() :\n",
    "    state_minus.variables.u = state_minus.variables.u - epsilon * direction\n",
    "    f_minus = diff_function(state_minus)\n",
    "\n",
    "numerical_dir_deriv = (f_plus - f_minus) / (2 * epsilon)\n",
    "analytical_dir_deriv = jnp.sum(ds.variables.u * direction)\n",
    "\n",
    "print(\"Numerical directional derivative:\", numerical_dir_deriv)\n",
    "print(\"Analytical directional derivative:\", analytical_dir_deriv)"
   ]
  },
  {
   "cell_type": "markdown",
   "id": "5258100e",
   "metadata": {},
   "source": [
    "# Using the tools "
   ]
  },
  {
   "cell_type": "code",
   "execution_count": 60,
   "id": "662369e8",
   "metadata": {},
   "outputs": [],
   "source": [
    "from scripts.grad_compare import *"
   ]
  },
  {
   "cell_type": "code",
   "execution_count": 99,
   "id": "970a48fb",
   "metadata": {},
   "outputs": [],
   "source": [
    "# Params auto-diff\n",
    "def agg_sum(state, key_sum = 'u') :\n",
    "    return ((getattr(state.variables, key_sum)[:,:,:] - 0)**2).mean()\n",
    "\n",
    "step_function = acc.step\n",
    "agg_function = agg_sum\n",
    "var_name = 'u'\n",
    "var = acc.state.variables.u.copy()\n",
    "iteration_grad = 3\n"
   ]
  },
  {
   "cell_type": "markdown",
   "id": "fdc6f83d",
   "metadata": {},
   "source": [
    "Backward"
   ]
  },
  {
   "cell_type": "code",
   "execution_count": 100,
   "id": "bb8fb66a",
   "metadata": {},
   "outputs": [],
   "source": [
    "vjpm = vjp_grad(step_function, agg_function, var_name)"
   ]
  },
  {
   "cell_type": "code",
   "execution_count": 101,
   "id": "243d5654",
   "metadata": {},
   "outputs": [],
   "source": [
    "output_forward, gradients = vjpm.g(acc.state, var_value = var, iterations=iteration_grad)"
   ]
  },
  {
   "cell_type": "markdown",
   "id": "5623c383",
   "metadata": {},
   "source": [
    "Numerical diff"
   ]
  },
  {
   "cell_type": "code",
   "execution_count": 109,
   "id": "7723fee5",
   "metadata": {},
   "outputs": [],
   "source": [
    "class numerical_dif_tensor(autodiff) :\n",
    "\n",
    "    def g(self, state, var_value, direction, iterations=1, eps=1e-4, **kwargs) :\n",
    "\n",
    "        wrap = partial(autodiff.wrapper,\n",
    "                        step_fun=self.step_function,\n",
    "                        var_name=self.var_name,\n",
    "                        agg_func=self.agg_function,\n",
    "                        iter=iterations)\n",
    "        center = wrap(var_value, state)\n",
    "\n",
    "        rgt = wrap(var_value - direction*eps, state)\n",
    "        numerical_grad =  (center - rgt)/(eps)\n",
    "\n",
    "        return center, numerical_grad\n",
    "\n",
    "    def __str__(self) :\n",
    "        return \"numerical_diff tensor\""
   ]
  },
  {
   "cell_type": "code",
   "execution_count": 110,
   "id": "5d5256b5",
   "metadata": {},
   "outputs": [],
   "source": [
    "direction = jax.random.normal(jax.random.PRNGKey(0), acc.state.variables.u.shape)\n",
    "direction = direction / jnp.linalg.norm(direction)  # normalize"
   ]
  },
  {
   "cell_type": "code",
   "execution_count": 111,
   "id": "e7cb7b8c",
   "metadata": {},
   "outputs": [],
   "source": [
    "ndm = numerical_dif_tensor(step_function, agg_function, var_name)\n",
    "output_forward_nd, gradients_nd = ndm.g(acc.state, var_value = var, direction=direction, iterations=iteration_grad)"
   ]
  },
  {
   "cell_type": "markdown",
   "id": "cdd8e72b",
   "metadata": {},
   "source": [
    "Compare"
   ]
  },
  {
   "cell_type": "code",
   "execution_count": 112,
   "id": "9ebdda73",
   "metadata": {},
   "outputs": [
    {
     "data": {
      "text/plain": [
       "Array(-5.34651509e-07, dtype=float64)"
      ]
     },
     "execution_count": 112,
     "metadata": {},
     "output_type": "execute_result"
    }
   ],
   "source": [
    "(gradients * direction).sum()"
   ]
  },
  {
   "cell_type": "code",
   "execution_count": 113,
   "id": "818f228e",
   "metadata": {},
   "outputs": [
    {
     "data": {
      "text/plain": [
       "Array(-5.59481696e-07, dtype=float64)"
      ]
     },
     "execution_count": 113,
     "metadata": {},
     "output_type": "execute_result"
    }
   ],
   "source": [
    "gradients_nd"
   ]
  },
  {
   "cell_type": "code",
   "execution_count": null,
   "id": "9ee12a5f",
   "metadata": {},
   "outputs": [],
   "source": []
  },
  {
   "cell_type": "markdown",
   "id": "57366cf9",
   "metadata": {},
   "source": []
  },
  {
   "cell_type": "markdown",
   "id": "707bc74f",
   "metadata": {},
   "source": []
  }
 ],
 "metadata": {
  "kernelspec": {
   "display_name": "veros",
   "language": "python",
   "name": "python3"
  },
  "language_info": {
   "codemirror_mode": {
    "name": "ipython",
    "version": 3
   },
   "file_extension": ".py",
   "mimetype": "text/x-python",
   "name": "python",
   "nbconvert_exporter": "python",
   "pygments_lexer": "ipython3",
   "version": "3.12.4"
  }
 },
 "nbformat": 4,
 "nbformat_minor": 5
}
