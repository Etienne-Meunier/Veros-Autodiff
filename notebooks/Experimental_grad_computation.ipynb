{
 "cells": [
  {
   "cell_type": "code",
   "execution_count": 1,
   "id": "d9d04bff",
   "metadata": {},
   "outputs": [
    {
     "name": "stdout",
     "output_type": "stream",
     "text": [
      "/home/emeunier/code/Veros-Autodiff/\n",
      "Differentiable Veros Experimental version\n",
      "Importing core modules\n",
      " Using computational backend jax on gpu\n",
      "  Kernels are compiled during first iteration, be patient\n",
      " Runtime settings are now locked\n",
      "\n"
     ]
    },
    {
     "name": "stderr",
     "output_type": "stream",
     "text": [
      "2025-10-14 11:47:32.158196: W external/xla/xla/service/gpu/nvptx_compiler.cc:836] The NVIDIA driver's CUDA version is 12.2 which is older than the PTX compiler version (12.9.86). Because the driver is older than the PTX compiler version, XLA is disabling parallel compilation, which may slow down compilation. You should update your NVIDIA driver or use the NVIDIA-provided CUDA forward compatibility packages.\n"
     ]
    }
   ],
   "source": [
    "from __init__ import PRP; import sys\n",
    "sys.path.append(PRP)\n",
    "\n",
    "from scripts.grad_compare import *\n",
    "from scripts.utils import *\n",
    "\n",
    "from setups.acc.acc_learning import ACCSetup\n",
    "from tqdm import tqdm\n",
    "import gc \n",
    "import pandas as pd\n",
    "import seaborn as sns\n",
    "import matplotlib.pyplot as plt\n",
    "import seaborn as sn\n",
    "\n",
    "from jax import lax"
   ]
  },
  {
   "cell_type": "code",
   "execution_count": 2,
   "id": "6ec23856-a33c-4077-8ccf-82c40c99ff9a",
   "metadata": {},
   "outputs": [
    {
     "name": "stdout",
     "output_type": "stream",
     "text": [
      "/home/emeunier/data/conda/envs/verosenv/bin/python\n",
      "RuntimeWarning: os.fork() was called. os.fork() is incompatible with multithreaded code, and JAX is multithreaded, so this will likely lead to a deadlock. (/home/emeunier/data/conda/envs/verosenv/lib/python3.12/pty.py:95)\n",
      "/var/lib/oar/.batch_job_bashrc: line 5: /home/emeunier/.bashrc: No such file or directory\n",
      "/usr/bin/python\n"
     ]
    }
   ],
   "source": [
    "import sys\n",
    "print(sys.executable)\n",
    "!which python"
   ]
  },
  {
   "cell_type": "code",
   "execution_count": 3,
   "id": "13e48591-b965-455b-9030-3633c201637e",
   "metadata": {},
   "outputs": [],
   "source": [
    "def set_var(var_name, state, var_value):\n",
    "    n_state = state.copy()\n",
    "    vs = n_state.variables\n",
    "    with n_state.variables.unlock():\n",
    "        setattr(vs, var_name, var_value)\n",
    "    return n_state\n",
    "\n",
    "def pure(state, step):\n",
    "    \"\"\"\n",
    "    Convert the state function into a \"pure step\" copying the input state\n",
    "    \"\"\"\n",
    "    n_state = state.copy()\n",
    "    step(n_state)  # This is a function that modifies state object inplace\n",
    "    return n_state\n",
    "\n",
    "def agg_sum(state, key_sum='temp'):\n",
    "    tau = getattr(state.variables, 'tau')\n",
    "    return ((getattr(state.variables, key_sum)[..., tau])**2).mean()"
   ]
  },
  {
   "cell_type": "markdown",
   "id": "26d41313-9a89-408f-8873-4efe43610c1c",
   "metadata": {},
   "source": [
    "# Spin-up"
   ]
  },
  {
   "cell_type": "code",
   "execution_count": 4,
   "id": "e0a542ad",
   "metadata": {},
   "outputs": [
    {
     "name": "stdout",
     "output_type": "stream",
     "text": [
      "Running model setup\n",
      "Diffusion grid factor delta_iso1 = 0.01942284820457075\n",
      "Running model setup\n",
      "Diffusion grid factor delta_iso1 = 0.01942284820457075\n"
     ]
    },
    {
     "name": "stderr",
     "output_type": "stream",
     "text": [
      "100%|██████████| 200/200 [00:36<00:00,  5.51it/s]\n"
     ]
    }
   ],
   "source": [
    "# Spin-up \n",
    "warmup_steps = 200\n",
    "acc = ACCSetup()\n",
    "acc.setup()\n",
    "\n",
    "\n",
    "def ps(state) : \n",
    "    n_state = state.copy()\n",
    "    acc.step(n_state)\n",
    "    return n_state\n",
    "\n",
    "# Spin-up \n",
    "acc = ACCSetup()\n",
    "acc.setup()\n",
    "\n",
    "step_jit = jax.jit(ps)\n",
    "\n",
    "state = acc.state.copy()\n",
    "for step in tqdm(range(warmup_steps)) :\n",
    "    state = step_jit(state)"
   ]
  },
  {
   "cell_type": "markdown",
   "id": "5ab13d96-41b7-43aa-8e0b-5bc358e0929d",
   "metadata": {
    "jp-MarkdownHeadingCollapsed": true
   },
   "source": [
    "# Test grad implementations"
   ]
  },
  {
   "cell_type": "code",
   "execution_count": 16,
   "id": "e5ff661f-0d12-46bf-ab32-219790b865a5",
   "metadata": {},
   "outputs": [],
   "source": [
    "state = acc.state.copy()\n",
    "var_name = 'temp'\n",
    "var_value = state.variables.temp\n",
    "step_function = lambda state : pure(state, acc.step)\n",
    "agg_function = agg_sum "
   ]
  },
  {
   "cell_type": "code",
   "execution_count": 30,
   "id": "db5d0bd9-a59f-4038-8250-a678ec7835d5",
   "metadata": {},
   "outputs": [],
   "source": [
    "def lossgrad_backward(state, var_name, var_value, step_function, agg_function, iterations=1):\n",
    "    def loss_fn(v):\n",
    "        n_state = set_var(var_name, state, v)\n",
    "\n",
    "        def body_fn(carry, _):\n",
    "            carry = step_function(carry)\n",
    "            return carry, None\n",
    "\n",
    "        n_state, _ = lax.scan(body_fn, n_state, xs=None, length=iterations)\n",
    "        return agg_function(n_state)\n",
    "\n",
    "    loss, grad = value_and_grad(loss_fn)(var_value)\n",
    "    return loss, grad"
   ]
  },
  {
   "cell_type": "code",
   "execution_count": 19,
   "id": "7e2033f4-3321-4b76-a631-f5c65cdaa6b2",
   "metadata": {},
   "outputs": [
    {
     "name": "stdout",
     "output_type": "stream",
     "text": [
      "CPU times: user 1min 48s, sys: 4.1 s, total: 1min 53s\n",
      "Wall time: 2min 1s\n"
     ]
    }
   ],
   "source": [
    "%%time\n",
    "# No compilation\n",
    "_, _ = lossgrad_backward(state, var_name, var_value, step_function, agg_function, iterations=1)"
   ]
  },
  {
   "cell_type": "code",
   "execution_count": 21,
   "id": "223194f8-b1a5-4f8a-8161-59f82cde70e5",
   "metadata": {},
   "outputs": [
    {
     "name": "stdout",
     "output_type": "stream",
     "text": [
      "CPU times: user 14.7 s, sys: 302 ms, total: 15 s\n",
      "Wall time: 17.5 s\n"
     ]
    },
    {
     "data": {
      "text/plain": [
       "Array(94.41118746, dtype=float64)"
      ]
     },
     "execution_count": 21,
     "metadata": {},
     "output_type": "execute_result"
    }
   ],
   "source": [
    "%%time\n",
    "step_function = jax.jit(step_function)\n",
    "agg_function = jax.jit(agg_function)\n",
    "\n",
    "agg_function(step_function(state))"
   ]
  },
  {
   "cell_type": "code",
   "execution_count": 22,
   "id": "c3bd6e57-0dcd-411b-abcc-59d8992a9e7d",
   "metadata": {},
   "outputs": [
    {
     "name": "stdout",
     "output_type": "stream",
     "text": [
      "CPU times: user 1min 54s, sys: 4.83 s, total: 1min 59s\n",
      "Wall time: 2min 8s\n"
     ]
    }
   ],
   "source": [
    "%%time\n",
    "# After compilation of the step and agg\n",
    "_, _ = lossgrad_backward(state, var_name, var_value, step_function, agg_function, iterations=1)"
   ]
  },
  {
   "cell_type": "code",
   "execution_count": 24,
   "id": "a0255e69-1e90-415f-b35e-590ed61739b1",
   "metadata": {},
   "outputs": [
    {
     "name": "stdout",
     "output_type": "stream",
     "text": [
      "CPU times: user 1min 43s, sys: 5.6 s, total: 1min 49s\n",
      "Wall time: 1min 50s\n"
     ]
    }
   ],
   "source": [
    "%%time\n",
    "# Try compiling the full experimental backward\n",
    "\n",
    "exp_back = lambda field, iterations : lossgrad_backward(state, var_name, field, step_function, agg_function, iterations=iterations)\n",
    "\n",
    "exp_back_jit = jax.jit(exp_back, static_argnames=['iterations'])\n",
    "_, _ = exp_back_jit(var_value, iterations=1)"
   ]
  },
  {
   "cell_type": "code",
   "execution_count": 26,
   "id": "9ebf75c7-8648-448c-9996-9545d61771fe",
   "metadata": {},
   "outputs": [
    {
     "name": "stdout",
     "output_type": "stream",
     "text": [
      "CPU times: user 25.3 ms, sys: 35 μs, total: 25.3 ms\n",
      "Wall time: 24.1 ms\n"
     ]
    }
   ],
   "source": [
    "%%time\n",
    "_, _ = exp_back_jit(var_value, iterations=1)"
   ]
  },
  {
   "cell_type": "code",
   "execution_count": 27,
   "id": "40e76892-55cb-40a2-b133-1bd44f353347",
   "metadata": {},
   "outputs": [
    {
     "name": "stdout",
     "output_type": "stream",
     "text": [
      "CPU times: user 2min 7s, sys: 6.12 s, total: 2min 13s\n",
      "Wall time: 2min 15s\n"
     ]
    }
   ],
   "source": [
    "%%time\n",
    "_, _ = exp_back_jit(var_value, iterations=2)"
   ]
  },
  {
   "cell_type": "code",
   "execution_count": 4,
   "id": "8a7f4958-2a81-4a96-9606-32d7387bb934",
   "metadata": {},
   "outputs": [],
   "source": [
    "n_iteration = 4\n",
    "var_agg = 'temp'\n",
    "step_function = acc.step"
   ]
  },
  {
   "cell_type": "code",
   "execution_count": 7,
   "id": "8b4c776f-00c4-4fb2-a838-a7835fdc9150",
   "metadata": {},
   "outputs": [],
   "source": [
    "agg_function = lambda state : agg_sum(state, key_sum=var_agg)\n",
    "\n",
    "vjpm = vjp_grad_new_2(step_function, agg_function, var_agg)\n",
    "\n",
    "\n",
    "loss_and_grad = lambda s, v: vjpm.g(s, v, iterations=n_iteration)"
   ]
  },
  {
   "cell_type": "code",
   "execution_count": null,
   "id": "70784467-5514-43cd-9809-6682272ec29f",
   "metadata": {},
   "outputs": [],
   "source": []
  },
  {
   "cell_type": "code",
   "execution_count": 6,
   "id": "fcf523cf-9e0e-42b7-b5c6-4646cc00a4b9",
   "metadata": {},
   "outputs": [
    {
     "name": "stdout",
     "output_type": "stream",
     "text": [
      "CPU times: user 2min 9s, sys: 4.68 s, total: 2min 14s\n",
      "Wall time: 2min 19s\n"
     ]
    }
   ],
   "source": [
    "%%time\n",
    "state = state.copy()\n",
    "field = state.variables.temp\n",
    "\n",
    "output_forward, gradients = loss_and_grad(state, field)"
   ]
  },
  {
   "cell_type": "code",
   "execution_count": 9,
   "id": "cec100a1-dd2f-4c34-b323-cc5fc047c9df",
   "metadata": {},
   "outputs": [
    {
     "name": "stdout",
     "output_type": "stream",
     "text": [
      "CPU times: user 2min 24s, sys: 4.63 s, total: 2min 29s\n",
      "Wall time: 2min 17s\n"
     ]
    }
   ],
   "source": [
    "%%time\n",
    "state = state.copy()\n",
    "field = state.variables.temp\n",
    "\n",
    "output_forward, gradients = loss_and_grad(state, field)"
   ]
  },
  {
   "cell_type": "markdown",
   "id": "9e2c6d43",
   "metadata": {},
   "source": [
    "Backward vjp - Directional Gradients"
   ]
  },
  {
   "cell_type": "markdown",
   "id": "03b5f7cb-f685-4128-b411-1a62536e7bf6",
   "metadata": {},
   "source": [
    "# Using backward unrolling"
   ]
  },
  {
   "cell_type": "code",
   "execution_count": 5,
   "id": "6939dda8-06b2-44b4-9631-575a8f45c377",
   "metadata": {},
   "outputs": [],
   "source": [
    "def iterative_backward(state, var_name, var_value, step_function, agg_function, iterations=1):\n",
    "   \n",
    "    n_state = set_var(var_name, state, var_value)\n",
    "\n",
    "    current_state = n_state\n",
    "    funs = []\n",
    "    for i in range(iterations):\n",
    "        current_state, vjp_fun  = jax.vjp(step_function, current_state)\n",
    "        funs.append(vjp_fun)\n",
    "\n",
    "    # Compute final output\n",
    "    l, vjp_agg = jax.vjp(agg_function, current_state)\n",
    "\n",
    "    # Backward pass using VJP\n",
    "    cotangent = jnp.ones_like(l)\n",
    "\n",
    "    # Backpropagate through agg_function\n",
    "    ds, = vjp_agg(cotangent)\n",
    "\n",
    "    # Backpropagate through all steps\n",
    "    for vjp_fun in reversed(funs):\n",
    "        ds, = vjp_fun(ds)\n",
    "    return l, attrgetter(f'variables.{var_name}')(ds)"
   ]
  },
  {
   "cell_type": "code",
   "execution_count": 6,
   "id": "1a793e61-c0b6-4654-8a6a-1f5beb471d2d",
   "metadata": {},
   "outputs": [],
   "source": [
    "state = acc.state.copy()\n",
    "var_name = 'temp'\n",
    "var_value = state.variables.temp\n",
    "step_function = lambda state : pure(state, acc.step)\n",
    "agg_function = agg_sum "
   ]
  },
  {
   "cell_type": "code",
   "execution_count": 7,
   "id": "6995ab23-e8b3-464c-bdd0-c6496cd5114a",
   "metadata": {},
   "outputs": [
    {
     "name": "stdout",
     "output_type": "stream",
     "text": [
      "CPU times: user 21.3 s, sys: 331 ms, total: 21.7 s\n",
      "Wall time: 18.8 s\n"
     ]
    },
    {
     "data": {
      "text/plain": [
       "Array(94.41118746, dtype=float64)"
      ]
     },
     "execution_count": 7,
     "metadata": {},
     "output_type": "execute_result"
    }
   ],
   "source": [
    "%%time\n",
    "step_function = jax.jit(step_function)\n",
    "agg_function = jax.jit(agg_function)\n",
    "\n",
    "agg_function(step_function(state))"
   ]
  },
  {
   "cell_type": "code",
   "execution_count": 9,
   "id": "0de4dc30-a805-4ef7-9093-edd372fbb948",
   "metadata": {},
   "outputs": [
    {
     "name": "stdout",
     "output_type": "stream",
     "text": [
      "CPU times: user 160 ms, sys: 12.4 ms, total: 172 ms\n",
      "Wall time: 184 ms\n"
     ]
    },
    {
     "name": "stderr",
     "output_type": "stream",
     "text": [
      "E1014 12:12:39.891762   15017 pjrt_stream_executor_client.cc:3067] Execution of replica 0 failed: RESOURCE_EXHAUSTED: CUDA driver ran out of memory trying to instantiate CUDA graph with 4304 nodes and 0 conditionals (total of 0 alive CUDA graphs in the process). You can try to (a) Give more memory to CUDA driver by reducing XLA_PYTHON_CLIENT_MEM_FRACTION (b) Disable CUDA graph with 'XLA_FLAGS=--xla_gpu_enable_command_buffer=' (empty set). Original error: Failed to instantiate CUDA graph: CUDA_ERROR_OUT_OF_MEMORY: out of memory\n"
     ]
    },
    {
     "ename": "XlaRuntimeError",
     "evalue": "RESOURCE_EXHAUSTED: CUDA driver ran out of memory trying to instantiate CUDA graph with 4304 nodes and 0 conditionals (total of 0 alive CUDA graphs in the process). You can try to (a) Give more memory to CUDA driver by reducing XLA_PYTHON_CLIENT_MEM_FRACTION (b) Disable CUDA graph with 'XLA_FLAGS=--xla_gpu_enable_command_buffer=' (empty set). Original error: Failed to instantiate CUDA graph: CUDA_ERROR_OUT_OF_MEMORY: out of memory",
     "output_type": "error",
     "traceback": [
      "\u001b[31m---------------------------------------------------------------------------\u001b[39m",
      "\u001b[31mXlaRuntimeError\u001b[39m                           Traceback (most recent call last)",
      "\u001b[36mCell\u001b[39m\u001b[36m \u001b[39m\u001b[32mIn[9]\u001b[39m\u001b[32m, line 1\u001b[39m\n\u001b[32m----> \u001b[39m\u001b[32m1\u001b[39m \u001b[43mget_ipython\u001b[49m\u001b[43m(\u001b[49m\u001b[43m)\u001b[49m\u001b[43m.\u001b[49m\u001b[43mrun_cell_magic\u001b[49m\u001b[43m(\u001b[49m\u001b[33;43m'\u001b[39;49m\u001b[33;43mtime\u001b[39;49m\u001b[33;43m'\u001b[39;49m\u001b[43m,\u001b[49m\u001b[43m \u001b[49m\u001b[33;43m'\u001b[39;49m\u001b[33;43m'\u001b[39;49m\u001b[43m,\u001b[49m\u001b[43m \u001b[49m\u001b[33;43m'\u001b[39;49m\u001b[38;5;130;43;01m\\n\u001b[39;49;00m\u001b[33;43m# Precache computation of jvp\u001b[39;49m\u001b[38;5;130;43;01m\\n\u001b[39;49;00m\u001b[33;43mcurrent_state, vjp_fun  = jax.vjp(step_function, state)\u001b[39;49m\u001b[38;5;130;43;01m\\n\u001b[39;49;00m\u001b[33;43m_ = vjp_fun(state)\u001b[39;49m\u001b[38;5;130;43;01m\\n\u001b[39;49;00m\u001b[33;43m'\u001b[39;49m\u001b[43m)\u001b[49m\n",
      "\u001b[36mFile \u001b[39m\u001b[32m~/data/conda/envs/verosenv/lib/python3.12/site-packages/IPython/core/interactiveshell.py:2565\u001b[39m, in \u001b[36mInteractiveShell.run_cell_magic\u001b[39m\u001b[34m(self, magic_name, line, cell)\u001b[39m\n\u001b[32m   2563\u001b[39m \u001b[38;5;28;01mwith\u001b[39;00m \u001b[38;5;28mself\u001b[39m.builtin_trap:\n\u001b[32m   2564\u001b[39m     args = (magic_arg_s, cell)\n\u001b[32m-> \u001b[39m\u001b[32m2565\u001b[39m     result = \u001b[43mfn\u001b[49m\u001b[43m(\u001b[49m\u001b[43m*\u001b[49m\u001b[43margs\u001b[49m\u001b[43m,\u001b[49m\u001b[43m \u001b[49m\u001b[43m*\u001b[49m\u001b[43m*\u001b[49m\u001b[43mkwargs\u001b[49m\u001b[43m)\u001b[49m\n\u001b[32m   2567\u001b[39m \u001b[38;5;66;03m# The code below prevents the output from being displayed\u001b[39;00m\n\u001b[32m   2568\u001b[39m \u001b[38;5;66;03m# when using magics with decorator @output_can_be_silenced\u001b[39;00m\n\u001b[32m   2569\u001b[39m \u001b[38;5;66;03m# when the last Python token in the expression is a ';'.\u001b[39;00m\n\u001b[32m   2570\u001b[39m \u001b[38;5;28;01mif\u001b[39;00m \u001b[38;5;28mgetattr\u001b[39m(fn, magic.MAGIC_OUTPUT_CAN_BE_SILENCED, \u001b[38;5;28;01mFalse\u001b[39;00m):\n",
      "\u001b[36mFile \u001b[39m\u001b[32m~/data/conda/envs/verosenv/lib/python3.12/site-packages/IPython/core/magics/execution.py:1452\u001b[39m, in \u001b[36mExecutionMagics.time\u001b[39m\u001b[34m(self, line, cell, local_ns)\u001b[39m\n\u001b[32m   1450\u001b[39m \u001b[38;5;28;01mif\u001b[39;00m interrupt_occured:\n\u001b[32m   1451\u001b[39m     \u001b[38;5;28;01mif\u001b[39;00m exit_on_interrupt \u001b[38;5;129;01mand\u001b[39;00m captured_exception:\n\u001b[32m-> \u001b[39m\u001b[32m1452\u001b[39m         \u001b[38;5;28;01mraise\u001b[39;00m captured_exception\n\u001b[32m   1453\u001b[39m     \u001b[38;5;28;01mreturn\u001b[39;00m\n\u001b[32m   1454\u001b[39m \u001b[38;5;28;01mreturn\u001b[39;00m out\n",
      "\u001b[36mFile \u001b[39m\u001b[32m~/data/conda/envs/verosenv/lib/python3.12/site-packages/IPython/core/magics/execution.py:1416\u001b[39m, in \u001b[36mExecutionMagics.time\u001b[39m\u001b[34m(self, line, cell, local_ns)\u001b[39m\n\u001b[32m   1414\u001b[39m st = clock2()\n\u001b[32m   1415\u001b[39m \u001b[38;5;28;01mtry\u001b[39;00m:\n\u001b[32m-> \u001b[39m\u001b[32m1416\u001b[39m     \u001b[43mexec\u001b[49m\u001b[43m(\u001b[49m\u001b[43mcode\u001b[49m\u001b[43m,\u001b[49m\u001b[43m \u001b[49m\u001b[43mglob\u001b[49m\u001b[43m,\u001b[49m\u001b[43m \u001b[49m\u001b[43mlocal_ns\u001b[49m\u001b[43m)\u001b[49m\n\u001b[32m   1417\u001b[39m     out = \u001b[38;5;28;01mNone\u001b[39;00m\n\u001b[32m   1418\u001b[39m     \u001b[38;5;66;03m# multi-line %%time case\u001b[39;00m\n",
      "\u001b[36mFile \u001b[39m\u001b[32m<timed exec>:2\u001b[39m\n",
      "\u001b[36mFile \u001b[39m\u001b[32m~/data/conda/envs/verosenv/lib/python3.12/site-packages/jax/_src/api.py:2186\u001b[39m, in \u001b[36mvjp\u001b[39m\u001b[34m(***failed resolving arguments***)\u001b[39m\n\u001b[32m   2184\u001b[39m \u001b[38;5;28;01mdel\u001b[39;00m reduce_axes\n\u001b[32m   2185\u001b[39m check_callable(fun)\n\u001b[32m-> \u001b[39m\u001b[32m2186\u001b[39m \u001b[38;5;28;01mreturn\u001b[39;00m \u001b[43m_vjp\u001b[49m\u001b[43m(\u001b[49m\n\u001b[32m   2187\u001b[39m \u001b[43m    \u001b[49m\u001b[43mlu\u001b[49m\u001b[43m.\u001b[49m\u001b[43mwrap_init\u001b[49m\u001b[43m(\u001b[49m\u001b[43mfun\u001b[49m\u001b[43m)\u001b[49m\u001b[43m,\u001b[49m\u001b[43m \u001b[49m\u001b[43m*\u001b[49m\u001b[43mprimals\u001b[49m\u001b[43m,\u001b[49m\u001b[43m \u001b[49m\u001b[43mhas_aux\u001b[49m\u001b[43m=\u001b[49m\u001b[43mhas_aux\u001b[49m\u001b[43m)\u001b[49m\n",
      "\u001b[36mFile \u001b[39m\u001b[32m~/data/conda/envs/verosenv/lib/python3.12/site-packages/jax/_src/api.py:2195\u001b[39m, in \u001b[36m_vjp\u001b[39m\u001b[34m(fun, has_aux, *primals)\u001b[39m\n\u001b[32m   2193\u001b[39m \u001b[38;5;28;01mif\u001b[39;00m \u001b[38;5;129;01mnot\u001b[39;00m has_aux:\n\u001b[32m   2194\u001b[39m   flat_fun, out_tree = flatten_fun_nokwargs(fun, in_tree)\n\u001b[32m-> \u001b[39m\u001b[32m2195\u001b[39m   out_primals, vjp = \u001b[43mad\u001b[49m\u001b[43m.\u001b[49m\u001b[43mvjp\u001b[49m\u001b[43m(\u001b[49m\u001b[43mflat_fun\u001b[49m\u001b[43m,\u001b[49m\u001b[43m \u001b[49m\u001b[43mprimals_flat\u001b[49m\u001b[43m)\u001b[49m\n\u001b[32m   2196\u001b[39m   out_tree = out_tree()\n\u001b[32m   2197\u001b[39m \u001b[38;5;28;01melse\u001b[39;00m:\n",
      "\u001b[36mFile \u001b[39m\u001b[32m~/data/conda/envs/verosenv/lib/python3.12/site-packages/jax/_src/interpreters/ad.py:143\u001b[39m, in \u001b[36mvjp\u001b[39m\u001b[34m(traceable, primals, has_aux)\u001b[39m\n\u001b[32m    141\u001b[39m \u001b[38;5;28;01mdef\u001b[39;00m\u001b[38;5;250m \u001b[39m\u001b[34mvjp\u001b[39m(traceable, primals, has_aux=\u001b[38;5;28;01mFalse\u001b[39;00m):\n\u001b[32m    142\u001b[39m   \u001b[38;5;28;01mif\u001b[39;00m \u001b[38;5;129;01mnot\u001b[39;00m has_aux:\n\u001b[32m--> \u001b[39m\u001b[32m143\u001b[39m     out_primals, pvals, jaxpr, consts = \u001b[43mlinearize\u001b[49m\u001b[43m(\u001b[49m\u001b[43mtraceable\u001b[49m\u001b[43m,\u001b[49m\u001b[43m \u001b[49m\u001b[43m*\u001b[49m\u001b[43mprimals\u001b[49m\u001b[43m)\u001b[49m\n\u001b[32m    144\u001b[39m   \u001b[38;5;28;01melse\u001b[39;00m:\n\u001b[32m    145\u001b[39m     out_primals, pvals, jaxpr, consts, aux = linearize(traceable, *primals, has_aux=\u001b[38;5;28;01mTrue\u001b[39;00m)\n",
      "\u001b[36mFile \u001b[39m\u001b[32m~/data/conda/envs/verosenv/lib/python3.12/site-packages/jax/_src/interpreters/ad.py:132\u001b[39m, in \u001b[36mlinearize\u001b[39m\u001b[34m(traceable, *primals, **kwargs)\u001b[39m\n\u001b[32m    130\u001b[39m _, in_tree = tree_flatten(((primals, primals), {}))\n\u001b[32m    131\u001b[39m jvpfun_flat, out_tree = flatten_fun(jvpfun, in_tree)\n\u001b[32m--> \u001b[39m\u001b[32m132\u001b[39m jaxpr, out_pvals, consts = \u001b[43mpe\u001b[49m\u001b[43m.\u001b[49m\u001b[43mtrace_to_jaxpr_nounits\u001b[49m\u001b[43m(\u001b[49m\u001b[43mjvpfun_flat\u001b[49m\u001b[43m,\u001b[49m\u001b[43m \u001b[49m\u001b[43min_pvals\u001b[49m\u001b[43m)\u001b[49m\n\u001b[32m    133\u001b[39m out_primals_pvals, out_tangents_pvals = tree_unflatten(out_tree(), out_pvals)\n\u001b[32m    134\u001b[39m \u001b[38;5;28;01massert\u001b[39;00m \u001b[38;5;28mall\u001b[39m(out_primal_pval.is_known() \u001b[38;5;28;01mfor\u001b[39;00m out_primal_pval \u001b[38;5;129;01min\u001b[39;00m out_primals_pvals)\n",
      "\u001b[36mFile \u001b[39m\u001b[32m~/data/conda/envs/verosenv/lib/python3.12/site-packages/jax/_src/profiler.py:336\u001b[39m, in \u001b[36mannotate_function.<locals>.wrapper\u001b[39m\u001b[34m(*args, **kwargs)\u001b[39m\n\u001b[32m    333\u001b[39m \u001b[38;5;129m@wraps\u001b[39m(func)\n\u001b[32m    334\u001b[39m \u001b[38;5;28;01mdef\u001b[39;00m\u001b[38;5;250m \u001b[39m\u001b[34mwrapper\u001b[39m(*args, **kwargs):\n\u001b[32m    335\u001b[39m   \u001b[38;5;28;01mwith\u001b[39;00m TraceAnnotation(name, **decorator_kwargs):\n\u001b[32m--> \u001b[39m\u001b[32m336\u001b[39m     \u001b[38;5;28;01mreturn\u001b[39;00m \u001b[43mfunc\u001b[49m\u001b[43m(\u001b[49m\u001b[43m*\u001b[49m\u001b[43margs\u001b[49m\u001b[43m,\u001b[49m\u001b[43m \u001b[49m\u001b[43m*\u001b[49m\u001b[43m*\u001b[49m\u001b[43mkwargs\u001b[49m\u001b[43m)\u001b[49m\n\u001b[32m    337\u001b[39m   \u001b[38;5;28;01mreturn\u001b[39;00m wrapper\n",
      "\u001b[36mFile \u001b[39m\u001b[32m~/data/conda/envs/verosenv/lib/python3.12/site-packages/jax/_src/interpreters/partial_eval.py:777\u001b[39m, in \u001b[36mtrace_to_jaxpr_nounits\u001b[39m\u001b[34m(fun, pvals, instantiate)\u001b[39m\n\u001b[32m    775\u001b[39m \u001b[38;5;28;01mwith\u001b[39;00m core.new_main(JaxprTrace, name_stack=current_name_stack) \u001b[38;5;28;01mas\u001b[39;00m main:\n\u001b[32m    776\u001b[39m   fun = trace_to_subjaxpr_nounits(fun, main, instantiate)\n\u001b[32m--> \u001b[39m\u001b[32m777\u001b[39m   jaxpr, (out_pvals, consts, env) = \u001b[43mfun\u001b[49m\u001b[43m.\u001b[49m\u001b[43mcall_wrapped\u001b[49m\u001b[43m(\u001b[49m\u001b[43mpvals\u001b[49m\u001b[43m)\u001b[49m\n\u001b[32m    778\u001b[39m   \u001b[38;5;28;01massert\u001b[39;00m \u001b[38;5;129;01mnot\u001b[39;00m env\n\u001b[32m    779\u001b[39m   \u001b[38;5;28;01mdel\u001b[39;00m main, fun, env\n",
      "\u001b[36mFile \u001b[39m\u001b[32m~/data/conda/envs/verosenv/lib/python3.12/site-packages/jax/_src/linear_util.py:193\u001b[39m, in \u001b[36mWrappedFun.call_wrapped\u001b[39m\u001b[34m(self, *args, **kwargs)\u001b[39m\n\u001b[32m    190\u001b[39m gen = gen_static_args = out_store = \u001b[38;5;28;01mNone\u001b[39;00m\n\u001b[32m    192\u001b[39m \u001b[38;5;28;01mtry\u001b[39;00m:\n\u001b[32m--> \u001b[39m\u001b[32m193\u001b[39m   ans = \u001b[38;5;28;43mself\u001b[39;49m\u001b[43m.\u001b[49m\u001b[43mf\u001b[49m\u001b[43m(\u001b[49m\u001b[43m*\u001b[49m\u001b[43margs\u001b[49m\u001b[43m,\u001b[49m\u001b[43m \u001b[49m\u001b[43m*\u001b[49m\u001b[43m*\u001b[49m\u001b[38;5;28;43mdict\u001b[39;49m\u001b[43m(\u001b[49m\u001b[38;5;28;43mself\u001b[39;49m\u001b[43m.\u001b[49m\u001b[43mparams\u001b[49m\u001b[43m,\u001b[49m\u001b[43m \u001b[49m\u001b[43m*\u001b[49m\u001b[43m*\u001b[49m\u001b[43mkwargs\u001b[49m\u001b[43m)\u001b[49m\u001b[43m)\u001b[49m\n\u001b[32m    194\u001b[39m \u001b[38;5;28;01mexcept\u001b[39;00m:\n\u001b[32m    195\u001b[39m   \u001b[38;5;66;03m# Some transformations yield from inside context managers, so we have to\u001b[39;00m\n\u001b[32m    196\u001b[39m   \u001b[38;5;66;03m# interrupt them before reraising the exception. Otherwise they will only\u001b[39;00m\n\u001b[32m    197\u001b[39m   \u001b[38;5;66;03m# get garbage-collected at some later time, running their cleanup tasks\u001b[39;00m\n\u001b[32m    198\u001b[39m   \u001b[38;5;66;03m# only after this exception is handled, which can corrupt the global\u001b[39;00m\n\u001b[32m    199\u001b[39m   \u001b[38;5;66;03m# state.\u001b[39;00m\n\u001b[32m    200\u001b[39m   \u001b[38;5;28;01mwhile\u001b[39;00m stack:\n",
      "    \u001b[31m[... skipping hidden 18 frame]\u001b[39m\n",
      "\u001b[36mFile \u001b[39m\u001b[32m~/data/conda/envs/verosenv/lib/python3.12/site-packages/jax/_src/interpreters/pxla.py:1248\u001b[39m, in \u001b[36mExecuteReplicated.__call__\u001b[39m\u001b[34m(self, *args)\u001b[39m\n\u001b[32m   1246\u001b[39m   \u001b[38;5;28mself\u001b[39m._handle_token_bufs(result_token_bufs, sharded_runtime_token)\n\u001b[32m   1247\u001b[39m \u001b[38;5;28;01melse\u001b[39;00m:\n\u001b[32m-> \u001b[39m\u001b[32m1248\u001b[39m   results = \u001b[38;5;28;43mself\u001b[39;49m\u001b[43m.\u001b[49m\u001b[43mxla_executable\u001b[49m\u001b[43m.\u001b[49m\u001b[43mexecute_sharded\u001b[49m\u001b[43m(\u001b[49m\u001b[43minput_bufs\u001b[49m\u001b[43m)\u001b[49m\n\u001b[32m   1250\u001b[39m \u001b[38;5;28;01mif\u001b[39;00m dispatch.needs_check_special():\n\u001b[32m   1251\u001b[39m   out_arrays = results.disassemble_into_single_device_arrays()\n",
      "\u001b[31mXlaRuntimeError\u001b[39m: RESOURCE_EXHAUSTED: CUDA driver ran out of memory trying to instantiate CUDA graph with 4304 nodes and 0 conditionals (total of 0 alive CUDA graphs in the process). You can try to (a) Give more memory to CUDA driver by reducing XLA_PYTHON_CLIENT_MEM_FRACTION (b) Disable CUDA graph with 'XLA_FLAGS=--xla_gpu_enable_command_buffer=' (empty set). Original error: Failed to instantiate CUDA graph: CUDA_ERROR_OUT_OF_MEMORY: out of memory"
     ]
    }
   ],
   "source": [
    "%%time \n",
    "\n",
    "# Precache computation of jvp\n",
    "current_state, vjp_fun  = jax.vjp(step_function, state)\n",
    "_ = vjp_fun(state)"
   ]
  },
  {
   "cell_type": "code",
   "execution_count": null,
   "id": "bdf99ee9-c253-462f-8ab5-a31a27fe269a",
   "metadata": {},
   "outputs": [],
   "source": [
    "%%time\n",
    "state = state.copy()\n",
    "field = state.variables.temp\n",
    "\n",
    "output_forward, gradients = iterative_backward(state, var_name, var_value, step_function, agg_function, iterations=1)"
   ]
  },
  {
   "cell_type": "code",
   "execution_count": null,
   "id": "e1af62e2-f2fd-4324-a28a-468a5b52835e",
   "metadata": {},
   "outputs": [],
   "source": [
    "%%time\n",
    "output_forward, gradients = iterative_backward(state, var_name, var_value, step_function, agg_function, iterations=3)"
   ]
  },
  {
   "cell_type": "code",
   "execution_count": 11,
   "id": "2d2f30a6-1394-4bfa-bf1d-4cf5d6431d94",
   "metadata": {},
   "outputs": [
    {
     "name": "stdout",
     "output_type": "stream",
     "text": [
      "CPU times: user 12.2 s, sys: 135 ms, total: 12.3 s\n",
      "Wall time: 12.2 s\n"
     ]
    }
   ],
   "source": [
    "%%time\n",
    "output_forward, gradients = iterative_backward(state, var_name, var_value, step_function, agg_function, iterations=20)"
   ]
  },
  {
   "cell_type": "code",
   "execution_count": 12,
   "id": "e9600d89-6b7a-422b-aa54-81ce2a8862e8",
   "metadata": {},
   "outputs": [
    {
     "name": "stdout",
     "output_type": "stream",
     "text": [
      "CPU times: user 18.8 s, sys: 160 ms, total: 18.9 s\n",
      "Wall time: 18.7 s\n"
     ]
    }
   ],
   "source": [
    "%%time\n",
    "output_forward, gradients = iterative_backward(state, var_name, var_value, step_function, agg_function, iterations=30)"
   ]
  },
  {
   "cell_type": "markdown",
   "id": "3819320a-6fbb-493a-b2ae-5d3d76caea6f",
   "metadata": {},
   "source": [
    "# Time measurement "
   ]
  },
  {
   "cell_type": "code",
   "execution_count": 13,
   "id": "7aff82ed-3c6e-474a-8824-b0fc09768143",
   "metadata": {},
   "outputs": [],
   "source": [
    "import time, jax"
   ]
  },
  {
   "cell_type": "code",
   "execution_count": 14,
   "id": "af3f8666-4462-4349-b309-bef6e2956db7",
   "metadata": {},
   "outputs": [],
   "source": [
    "def measure_backward(state, var_name, var_value, step_function, agg_function, iterations=3):\n",
    "    \"\"\"\n",
    "    Measures execution time for iterative_backward.\n",
    "    Returns (output_forward, gradients, exec_time_s, peak_memory_MiB)\n",
    "    \"\"\"\n",
    "    # Start timing\n",
    "    start = time.time()\n",
    "    output_forward, gradients = iterative_backward(state, var_name, var_value, step_function, agg_function, iterations=iterations)\n",
    "    \n",
    "    # Force computation to finish\n",
    "    output_forward.block_until_ready() # Wait for the computation to finish\n",
    "    gradients.block_until_ready()\n",
    "    end = time.time()\n",
    "    exec_time = end - start\n",
    "    \n",
    "    return output_forward, gradients, exec_time"
   ]
  },
  {
   "cell_type": "code",
   "execution_count": 15,
   "id": "b010d79a-ddc3-4520-951c-c6865dbc1624",
   "metadata": {},
   "outputs": [
    {
     "name": "stdout",
     "output_type": "stream",
     "text": [
      "{'iterations': 0, 'time': 0.05199480056762695}\n",
      "{'iterations': 1, 'time': 0.6601417064666748}\n",
      "{'iterations': 2, 'time': 1.2049367427825928}\n",
      "{'iterations': 3, 'time': 2.162071704864502}\n",
      "{'iterations': 4, 'time': 2.3600287437438965}\n",
      "{'iterations': 5, 'time': 3.2862493991851807}\n",
      "{'iterations': 6, 'time': 3.919020175933838}\n",
      "{'iterations': 7, 'time': 4.479687213897705}\n",
      "{'iterations': 8, 'time': 5.001291990280151}\n",
      "{'iterations': 9, 'time': 5.62661600112915}\n",
      "{'iterations': 10, 'time': 6.616050481796265}\n",
      "{'iterations': 11, 'time': 6.630909442901611}\n",
      "{'iterations': 12, 'time': 7.8326334953308105}\n",
      "{'iterations': 13, 'time': 7.742902517318726}\n",
      "{'iterations': 14, 'time': 8.763912439346313}\n",
      "{'iterations': 15, 'time': 9.374128341674805}\n",
      "{'iterations': 16, 'time': 10.074889183044434}\n",
      "{'iterations': 17, 'time': 10.453115224838257}\n",
      "{'iterations': 18, 'time': 11.549152135848999}\n",
      "{'iterations': 19, 'time': 11.565499305725098}\n",
      "{'iterations': 20, 'time': 12.874145269393921}\n",
      "{'iterations': 21, 'time': 12.790291786193848}\n",
      "{'iterations': 22, 'time': 13.771219730377197}\n",
      "{'iterations': 23, 'time': 14.339873313903809}\n",
      "{'iterations': 24, 'time': 15.0643470287323}\n",
      "{'iterations': 25, 'time': 15.52191686630249}\n",
      "{'iterations': 26, 'time': 16.08431601524353}\n",
      "{'iterations': 27, 'time': 16.77557897567749}\n",
      "{'iterations': 28, 'time': 17.751071214675903}\n",
      "{'iterations': 29, 'time': 17.849785327911377}\n",
      "{'iterations': 30, 'time': 18.422056198120117}\n",
      "{'iterations': 31, 'time': 19.327928066253662}\n",
      "{'iterations': 32, 'time': 19.934701204299927}\n",
      "{'iterations': 33, 'time': 20.726396799087524}\n",
      "{'iterations': 34, 'time': 21.231563329696655}\n",
      "{'iterations': 35, 'time': 21.066218852996826}\n",
      "{'iterations': 36, 'time': 22.746906518936157}\n",
      "{'iterations': 37, 'time': 22.826667308807373}\n",
      "{'iterations': 38, 'time': 23.375782012939453}\n",
      "{'iterations': 39, 'time': 24.41997981071472}\n",
      "{'iterations': 40, 'time': 24.6024432182312}\n",
      "{'iterations': 41, 'time': 25.61769962310791}\n",
      "{'iterations': 42, 'time': 25.788761377334595}\n",
      "{'iterations': 43, 'time': 26.71547031402588}\n",
      "{'iterations': 44, 'time': 27.36645793914795}\n",
      "{'iterations': 45, 'time': 27.746143579483032}\n",
      "{'iterations': 46, 'time': 29.013108491897583}\n",
      "{'iterations': 47, 'time': 29.130831003189087}\n",
      "{'iterations': 48, 'time': 29.634763717651367}\n",
      "{'iterations': 49, 'time': 30.3639018535614}\n",
      "{'iterations': 50, 'time': 30.95588183403015}\n",
      "{'iterations': 51, 'time': 31.869542360305786}\n",
      "{'iterations': 52, 'time': 32.568888664245605}\n",
      "{'iterations': 53, 'time': 32.7143828868866}\n",
      "{'iterations': 54, 'time': 33.60789132118225}\n",
      "{'iterations': 55, 'time': 34.386643409729004}\n",
      "{'iterations': 56, 'time': 34.445560932159424}\n",
      "{'iterations': 57, 'time': 35.38776254653931}\n",
      "{'iterations': 58, 'time': 35.86823081970215}\n",
      "{'iterations': 59, 'time': 36.50588655471802}\n",
      "{'iterations': 60, 'time': 37.63134288787842}\n",
      "{'iterations': 61, 'time': 37.72712230682373}\n",
      "{'iterations': 62, 'time': 38.24573302268982}\n",
      "{'iterations': 63, 'time': 39.43320441246033}\n",
      "{'iterations': 64, 'time': 39.49989867210388}\n",
      "{'iterations': 65, 'time': 40.56112480163574}\n",
      "{'iterations': 66, 'time': 40.76179218292236}\n",
      "{'iterations': 67, 'time': 41.941572189331055}\n",
      "{'iterations': 68, 'time': 41.65837097167969}\n"
     ]
    },
    {
     "ename": "KeyboardInterrupt",
     "evalue": "",
     "output_type": "error",
     "traceback": [
      "\u001b[31m---------------------------------------------------------------------------\u001b[39m",
      "\u001b[31mKeyboardInterrupt\u001b[39m                         Traceback (most recent call last)",
      "\u001b[36mCell\u001b[39m\u001b[36m \u001b[39m\u001b[32mIn[15]\u001b[39m\u001b[32m, line 3\u001b[39m\n\u001b[32m      1\u001b[39m stats = []\n\u001b[32m      2\u001b[39m \u001b[38;5;28;01mfor\u001b[39;00m i \u001b[38;5;129;01min\u001b[39;00m \u001b[38;5;28mrange\u001b[39m(\u001b[32m100\u001b[39m) : \n\u001b[32m----> \u001b[39m\u001b[32m3\u001b[39m     output_forward, gradients, exec_time = \u001b[43mmeasure_backward\u001b[49m\u001b[43m(\u001b[49m\u001b[43mstate\u001b[49m\u001b[43m,\u001b[49m\u001b[43m \u001b[49m\u001b[43mvar_name\u001b[49m\u001b[43m,\u001b[49m\u001b[43m \u001b[49m\u001b[43mvar_value\u001b[49m\u001b[43m,\u001b[49m\u001b[43m \u001b[49m\u001b[43mstep_function\u001b[49m\u001b[43m,\u001b[49m\u001b[43m \u001b[49m\u001b[43magg_function\u001b[49m\u001b[43m,\u001b[49m\u001b[43m \u001b[49m\u001b[43miterations\u001b[49m\u001b[43m=\u001b[49m\u001b[43mi\u001b[49m\u001b[43m)\u001b[49m\n\u001b[32m      4\u001b[39m     s = {\u001b[33m'\u001b[39m\u001b[33miterations\u001b[39m\u001b[33m'\u001b[39m : i, \u001b[33m'\u001b[39m\u001b[33mtime\u001b[39m\u001b[33m'\u001b[39m : exec_time}\n\u001b[32m      5\u001b[39m     \u001b[38;5;28mprint\u001b[39m(s)\n",
      "\u001b[36mCell\u001b[39m\u001b[36m \u001b[39m\u001b[32mIn[14]\u001b[39m\u001b[32m, line 8\u001b[39m, in \u001b[36mmeasure_backward\u001b[39m\u001b[34m(state, var_name, var_value, step_function, agg_function, iterations)\u001b[39m\n\u001b[32m      6\u001b[39m \u001b[38;5;66;03m# Start timing\u001b[39;00m\n\u001b[32m      7\u001b[39m start = time.time()\n\u001b[32m----> \u001b[39m\u001b[32m8\u001b[39m output_forward, gradients = \u001b[43miterative_backward\u001b[49m\u001b[43m(\u001b[49m\u001b[43mstate\u001b[49m\u001b[43m,\u001b[49m\u001b[43m \u001b[49m\u001b[43mvar_name\u001b[49m\u001b[43m,\u001b[49m\u001b[43m \u001b[49m\u001b[43mvar_value\u001b[49m\u001b[43m,\u001b[49m\u001b[43m \u001b[49m\u001b[43mstep_function\u001b[49m\u001b[43m,\u001b[49m\u001b[43m \u001b[49m\u001b[43magg_function\u001b[49m\u001b[43m,\u001b[49m\u001b[43m \u001b[49m\u001b[43miterations\u001b[49m\u001b[43m=\u001b[49m\u001b[43miterations\u001b[49m\u001b[43m)\u001b[49m\n\u001b[32m     10\u001b[39m \u001b[38;5;66;03m# Force computation to finish\u001b[39;00m\n\u001b[32m     11\u001b[39m output_forward.block_until_ready() \u001b[38;5;66;03m# Wait for the computation to finish\u001b[39;00m\n",
      "\u001b[36mCell\u001b[39m\u001b[36m \u001b[39m\u001b[32mIn[5]\u001b[39m\u001b[32m, line 8\u001b[39m, in \u001b[36miterative_backward\u001b[39m\u001b[34m(state, var_name, var_value, step_function, agg_function, iterations)\u001b[39m\n\u001b[32m      6\u001b[39m funs = []\n\u001b[32m      7\u001b[39m \u001b[38;5;28;01mfor\u001b[39;00m i \u001b[38;5;129;01min\u001b[39;00m \u001b[38;5;28mrange\u001b[39m(iterations):\n\u001b[32m----> \u001b[39m\u001b[32m8\u001b[39m     current_state, vjp_fun  = \u001b[43mjax\u001b[49m\u001b[43m.\u001b[49m\u001b[43mvjp\u001b[49m\u001b[43m(\u001b[49m\u001b[43mstep_function\u001b[49m\u001b[43m,\u001b[49m\u001b[43m \u001b[49m\u001b[43mcurrent_state\u001b[49m\u001b[43m)\u001b[49m\n\u001b[32m      9\u001b[39m     funs.append(vjp_fun)\n\u001b[32m     11\u001b[39m \u001b[38;5;66;03m# Compute final output\u001b[39;00m\n",
      "\u001b[36mFile \u001b[39m\u001b[32m~/.conda/envs/verosenv/lib/python3.12/site-packages/jax/_src/api.py:2186\u001b[39m, in \u001b[36mvjp\u001b[39m\u001b[34m(***failed resolving arguments***)\u001b[39m\n\u001b[32m   2184\u001b[39m \u001b[38;5;28;01mdel\u001b[39;00m reduce_axes\n\u001b[32m   2185\u001b[39m check_callable(fun)\n\u001b[32m-> \u001b[39m\u001b[32m2186\u001b[39m \u001b[38;5;28;01mreturn\u001b[39;00m \u001b[43m_vjp\u001b[49m\u001b[43m(\u001b[49m\n\u001b[32m   2187\u001b[39m \u001b[43m    \u001b[49m\u001b[43mlu\u001b[49m\u001b[43m.\u001b[49m\u001b[43mwrap_init\u001b[49m\u001b[43m(\u001b[49m\u001b[43mfun\u001b[49m\u001b[43m)\u001b[49m\u001b[43m,\u001b[49m\u001b[43m \u001b[49m\u001b[43m*\u001b[49m\u001b[43mprimals\u001b[49m\u001b[43m,\u001b[49m\u001b[43m \u001b[49m\u001b[43mhas_aux\u001b[49m\u001b[43m=\u001b[49m\u001b[43mhas_aux\u001b[49m\u001b[43m)\u001b[49m\n",
      "\u001b[36mFile \u001b[39m\u001b[32m~/.conda/envs/verosenv/lib/python3.12/site-packages/jax/_src/api.py:2195\u001b[39m, in \u001b[36m_vjp\u001b[39m\u001b[34m(fun, has_aux, *primals)\u001b[39m\n\u001b[32m   2193\u001b[39m \u001b[38;5;28;01mif\u001b[39;00m \u001b[38;5;129;01mnot\u001b[39;00m has_aux:\n\u001b[32m   2194\u001b[39m   flat_fun, out_tree = flatten_fun_nokwargs(fun, in_tree)\n\u001b[32m-> \u001b[39m\u001b[32m2195\u001b[39m   out_primals, vjp = \u001b[43mad\u001b[49m\u001b[43m.\u001b[49m\u001b[43mvjp\u001b[49m\u001b[43m(\u001b[49m\u001b[43mflat_fun\u001b[49m\u001b[43m,\u001b[49m\u001b[43m \u001b[49m\u001b[43mprimals_flat\u001b[49m\u001b[43m)\u001b[49m\n\u001b[32m   2196\u001b[39m   out_tree = out_tree()\n\u001b[32m   2197\u001b[39m \u001b[38;5;28;01melse\u001b[39;00m:\n",
      "\u001b[36mFile \u001b[39m\u001b[32m~/.conda/envs/verosenv/lib/python3.12/site-packages/jax/_src/interpreters/ad.py:143\u001b[39m, in \u001b[36mvjp\u001b[39m\u001b[34m(traceable, primals, has_aux)\u001b[39m\n\u001b[32m    141\u001b[39m \u001b[38;5;28;01mdef\u001b[39;00m\u001b[38;5;250m \u001b[39m\u001b[34mvjp\u001b[39m(traceable, primals, has_aux=\u001b[38;5;28;01mFalse\u001b[39;00m):\n\u001b[32m    142\u001b[39m   \u001b[38;5;28;01mif\u001b[39;00m \u001b[38;5;129;01mnot\u001b[39;00m has_aux:\n\u001b[32m--> \u001b[39m\u001b[32m143\u001b[39m     out_primals, pvals, jaxpr, consts = \u001b[43mlinearize\u001b[49m\u001b[43m(\u001b[49m\u001b[43mtraceable\u001b[49m\u001b[43m,\u001b[49m\u001b[43m \u001b[49m\u001b[43m*\u001b[49m\u001b[43mprimals\u001b[49m\u001b[43m)\u001b[49m\n\u001b[32m    144\u001b[39m   \u001b[38;5;28;01melse\u001b[39;00m:\n\u001b[32m    145\u001b[39m     out_primals, pvals, jaxpr, consts, aux = linearize(traceable, *primals, has_aux=\u001b[38;5;28;01mTrue\u001b[39;00m)\n",
      "\u001b[36mFile \u001b[39m\u001b[32m~/.conda/envs/verosenv/lib/python3.12/site-packages/jax/_src/interpreters/ad.py:132\u001b[39m, in \u001b[36mlinearize\u001b[39m\u001b[34m(traceable, *primals, **kwargs)\u001b[39m\n\u001b[32m    130\u001b[39m _, in_tree = tree_flatten(((primals, primals), {}))\n\u001b[32m    131\u001b[39m jvpfun_flat, out_tree = flatten_fun(jvpfun, in_tree)\n\u001b[32m--> \u001b[39m\u001b[32m132\u001b[39m jaxpr, out_pvals, consts = \u001b[43mpe\u001b[49m\u001b[43m.\u001b[49m\u001b[43mtrace_to_jaxpr_nounits\u001b[49m\u001b[43m(\u001b[49m\u001b[43mjvpfun_flat\u001b[49m\u001b[43m,\u001b[49m\u001b[43m \u001b[49m\u001b[43min_pvals\u001b[49m\u001b[43m)\u001b[49m\n\u001b[32m    133\u001b[39m out_primals_pvals, out_tangents_pvals = tree_unflatten(out_tree(), out_pvals)\n\u001b[32m    134\u001b[39m \u001b[38;5;28;01massert\u001b[39;00m \u001b[38;5;28mall\u001b[39m(out_primal_pval.is_known() \u001b[38;5;28;01mfor\u001b[39;00m out_primal_pval \u001b[38;5;129;01min\u001b[39;00m out_primals_pvals)\n",
      "\u001b[36mFile \u001b[39m\u001b[32m~/.conda/envs/verosenv/lib/python3.12/site-packages/jax/_src/profiler.py:336\u001b[39m, in \u001b[36mannotate_function.<locals>.wrapper\u001b[39m\u001b[34m(*args, **kwargs)\u001b[39m\n\u001b[32m    333\u001b[39m \u001b[38;5;129m@wraps\u001b[39m(func)\n\u001b[32m    334\u001b[39m \u001b[38;5;28;01mdef\u001b[39;00m\u001b[38;5;250m \u001b[39m\u001b[34mwrapper\u001b[39m(*args, **kwargs):\n\u001b[32m    335\u001b[39m   \u001b[38;5;28;01mwith\u001b[39;00m TraceAnnotation(name, **decorator_kwargs):\n\u001b[32m--> \u001b[39m\u001b[32m336\u001b[39m     \u001b[38;5;28;01mreturn\u001b[39;00m \u001b[43mfunc\u001b[49m\u001b[43m(\u001b[49m\u001b[43m*\u001b[49m\u001b[43margs\u001b[49m\u001b[43m,\u001b[49m\u001b[43m \u001b[49m\u001b[43m*\u001b[49m\u001b[43m*\u001b[49m\u001b[43mkwargs\u001b[49m\u001b[43m)\u001b[49m\n\u001b[32m    337\u001b[39m   \u001b[38;5;28;01mreturn\u001b[39;00m wrapper\n",
      "\u001b[36mFile \u001b[39m\u001b[32m~/.conda/envs/verosenv/lib/python3.12/site-packages/jax/_src/interpreters/partial_eval.py:777\u001b[39m, in \u001b[36mtrace_to_jaxpr_nounits\u001b[39m\u001b[34m(fun, pvals, instantiate)\u001b[39m\n\u001b[32m    775\u001b[39m \u001b[38;5;28;01mwith\u001b[39;00m core.new_main(JaxprTrace, name_stack=current_name_stack) \u001b[38;5;28;01mas\u001b[39;00m main:\n\u001b[32m    776\u001b[39m   fun = trace_to_subjaxpr_nounits(fun, main, instantiate)\n\u001b[32m--> \u001b[39m\u001b[32m777\u001b[39m   jaxpr, (out_pvals, consts, env) = \u001b[43mfun\u001b[49m\u001b[43m.\u001b[49m\u001b[43mcall_wrapped\u001b[49m\u001b[43m(\u001b[49m\u001b[43mpvals\u001b[49m\u001b[43m)\u001b[49m\n\u001b[32m    778\u001b[39m   \u001b[38;5;28;01massert\u001b[39;00m \u001b[38;5;129;01mnot\u001b[39;00m env\n\u001b[32m    779\u001b[39m   \u001b[38;5;28;01mdel\u001b[39;00m main, fun, env\n",
      "\u001b[36mFile \u001b[39m\u001b[32m~/.conda/envs/verosenv/lib/python3.12/site-packages/jax/_src/linear_util.py:208\u001b[39m, in \u001b[36mWrappedFun.call_wrapped\u001b[39m\u001b[34m(self, *args, **kwargs)\u001b[39m\n\u001b[32m    206\u001b[39m gen, out_store = stack.pop()\n\u001b[32m    207\u001b[39m \u001b[38;5;28;01mtry\u001b[39;00m:\n\u001b[32m--> \u001b[39m\u001b[32m208\u001b[39m   ans = \u001b[43mgen\u001b[49m\u001b[43m.\u001b[49m\u001b[43msend\u001b[49m\u001b[43m(\u001b[49m\u001b[43mans\u001b[49m\u001b[43m)\u001b[49m\n\u001b[32m    209\u001b[39m \u001b[38;5;28;01mexcept\u001b[39;00m:\n\u001b[32m    210\u001b[39m   \u001b[38;5;66;03m# As above does for the first half of the transformation, exceptions\u001b[39;00m\n\u001b[32m    211\u001b[39m   \u001b[38;5;66;03m# raised in the second half of the transformation also require us to\u001b[39;00m\n\u001b[32m    212\u001b[39m   \u001b[38;5;66;03m# clean up references here.\u001b[39;00m\n\u001b[32m    213\u001b[39m   \u001b[38;5;28;01mwhile\u001b[39;00m stack:\n",
      "\u001b[36mFile \u001b[39m\u001b[32m~/.conda/envs/verosenv/lib/python3.12/site-packages/jax/_src/interpreters/partial_eval.py:789\u001b[39m, in \u001b[36mtrace_to_subjaxpr_nounits\u001b[39m\u001b[34m(main, instantiate, in_pvals)\u001b[39m\n\u001b[32m    783\u001b[39m \u001b[38;5;129m@lu\u001b[39m.transformation\n\u001b[32m    784\u001b[39m \u001b[38;5;28;01mdef\u001b[39;00m\u001b[38;5;250m \u001b[39m\u001b[34mtrace_to_subjaxpr_nounits\u001b[39m(\n\u001b[32m    785\u001b[39m     main: core.MainTrace,\n\u001b[32m    786\u001b[39m     instantiate: \u001b[38;5;28mbool\u001b[39m | Sequence[\u001b[38;5;28mbool\u001b[39m],\n\u001b[32m    787\u001b[39m     in_pvals: Sequence[PartialVal]):\n\u001b[32m    788\u001b[39m   \u001b[38;5;28;01massert\u001b[39;00m \u001b[38;5;28mall\u001b[39m(\u001b[38;5;28misinstance\u001b[39m(pv, PartialVal) \u001b[38;5;28;01mfor\u001b[39;00m pv \u001b[38;5;129;01min\u001b[39;00m in_pvals), in_pvals\n\u001b[32m--> \u001b[39m\u001b[32m789\u001b[39m   out_tracers, jaxpr, out_consts, env = \u001b[38;5;28;01myield from\u001b[39;00m _trace_to_subjaxpr_nounits(\n\u001b[32m    790\u001b[39m       main, instantiate, in_pvals)\n\u001b[32m    791\u001b[39m   out_pvals = [t.pval \u001b[38;5;28;01mfor\u001b[39;00m t \u001b[38;5;129;01min\u001b[39;00m out_tracers]\n\u001b[32m    792\u001b[39m   \u001b[38;5;28;01mdel\u001b[39;00m out_tracers\n",
      "\u001b[36mFile \u001b[39m\u001b[32m~/.conda/envs/verosenv/lib/python3.12/site-packages/jax/_src/interpreters/partial_eval.py:812\u001b[39m, in \u001b[36m_trace_to_subjaxpr_nounits\u001b[39m\u001b[34m(main, instantiate, in_pvals)\u001b[39m\n\u001b[32m    809\u001b[39m out_tracers = [trace.instantiate_const(trace.full_raise(t)) \u001b[38;5;28;01mif\u001b[39;00m inst \u001b[38;5;28;01melse\u001b[39;00m t\n\u001b[32m    810\u001b[39m                \u001b[38;5;28;01mfor\u001b[39;00m inst, t \u001b[38;5;129;01min\u001b[39;00m \u001b[38;5;28mzip\u001b[39m(instantiate, out_tracers)]\n\u001b[32m    811\u001b[39m out_tracers_ = [t \u001b[38;5;28;01mfor\u001b[39;00m t \u001b[38;5;129;01min\u001b[39;00m out_tracers \u001b[38;5;28;01mif\u001b[39;00m \u001b[38;5;129;01mnot\u001b[39;00m t.is_known()]\n\u001b[32m--> \u001b[39m\u001b[32m812\u001b[39m jaxpr, out_consts, env = \u001b[43mtracers_to_jaxpr\u001b[49m\u001b[43m(\u001b[49m\u001b[43min_tracers\u001b[49m\u001b[43m,\u001b[49m\u001b[43m \u001b[49m\u001b[43mout_tracers_\u001b[49m\u001b[43m)\u001b[49m\n\u001b[32m    813\u001b[39m \u001b[38;5;28;01mreturn\u001b[39;00m out_tracers, jaxpr, out_consts, env\n",
      "\u001b[36mFile \u001b[39m\u001b[32m~/.conda/envs/verosenv/lib/python3.12/site-packages/jax/_src/interpreters/partial_eval.py:960\u001b[39m, in \u001b[36mtracers_to_jaxpr\u001b[39m\u001b[34m(in_tracers, out_tracers)\u001b[39m\n\u001b[32m    958\u001b[39m processed_eqn_ids = \u001b[38;5;28mset\u001b[39m()\n\u001b[32m    959\u001b[39m eqns: \u001b[38;5;28mlist\u001b[39m[core.JaxprEqn] = []\n\u001b[32m--> \u001b[39m\u001b[32m960\u001b[39m \u001b[38;5;28;01mfor\u001b[39;00m t \u001b[38;5;129;01min\u001b[39;00m \u001b[43mtoposort\u001b[49m\u001b[43m(\u001b[49m\u001b[43m[\u001b[49m\u001b[43m*\u001b[49m\u001b[43min_tracers\u001b[49m\u001b[43m,\u001b[49m\u001b[43m \u001b[49m\u001b[43m*\u001b[49m\u001b[43mout_tracers\u001b[49m\u001b[43m]\u001b[49m\u001b[43m)\u001b[49m:\n\u001b[32m    961\u001b[39m   r = t.recipe\n\u001b[32m    962\u001b[39m   \u001b[38;5;28;01mif\u001b[39;00m \u001b[38;5;28misinstance\u001b[39m(r, JaxprEqnRecipe):\n\u001b[32m    963\u001b[39m     \u001b[38;5;66;03m# TODO broadcast_in_dim can create a new tracer, not present in parents\u001b[39;00m\n",
      "\u001b[36mFile \u001b[39m\u001b[32m~/.conda/envs/verosenv/lib/python3.12/site-packages/jax/_src/util.py:230\u001b[39m, in \u001b[36mtoposort\u001b[39m\u001b[34m(end_nodes)\u001b[39m\n\u001b[32m    228\u001b[39m \u001b[38;5;28;01mwhile\u001b[39;00m stack:\n\u001b[32m    229\u001b[39m   node = stack.pop()\n\u001b[32m--> \u001b[39m\u001b[32m230\u001b[39m   \u001b[38;5;28;01mif\u001b[39;00m \u001b[38;5;28;43mid\u001b[39;49m\u001b[43m(\u001b[49m\u001b[43mnode\u001b[49m\u001b[43m)\u001b[49m \u001b[38;5;129;01min\u001b[39;00m child_counts:\n\u001b[32m    231\u001b[39m     child_counts[\u001b[38;5;28mid\u001b[39m(node)] += \u001b[32m1\u001b[39m\n\u001b[32m    232\u001b[39m   \u001b[38;5;28;01melse\u001b[39;00m:\n",
      "\u001b[31mKeyboardInterrupt\u001b[39m: "
     ]
    }
   ],
   "source": [
    "stats = []\n",
    "for i in range(100) : \n",
    "    output_forward, gradients, exec_time = measure_backward(state, var_name, var_value, step_function, agg_function, iterations=i)\n",
    "    s = {'iterations' : i, 'time' : exec_time}\n",
    "    print(s)\n",
    "    stats.append(s)"
   ]
  },
  {
   "cell_type": "code",
   "execution_count": 17,
   "id": "16fe0b25-894f-4e29-85fa-7d625bc67aef",
   "metadata": {},
   "outputs": [],
   "source": [
    "df = pd.DataFrame(stats)"
   ]
  },
  {
   "cell_type": "code",
   "execution_count": 19,
   "id": "6e4a8a2a-b7ad-40a5-8375-29aab780805d",
   "metadata": {},
   "outputs": [],
   "source": [
    "df.to_csv('stats_grads_tensor_experimental_101025.csv')"
   ]
  },
  {
   "cell_type": "code",
   "execution_count": 20,
   "id": "76bb2648-8ff1-4000-beff-c9ca860edf72",
   "metadata": {},
   "outputs": [
    {
     "data": {
      "text/html": [
       "<div>\n",
       "<style scoped>\n",
       "    .dataframe tbody tr th:only-of-type {\n",
       "        vertical-align: middle;\n",
       "    }\n",
       "\n",
       "    .dataframe tbody tr th {\n",
       "        vertical-align: top;\n",
       "    }\n",
       "\n",
       "    .dataframe thead th {\n",
       "        text-align: right;\n",
       "    }\n",
       "</style>\n",
       "<table border=\"1\" class=\"dataframe\">\n",
       "  <thead>\n",
       "    <tr style=\"text-align: right;\">\n",
       "      <th></th>\n",
       "      <th>iterations</th>\n",
       "      <th>time</th>\n",
       "    </tr>\n",
       "  </thead>\n",
       "  <tbody>\n",
       "    <tr>\n",
       "      <th>0</th>\n",
       "      <td>0</td>\n",
       "      <td>0.051995</td>\n",
       "    </tr>\n",
       "    <tr>\n",
       "      <th>1</th>\n",
       "      <td>1</td>\n",
       "      <td>0.660142</td>\n",
       "    </tr>\n",
       "    <tr>\n",
       "      <th>2</th>\n",
       "      <td>2</td>\n",
       "      <td>1.204937</td>\n",
       "    </tr>\n",
       "    <tr>\n",
       "      <th>3</th>\n",
       "      <td>3</td>\n",
       "      <td>2.162072</td>\n",
       "    </tr>\n",
       "    <tr>\n",
       "      <th>4</th>\n",
       "      <td>4</td>\n",
       "      <td>2.360029</td>\n",
       "    </tr>\n",
       "    <tr>\n",
       "      <th>...</th>\n",
       "      <td>...</td>\n",
       "      <td>...</td>\n",
       "    </tr>\n",
       "    <tr>\n",
       "      <th>64</th>\n",
       "      <td>64</td>\n",
       "      <td>39.499899</td>\n",
       "    </tr>\n",
       "    <tr>\n",
       "      <th>65</th>\n",
       "      <td>65</td>\n",
       "      <td>40.561125</td>\n",
       "    </tr>\n",
       "    <tr>\n",
       "      <th>66</th>\n",
       "      <td>66</td>\n",
       "      <td>40.761792</td>\n",
       "    </tr>\n",
       "    <tr>\n",
       "      <th>67</th>\n",
       "      <td>67</td>\n",
       "      <td>41.941572</td>\n",
       "    </tr>\n",
       "    <tr>\n",
       "      <th>68</th>\n",
       "      <td>68</td>\n",
       "      <td>41.658371</td>\n",
       "    </tr>\n",
       "  </tbody>\n",
       "</table>\n",
       "<p>69 rows × 2 columns</p>\n",
       "</div>"
      ],
      "text/plain": [
       "    iterations       time\n",
       "0            0   0.051995\n",
       "1            1   0.660142\n",
       "2            2   1.204937\n",
       "3            3   2.162072\n",
       "4            4   2.360029\n",
       "..         ...        ...\n",
       "64          64  39.499899\n",
       "65          65  40.561125\n",
       "66          66  40.761792\n",
       "67          67  41.941572\n",
       "68          68  41.658371\n",
       "\n",
       "[69 rows x 2 columns]"
      ]
     },
     "execution_count": 20,
     "metadata": {},
     "output_type": "execute_result"
    }
   ],
   "source": [
    "df"
   ]
  },
  {
   "cell_type": "code",
   "execution_count": 23,
   "id": "30fb0eb5-f4b5-4b01-9c0f-f046f9172d28",
   "metadata": {},
   "outputs": [
    {
     "ename": "AttributeError",
     "evalue": "module 'jax' has no attribute 'device'",
     "output_type": "error",
     "traceback": [
      "\u001b[31m---------------------------------------------------------------------------\u001b[39m",
      "\u001b[31mAttributeError\u001b[39m                            Traceback (most recent call last)",
      "\u001b[36mCell\u001b[39m\u001b[36m \u001b[39m\u001b[32mIn[23]\u001b[39m\u001b[32m, line 1\u001b[39m\n\u001b[32m----> \u001b[39m\u001b[32m1\u001b[39m \u001b[43mjax\u001b[49m\u001b[43m.\u001b[49m\u001b[43mdevice\u001b[49m\n",
      "\u001b[36mFile \u001b[39m\u001b[32m~/.conda/envs/verosenv/lib/python3.12/site-packages/jax/_src/deprecations.py:55\u001b[39m, in \u001b[36mdeprecation_getattr.<locals>.getattr\u001b[39m\u001b[34m(name)\u001b[39m\n\u001b[32m     53\u001b[39m   warnings.warn(message, \u001b[38;5;167;01mDeprecationWarning\u001b[39;00m, stacklevel=\u001b[32m2\u001b[39m)\n\u001b[32m     54\u001b[39m   \u001b[38;5;28;01mreturn\u001b[39;00m fn\n\u001b[32m---> \u001b[39m\u001b[32m55\u001b[39m \u001b[38;5;28;01mraise\u001b[39;00m \u001b[38;5;167;01mAttributeError\u001b[39;00m(\u001b[33mf\u001b[39m\u001b[33m\"\u001b[39m\u001b[33mmodule \u001b[39m\u001b[38;5;132;01m{\u001b[39;00mmodule\u001b[38;5;132;01m!r}\u001b[39;00m\u001b[33m has no attribute \u001b[39m\u001b[38;5;132;01m{\u001b[39;00mname\u001b[38;5;132;01m!r}\u001b[39;00m\u001b[33m\"\u001b[39m)\n",
      "\u001b[31mAttributeError\u001b[39m: module 'jax' has no attribute 'device'"
     ]
    }
   ],
   "source": [
    "jax.ge"
   ]
  },
  {
   "cell_type": "code",
   "execution_count": 25,
   "id": "4787536e-c332-4261-8ee0-015f416597d8",
   "metadata": {},
   "outputs": [
    {
     "name": "stdout",
     "output_type": "stream",
     "text": [
      "/var/lib/oar/.batch_job_bashrc: line 5: /home/emeunier/.bashrc: No such file or directory\n",
      "nvcc fatal   : No input files specified; use option --help for more information\n"
     ]
    }
   ],
   "source": [
    "!nvcc -v"
   ]
  },
  {
   "cell_type": "code",
   "execution_count": null,
   "id": "1922b667-8c67-43e4-a29a-66b0c56c5a7a",
   "metadata": {},
   "outputs": [],
   "source": []
  }
 ],
 "metadata": {
  "kernelspec": {
   "display_name": "Python (verosenv_kernel)",
   "language": "python",
   "name": "verosenv"
  },
  "language_info": {
   "codemirror_mode": {
    "name": "ipython",
    "version": 3
   },
   "file_extension": ".py",
   "mimetype": "text/x-python",
   "name": "python",
   "nbconvert_exporter": "python",
   "pygments_lexer": "ipython3",
   "version": "3.12.4"
  }
 },
 "nbformat": 4,
 "nbformat_minor": 5
}
