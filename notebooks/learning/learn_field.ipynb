{
 "cells": [
  {
   "cell_type": "code",
   "execution_count": 2,
   "id": "f401b793",
   "metadata": {},
   "outputs": [
    {
     "name": "stdout",
     "output_type": "stream",
     "text": [
      "Importing core modules\n",
      " Using computational backend jax on cpu\n",
      "  Kernels are compiled during first iteration, be patient\n",
      " Runtime settings are now locked\n",
      "\n"
     ]
    }
   ],
   "source": [
    "from __init__ import PRP; import sys\n",
    "sys.path.append(PRP)\n",
    "sys.path.append(PRP + 'scripts/')\n",
    "\n",
    "from scripts.grad_compare import *\n",
    "\n",
    "\n",
    "# from veros import runtime_settings\n",
    "# setattr(runtime_settings, 'backend', 'jax')\n",
    "# setattr(runtime_settings, 'force_overwrite', True)\n",
    "# setattr(runtime_settings, 'linear_solver', 'scipy_jax')\n",
    "\n",
    "from setups.acc.acc_learning import ACCSetup\n",
    "from tqdm import tqdm\n",
    "\n"
   ]
  },
  {
   "cell_type": "code",
   "execution_count": 4,
   "id": "c1c2b274",
   "metadata": {},
   "outputs": [
    {
     "name": "stdout",
     "output_type": "stream",
     "text": [
      "Running model setup\n",
      "Diffusion grid factor delta_iso1 = 0.01942284820457075\n"
     ]
    },
    {
     "name": "stderr",
     "output_type": "stream",
     "text": [
      "100%|██████████| 300/300 [00:09<00:00, 32.52it/s]\n"
     ]
    }
   ],
   "source": [
    "acc = ACCSetup()\n",
    "acc.setup()\n",
    "\n",
    "for step in tqdm(range(300)) :\n",
    "    acc.step(acc.state)"
   ]
  },
  {
   "cell_type": "code",
   "execution_count": null,
   "id": "cb4071f3",
   "metadata": {},
   "outputs": [
    {
     "name": "stderr",
     "output_type": "stream",
     "text": [
      "100%|██████████| 3/3 [00:00<00:00, 11.00it/s]\n"
     ]
    },
    {
     "data": {
      "text/plain": [
       "Array(7.45361847, dtype=float64)"
      ]
     },
     "execution_count": 41,
     "metadata": {},
     "output_type": "execute_result"
    }
   ],
   "source": [
    "initial_state = acc.state.copy()\n",
    "\n",
    "target_state = initial_state.copy()\n",
    "\n",
    "for step in tqdm(range(3)) :\n",
    "    acc.step(target_state)\n",
    "\n",
    "target_state.variables.temp[:,:,:,1].mean()"
   ]
  },
  {
   "cell_type": "code",
   "execution_count": 42,
   "id": "33983b1a",
   "metadata": {},
   "outputs": [
    {
     "name": "stderr",
     "output_type": "stream",
     "text": [
      "  0%|          | 0/3 [00:00<?, ?it/s]"
     ]
    },
    {
     "name": "stderr",
     "output_type": "stream",
     "text": [
      "100%|██████████| 3/3 [00:00<00:00, 13.16it/s]\n"
     ]
    },
    {
     "data": {
      "text/plain": [
       "Array(9.68711851, dtype=float64)"
      ]
     },
     "execution_count": 42,
     "metadata": {},
     "output_type": "execute_result"
    }
   ],
   "source": [
    "perturb_state = initial_state.copy()\n",
    "\n",
    "with perturb_state.variables.unlock() :\n",
    "    perturb_state.variables.temp *= 1.3\n",
    "\n",
    "for step in tqdm(range(3)) :\n",
    "    acc.step(perturb_state)\n",
    "\n",
    "final_perturb_state = perturb_state.copy()\n",
    "\n",
    "final_perturb_state.variables.temp[:,:,:,1].mean()"
   ]
  },
  {
   "cell_type": "markdown",
   "id": "9323005f",
   "metadata": {},
   "source": [
    "# Gradients "
   ]
  },
  {
   "cell_type": "code",
   "execution_count": null,
   "id": "ad4442d5",
   "metadata": {},
   "outputs": [],
   "source": [
    "# Params auto-diff\n",
    "def agg_sum(state, target_state, key_sum = 'temp') :\n",
    "    return ((getattr(state.variables, key_sum)[...,1] - getattr(target_state.variables, key_sum)[...,1])**2).mean()\n",
    "\n",
    "step_function = acc.step\n",
    "agg_function = lambda state : agg_sum(state, target_state, key_sum='temp')\n",
    "\n",
    "\n",
    "vjpm = vjp_grad(step_function, agg_function, var_name)"
   ]
  },
  {
   "cell_type": "code",
   "execution_count": 75,
   "id": "666cf8e8",
   "metadata": {},
   "outputs": [],
   "source": [
    "perturb_state = initial_state.copy()\n",
    "target_field = initial_state.variables.temp.copy()\n",
    "\n",
    "with perturb_state.variables.unlock() :\n",
    "    perturb_state.variables.temp *= 1.3\n",
    "\n",
    "field = perturb_state.variables.temp.copy()"
   ]
  },
  {
   "cell_type": "code",
   "execution_count": 79,
   "id": "260f7ab6",
   "metadata": {},
   "outputs": [
    {
     "name": "stdout",
     "output_type": "stream",
     "text": [
      "loss : 7.69123618186966 distance eval : 7.716226089617581\n",
      "loss : 7.691079698513828 distance eval : 7.7161823772044436\n",
      "loss : 7.690923529836893 distance eval : 7.716138665680953\n",
      "loss : 7.690767290058912 distance eval : 7.716094955045168\n",
      "loss : 7.690611026493657 distance eval : 7.716051245297334\n",
      "loss : 7.690454781319037 distance eval : 7.716007536437663\n",
      "loss : 7.69029870214477 distance eval : 7.7159638284796195\n",
      "loss : 7.6901425035697395 distance eval : 7.715920121394601\n",
      "loss : 7.689986301946964 distance eval : 7.715876415196926\n",
      "loss : 7.689830111650173 distance eval : 7.7158327098872475\n",
      "loss : 7.689673924549991 distance eval : 7.715789005464916\n",
      "loss : 7.689517742480433 distance eval : 7.715745301930386\n",
      "loss : 7.689361583451092 distance eval : 7.7157015992840865\n",
      "loss : 7.689205410870526 distance eval : 7.715657897522437\n",
      "loss : 7.6890492441409855 distance eval : 7.715614196650683\n",
      "loss : 7.688893086460918 distance eval : 7.715570496665876\n",
      "loss : 7.688736907274526 distance eval : 7.7155267975686534\n",
      "loss : 7.688580690415253 distance eval : 7.715483099430772\n",
      "loss : 7.688424518197976 distance eval : 7.715439402109248\n",
      "loss : 7.688268472261529 distance eval : 7.715395705676648\n"
     ]
    },
    {
     "name": "stderr",
     "output_type": "stream",
     "text": [
      "Exception ignored in: <bound method IPythonKernel._clean_thread_parent_frames of <ipykernel.ipkernel.IPythonKernel object at 0x107b6fcb0>>\n",
      "Traceback (most recent call last):\n",
      "  File \"/Users/emeunier/miniforge3/envs/veros/lib/python3.12/site-packages/ipykernel/ipkernel.py\", line 770, in _clean_thread_parent_frames\n",
      "    def _clean_thread_parent_frames(\n",
      "\n",
      "KeyboardInterrupt: \n"
     ]
    },
    {
     "name": "stdout",
     "output_type": "stream",
     "text": [
      "loss : 7.68811228674884 distance eval : 7.7153520101278685\n",
      "loss : 7.687956158265357 distance eval : 7.715308315468617\n",
      "loss : 7.687800046950786 distance eval : 7.7152646216952965\n",
      "loss : 7.68764394169899 distance eval : 7.715220928815158\n",
      "loss : 7.6874878282613475 distance eval : 7.715177236817392\n",
      "loss : 7.687331716342502 distance eval : 7.715133545705765\n",
      "loss : 7.687175638767339 distance eval : 7.715089855482272\n",
      "loss : 7.687019547144327 distance eval : 7.71504616616578\n",
      "loss : 7.68686346115875 distance eval : 7.715002477716581\n",
      "loss : 7.68670737484111 distance eval : 7.714958790153419\n",
      "loss : 7.6865513099653064 distance eval : 7.7149151034762395\n",
      "loss : 7.686395214689149 distance eval : 7.714871417687474\n",
      "loss : 7.68623914564372 distance eval : 7.714827732793231\n",
      "loss : 7.686083076107605 distance eval : 7.714784048777927\n",
      "loss : 7.685927062511412 distance eval : 7.714740365650737\n",
      "loss : 7.685771062908711 distance eval : 7.7146966834218045\n",
      "loss : 7.685615009620913 distance eval : 7.7146530020674255\n",
      "loss : 7.685459197538407 distance eval : 7.714609321601112\n",
      "loss : 7.68530311713772 distance eval : 7.714565642015385\n",
      "loss : 7.685147155580489 distance eval : 7.7145219633213475\n",
      "loss : 7.68499117539864 distance eval : 7.714478285515788\n",
      "loss : 7.684835124094628 distance eval : 7.714434608595654\n",
      "loss : 7.684679125464143 distance eval : 7.714390932561833\n",
      "loss : 7.68452307739643 distance eval : 7.7143472574137055\n",
      "loss : 7.684367114814153 distance eval : 7.7143035831558\n",
      "loss : 7.684211116975453 distance eval : 7.714259909778689\n",
      "loss : 7.68405498826538 distance eval : 7.714216237363726\n",
      "loss : 7.683899101980458 distance eval : 7.714172565761612\n",
      "loss : 7.683743129418044 distance eval : 7.714128895044823\n",
      "loss : 7.68358721251331 distance eval : 7.714085225221999\n",
      "loss : 7.68343123738302 distance eval : 7.714041556277977\n",
      "loss : 7.683275278161282 distance eval : 7.713997888221032\n",
      "loss : 7.683119301490892 distance eval : 7.713954221050089\n",
      "loss : 7.682963349399285 distance eval : 7.713910554772617\n",
      "loss : 7.682807392995098 distance eval : 7.713866889375034\n",
      "loss : 7.682651473326582 distance eval : 7.713823224863626\n",
      "loss : 7.682495609998969 distance eval : 7.7137795612366675\n",
      "loss : 7.6823396611495545 distance eval : 7.713735898510088\n",
      "loss : 7.682183732188599 distance eval : 7.7136922366560565\n",
      "loss : 7.682027831333754 distance eval : 7.713648575682635\n",
      "loss : 7.68187195757001 distance eval : 7.713604915607031\n",
      "loss : 7.681715992297042 distance eval : 7.713561256433938\n",
      "loss : 7.681560050418948 distance eval : 7.713517598123134\n",
      "loss : 7.681404284840647 distance eval : 7.71347394071184\n",
      "loss : 7.681248377486164 distance eval : 7.713430284171579\n",
      "loss : 7.681092464680602 distance eval : 7.713386628510239\n",
      "loss : 7.680936737042971 distance eval : 7.713342973759978\n",
      "loss : 7.680780758957405 distance eval : 7.713299319879213\n",
      "loss : 7.680624976696734 distance eval : 7.71325566689765\n",
      "loss : 7.680469077678563 distance eval : 7.713212014781088\n",
      "loss : 7.680313194427302 distance eval : 7.713168363557359\n",
      "loss : 7.680157263442111 distance eval : 7.713124713224479\n",
      "loss : 7.680001405929748 distance eval : 7.7130810637821785\n",
      "loss : 7.679845540776764 distance eval : 7.713037415220083\n",
      "loss : 7.679689655577247 distance eval : 7.71299376754594\n",
      "loss : 7.67953380652205 distance eval : 7.712950120749645\n",
      "loss : 7.6793780174814765 distance eval : 7.712906474851182\n",
      "loss : 7.6792222417839175 distance eval : 7.71286282982239\n",
      "loss : 7.679066400068046 distance eval : 7.712819185680466\n",
      "loss : 7.67891057098645 distance eval : 7.712775542434273\n",
      "loss : 7.678754706764925 distance eval : 7.7127319000680385\n",
      "loss : 7.678598973720536 distance eval : 7.712688258594154\n",
      "loss : 7.678443146979634 distance eval : 7.7126446180086665\n",
      "loss : 7.678287333895213 distance eval : 7.7126009782975045\n",
      "loss : 7.678131510898318 distance eval : 7.71255733947145\n",
      "loss : 7.677975705063732 distance eval : 7.712513701528883\n",
      "loss : 7.677819929111494 distance eval : 7.7124700644688495\n",
      "loss : 7.677664111462867 distance eval : 7.712426428300247\n",
      "loss : 7.677508279781372 distance eval : 7.712382793017803\n",
      "loss : 7.677352493376628 distance eval : 7.712339158623337\n",
      "loss : 7.67719673114304 distance eval : 7.712295525105229\n",
      "loss : 7.677040930637177 distance eval : 7.712251892474781\n",
      "loss : 7.676885165059496 distance eval : 7.712208260733323\n",
      "loss : 7.676729364569106 distance eval : 7.712164629874871\n",
      "loss : 7.676573530433782 distance eval : 7.7121209999256815\n",
      "loss : 7.676417761008852 distance eval : 7.712077370839293\n",
      "loss : 7.676262008871759 distance eval : 7.71203374263919\n",
      "loss : 7.676106285486421 distance eval : 7.711990115334612\n",
      "loss : 7.675950534893345 distance eval : 7.711946488903228\n",
      "loss : 7.675794778528575 distance eval : 7.711902863358375\n",
      "loss : 7.675639062925268 distance eval : 7.711859238702007\n",
      "loss : 7.675483281418472 distance eval : 7.711815614925713\n"
     ]
    },
    {
     "ename": "",
     "evalue": "",
     "output_type": "error",
     "traceback": [
      "\u001b[1;31mThe Kernel crashed while executing code in the current cell or a previous cell. \n",
      "\u001b[1;31mPlease review the code in the cell(s) to identify a possible cause of the failure. \n",
      "\u001b[1;31mClick <a href='https://aka.ms/vscodeJupyterKernelCrash'>here</a> for more info. \n",
      "\u001b[1;31mView Jupyter <a href='command:jupyter.viewOutput'>log</a> for further details."
     ]
    }
   ],
   "source": [
    "stats = []\n",
    "for i in range(200) : \n",
    "    output_forward, gradients = vjpm.g(perturb_state, var_value = field, iterations=2, var_name = 'temp')\n",
    "    distance = ((field - target_field)**2).mean()\n",
    "    print(f'loss : {output_forward} distance eval : {distance}')\n",
    "    stats.append({'loss' : output_forward, 'distance' : distance})\n",
    "    field -= 1.0 * gradients"
   ]
  },
  {
   "cell_type": "code",
   "execution_count": null,
   "id": "fef787a1",
   "metadata": {},
   "outputs": [],
   "source": [
    "stats"
   ]
  },
  {
   "cell_type": "code",
   "execution_count": 72,
   "id": "fac0da9a",
   "metadata": {},
   "outputs": [
    {
     "name": "stdout",
     "output_type": "stream",
     "text": [
      "7.36808190758858e-31\n"
     ]
    }
   ],
   "source": [
    "print(output_forward)"
   ]
  },
  {
   "cell_type": "code",
   "execution_count": 63,
   "id": "bae428bd",
   "metadata": {},
   "outputs": [
    {
     "data": {
      "text/plain": [
       "Array(85.24857613, dtype=float64)"
      ]
     },
     "execution_count": 63,
     "metadata": {},
     "output_type": "execute_result"
    }
   ],
   "source": [
    "output_forward"
   ]
  },
  {
   "cell_type": "code",
   "execution_count": null,
   "id": "ce01df56",
   "metadata": {},
   "outputs": [],
   "source": []
  },
  {
   "cell_type": "code",
   "execution_count": null,
   "id": "200984ee",
   "metadata": {},
   "outputs": [],
   "source": []
  }
 ],
 "metadata": {
  "kernelspec": {
   "display_name": "veros",
   "language": "python",
   "name": "python3"
  },
  "language_info": {
   "codemirror_mode": {
    "name": "ipython",
    "version": 3
   },
   "file_extension": ".py",
   "mimetype": "text/x-python",
   "name": "python",
   "nbconvert_exporter": "python",
   "pygments_lexer": "ipython3",
   "version": "3.12.4"
  }
 },
 "nbformat": 4,
 "nbformat_minor": 5
}
