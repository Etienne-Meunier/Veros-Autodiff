{
 "cells": [
  {
   "cell_type": "code",
   "execution_count": 1,
   "id": "d9d04bff",
   "metadata": {},
   "outputs": [
    {
     "name": "stdout",
     "output_type": "stream",
     "text": [
      "/home/emeunier/code/Veros-Autodiff/\n",
      "Differentiable Veros Experimental version\n",
      "Importing core modules\n",
      " Using computational backend jax on gpu\n",
      "  Kernels are compiled during first iteration, be patient\n",
      " Runtime settings are now locked\n",
      "\n"
     ]
    },
    {
     "name": "stderr",
     "output_type": "stream",
     "text": [
      "2025-10-14 13:24:20.719011: W external/xla/xla/service/gpu/nvptx_compiler.cc:836] The NVIDIA driver's CUDA version is 12.2 which is older than the PTX compiler version (12.9.86). Because the driver is older than the PTX compiler version, XLA is disabling parallel compilation, which may slow down compilation. You should update your NVIDIA driver or use the NVIDIA-provided CUDA forward compatibility packages.\n"
     ]
    }
   ],
   "source": [
    "from __init__ import PRP; import sys\n",
    "sys.path.append(PRP)\n",
    "\n",
    "from scripts.grad_compare import *\n",
    "from scripts.utils import *\n",
    "\n",
    "from setups.acc.acc_learning import ACCSetup\n",
    "from tqdm import tqdm\n",
    "import gc \n",
    "import pandas as pd\n",
    "import seaborn as sns\n",
    "import matplotlib.pyplot as plt\n",
    "import seaborn as sn\n",
    "\n",
    "from jax import lax"
   ]
  },
  {
   "cell_type": "markdown",
   "id": "26d41313-9a89-408f-8873-4efe43610c1c",
   "metadata": {},
   "source": [
    "# Spin-up"
   ]
  },
  {
   "cell_type": "code",
   "execution_count": 2,
   "id": "e0a542ad",
   "metadata": {},
   "outputs": [
    {
     "name": "stdout",
     "output_type": "stream",
     "text": [
      "Running model setup\n",
      "Diffusion grid factor delta_iso1 = 0.01942284820457075\n",
      "Running model setup\n",
      "Diffusion grid factor delta_iso1 = 0.01942284820457075\n"
     ]
    },
    {
     "name": "stderr",
     "output_type": "stream",
     "text": [
      "100%|██████████| 20/20 [00:21<00:00,  1.10s/it]\n"
     ]
    }
   ],
   "source": [
    "# Spin-up \n",
    "warmup_steps = 20\n",
    "acc = ACCSetup()\n",
    "acc.setup()\n",
    "\n",
    "\n",
    "def ps(state) : \n",
    "    n_state = state.copy()\n",
    "    acc.step(n_state)\n",
    "    return n_state\n",
    "\n",
    "# Spin-up \n",
    "acc = ACCSetup()\n",
    "acc.setup()\n",
    "\n",
    "step_jit = jax.jit(ps)\n",
    "\n",
    "state = acc.state.copy()\n",
    "for step in tqdm(range(warmup_steps)) :\n",
    "    state = step_jit(state)"
   ]
  },
  {
   "cell_type": "markdown",
   "id": "9e2c6d43",
   "metadata": {},
   "source": [
    "Backward vjp - Directional Gradients"
   ]
  },
  {
   "cell_type": "markdown",
   "id": "03b5f7cb-f685-4128-b411-1a62536e7bf6",
   "metadata": {},
   "source": [
    "# Methods"
   ]
  },
  {
   "cell_type": "code",
   "execution_count": 3,
   "id": "c67f5026-fe37-4252-8ff3-d7eae5cdee2f",
   "metadata": {},
   "outputs": [],
   "source": [
    "direction = jax.random.normal(jax.random.PRNGKey(0), acc.state.variables.u.shape)\n",
    "direction = direction / jnp.linalg.norm(direction)  # normalize"
   ]
  },
  {
   "cell_type": "code",
   "execution_count": 4,
   "id": "c2a1d09d-1f2e-428e-90a9-bbd4a12991b8",
   "metadata": {},
   "outputs": [],
   "source": [
    "var_agg = 'temp'\n",
    "def agg_sum(state, key_sum = 'temp') :\n",
    "    tau = getattr(state.variables, 'tau')\n",
    "    return ((getattr(state.variables, key_sum)[...,tau])**2).mean()\n",
    "    \n",
    "agg_function = lambda state : agg_sum(state, key_sum=var_agg)\n",
    "\n",
    "vjpm = vjp_grad(acc.step, agg_function, var_agg)\n",
    "\n",
    "\n",
    "vjpm.step_function = jax.jit(vjpm.step_function)\n",
    "vjpm.agg_function = jax.jit(vjpm.agg_function)\n",
    "\n",
    "loss_and_grad = lambda s, v, it: vjpm.g(s, v, iterations=it)\n"
   ]
  },
  {
   "cell_type": "code",
   "execution_count": 9,
   "id": "b59dedd1-e690-4d16-8844-c8deed3c0768",
   "metadata": {},
   "outputs": [
    {
     "name": "stdout",
     "output_type": "stream",
     "text": [
      "CPU times: user 1.47 s, sys: 11.5 ms, total: 1.48 s\n",
      "Wall time: 1.43 s\n"
     ]
    }
   ],
   "source": [
    "%%time\n",
    "state = state.copy()\n",
    "field = state.variables.temp\n",
    "\n",
    "output_forward, gradients = loss_and_grad(state, field, it=2)"
   ]
  },
  {
   "cell_type": "code",
   "execution_count": 33,
   "id": "90805e97",
   "metadata": {},
   "outputs": [],
   "source": [
    "def dir_der_autodiff(state, field, direction, step_function, n_iteration) :\n",
    "    \n",
    "    def agg_sum(state, key_sum = 'temp') :\n",
    "        tau = getattr(state.variables, 'tau')\n",
    "        return ((getattr(state.variables, key_sum)[...,tau])**2).mean()\n",
    "    \n",
    "    agg_function = lambda state : agg_sum(state, key_sum=var_agg)\n",
    "    \n",
    "    vjpm = vjp_grad_new(step_function, agg_function, var_agg)\n",
    "    \n",
    "    loss_and_grad = jax.jit(lambda s, v: vjpm.g(s, v, iterations=n_iteration))\n",
    "\n",
    "    state = state.copy()\n",
    "    field = state.variables.temp\n",
    "    \n",
    "    output_forward, gradients = loss_and_grad(state, field)\n",
    "    analytical_dir_deriv = jnp.sum(gradients * direction)\n",
    "    return analytical_dir_deriv"
   ]
  },
  {
   "cell_type": "code",
   "execution_count": 34,
   "id": "07fffee1-ccd9-409b-af48-f97c428d33ae",
   "metadata": {},
   "outputs": [
    {
     "data": {
      "text/plain": [
       "Array(-0.00020858, dtype=float64)"
      ]
     },
     "execution_count": 34,
     "metadata": {},
     "output_type": "execute_result"
    }
   ],
   "source": [
    "dir_der_autodiff(state, field, direction, step_function, n_iteration)"
   ]
  },
  {
   "cell_type": "markdown",
   "id": "8d46ec74",
   "metadata": {},
   "source": [
    "Numerical diff"
   ]
  },
  {
   "cell_type": "code",
   "execution_count": 31,
   "id": "36890d08",
   "metadata": {},
   "outputs": [],
   "source": [
    "# Numerical directional derivative check for the full tensor\n",
    "\n",
    "def dir_der_numerical(state, field, direction, step_function,\n",
    "                      agg_function, n_iteration, epsilon=1e-4) : \n",
    "\n",
    "    ndiffm = numerical_diff(step_function, agg_function, var_agg)\n",
    "    \n",
    "    def perturb(field, direction, epsilon= 1e-4) : \n",
    "        field_pert = field.copy() + epsilon * direction\n",
    "        return field_pert\n",
    "    \n",
    "    forward = lambda f : ndiffm.wrapper(f,\n",
    "                          state,\n",
    "                          lambda state : ndiffm.pure(state, step_function),\n",
    "                          var_agg, agg_function, n_iteration)\n",
    "    \n",
    "    field_plus = perturb(field, direction)\n",
    "    f_plus = forward(field_plus)\n",
    "    \n",
    "    field_minus = perturb(field, -direction)\n",
    "    f_minus = forward(field_minus)\n",
    "    \n",
    "    numerical_dir_deriv = (f_plus - f_minus) / (2 * epsilon)\n",
    "    return numerical_dir_deriv"
   ]
  },
  {
   "cell_type": "code",
   "execution_count": 32,
   "id": "a3af24b2-2220-4f59-a23d-c11ed69cd9c5",
   "metadata": {},
   "outputs": [
    {
     "data": {
      "text/plain": [
       "Array(-0.00020858, dtype=float64)"
      ]
     },
     "execution_count": 32,
     "metadata": {},
     "output_type": "execute_result"
    }
   ],
   "source": [
    "dir_der_numerical(state, field, direction, step_function,\n",
    "                      agg_function, n_iteration, epsilon=1e-4)"
   ]
  },
  {
   "cell_type": "markdown",
   "id": "defdd344-9fb1-47e3-99a1-4898f772c1e2",
   "metadata": {},
   "source": [
    "# Precision vs. iteration"
   ]
  },
  {
   "cell_type": "code",
   "execution_count": 38,
   "id": "f456fc7f-1a17-445c-a362-a467fc451399",
   "metadata": {},
   "outputs": [
    {
     "name": "stdout",
     "output_type": "stream",
     "text": [
      "{'n_iteration': 0, 'autodiff_grad': Array(-0.00012743, dtype=float64), 'numerical_grad': Array(-0.00012743, dtype=float64)}\n",
      "{'n_iteration': 1, 'autodiff_grad': Array(-0.00020858, dtype=float64), 'numerical_grad': Array(-0.00020858, dtype=float64)}\n",
      "{'n_iteration': 2, 'autodiff_grad': Array(-0.00019662, dtype=float64), 'numerical_grad': Array(-0.00019604, dtype=float64)}\n",
      "{'n_iteration': 3, 'autodiff_grad': Array(-0.00017864, dtype=float64), 'numerical_grad': Array(-0.00017505, dtype=float64)}\n",
      "{'n_iteration': 4, 'autodiff_grad': Array(-0.00016696, dtype=float64), 'numerical_grad': Array(-0.00016528, dtype=float64)}\n"
     ]
    },
    {
     "name": "stderr",
     "output_type": "stream",
     "text": [
      "2025-10-09 16:19:54.372749: E external/xla/xla/service/slow_operation_alarm.cc:65] \n",
      "********************************\n",
      "[Compiling module jit__lambda_] Very slow compile? If you want to file a bug, run with envvar XLA_FLAGS=--xla_dump_to=/tmp/foo and attach the results.\n",
      "********************************\n",
      "2025-10-09 16:20:34.513964: E external/xla/xla/service/slow_operation_alarm.cc:133] The operation took 2m40.141367315s\n",
      "\n",
      "********************************\n",
      "[Compiling module jit__lambda_] Very slow compile? If you want to file a bug, run with envvar XLA_FLAGS=--xla_dump_to=/tmp/foo and attach the results.\n",
      "********************************\n"
     ]
    },
    {
     "name": "stdout",
     "output_type": "stream",
     "text": [
      "{'n_iteration': 5, 'autodiff_grad': Array(-0.00016017, dtype=float64), 'numerical_grad': Array(-0.00016113, dtype=float64)}\n"
     ]
    },
    {
     "name": "stderr",
     "output_type": "stream",
     "text": [
      "2025-10-09 16:27:10.794574: E external/xla/xla/service/slow_operation_alarm.cc:133] The operation took 3m28.158825261s\n",
      "\n",
      "********************************\n",
      "[Compiling module jit__lambda_] Very slow compile? If you want to file a bug, run with envvar XLA_FLAGS=--xla_dump_to=/tmp/foo and attach the results.\n",
      "********************************\n"
     ]
    },
    {
     "name": "stdout",
     "output_type": "stream",
     "text": [
      "{'n_iteration': 6, 'autodiff_grad': Array(-0.03631675, dtype=float64), 'numerical_grad': Array(-0.00015078, dtype=float64)}\n"
     ]
    },
    {
     "name": "stderr",
     "output_type": "stream",
     "text": [
      "2025-10-09 16:35:13.831313: E external/xla/xla/service/slow_operation_alarm.cc:133] The operation took 4m13.445182311s\n",
      "\n",
      "********************************\n",
      "[Compiling module jit__lambda_] Very slow compile? If you want to file a bug, run with envvar XLA_FLAGS=--xla_dump_to=/tmp/foo and attach the results.\n",
      "********************************\n"
     ]
    },
    {
     "ename": "KeyboardInterrupt",
     "evalue": "",
     "output_type": "error",
     "traceback": [
      "\u001b[31m---------------------------------------------------------------------------\u001b[39m",
      "\u001b[31mKeyboardInterrupt\u001b[39m                         Traceback (most recent call last)",
      "\u001b[36mCell\u001b[39m\u001b[36m \u001b[39m\u001b[32mIn[38]\u001b[39m\u001b[32m, line 5\u001b[39m\n\u001b[32m      3\u001b[39m \u001b[38;5;28;01mfor\u001b[39;00m nitt \u001b[38;5;129;01min\u001b[39;00m \u001b[38;5;28mrange\u001b[39m(\u001b[32m20\u001b[39m) :\n\u001b[32m      4\u001b[39m     s = {\u001b[33m'\u001b[39m\u001b[33mn_iteration\u001b[39m\u001b[33m'\u001b[39m : nitt}\n\u001b[32m----> \u001b[39m\u001b[32m5\u001b[39m     s[\u001b[33m'\u001b[39m\u001b[33mautodiff_grad\u001b[39m\u001b[33m'\u001b[39m] = \u001b[43mdir_der_autodiff\u001b[49m\u001b[43m(\u001b[49m\u001b[43mstate\u001b[49m\u001b[43m,\u001b[49m\u001b[43m \u001b[49m\u001b[43mfield\u001b[49m\u001b[43m,\u001b[49m\u001b[43m \u001b[49m\u001b[43mdirection\u001b[49m\u001b[43m,\u001b[49m\u001b[43m \u001b[49m\u001b[43mstep_function\u001b[49m\u001b[43m,\u001b[49m\n\u001b[32m      6\u001b[39m \u001b[43m                          \u001b[49m\u001b[43magg_function\u001b[49m\u001b[43m,\u001b[49m\u001b[43m \u001b[49m\u001b[43mnitt\u001b[49m\u001b[43m,\u001b[49m\u001b[43m \u001b[49m\u001b[43mepsilon\u001b[49m\u001b[43m=\u001b[49m\u001b[32;43m1e-4\u001b[39;49m\u001b[43m)\u001b[49m\n\u001b[32m      8\u001b[39m     s[\u001b[33m'\u001b[39m\u001b[33mnumerical_grad\u001b[39m\u001b[33m'\u001b[39m] = dir_der_numerical(state, field, direction, step_function,\n\u001b[32m      9\u001b[39m                           agg_function, nitt, epsilon=\u001b[32m1e-4\u001b[39m)\n\u001b[32m     10\u001b[39m     stats.append(s)\n",
      "\u001b[36mCell\u001b[39m\u001b[36m \u001b[39m\u001b[32mIn[33]\u001b[39m\u001b[32m, line 18\u001b[39m, in \u001b[36mdir_der_autodiff\u001b[39m\u001b[34m(state, field, direction, step_function, agg_function, n_iteration, epsilon)\u001b[39m\n\u001b[32m     15\u001b[39m state = state.copy()\n\u001b[32m     16\u001b[39m field = state.variables.temp\n\u001b[32m---> \u001b[39m\u001b[32m18\u001b[39m output_forward, gradients = \u001b[43mloss_and_grad\u001b[49m\u001b[43m(\u001b[49m\u001b[43mstate\u001b[49m\u001b[43m,\u001b[49m\u001b[43m \u001b[49m\u001b[43mfield\u001b[49m\u001b[43m)\u001b[49m\n\u001b[32m     19\u001b[39m analytical_dir_deriv = jnp.sum(gradients * direction)\n\u001b[32m     20\u001b[39m \u001b[38;5;28;01mreturn\u001b[39;00m analytical_dir_deriv\n",
      "    \u001b[31m[... skipping hidden 1 frame]\u001b[39m\n",
      "\u001b[36mFile \u001b[39m\u001b[32m~/.conda/envs/verosenv/lib/python3.12/site-packages/jax/_src/pjit.py:332\u001b[39m, in \u001b[36m_cpp_pjit.<locals>.cache_miss\u001b[39m\u001b[34m(*args, **kwargs)\u001b[39m\n\u001b[32m    330\u001b[39m \u001b[38;5;129m@api_boundary\u001b[39m\n\u001b[32m    331\u001b[39m \u001b[38;5;28;01mdef\u001b[39;00m\u001b[38;5;250m \u001b[39m\u001b[34mcache_miss\u001b[39m(*args, **kwargs):\n\u001b[32m--> \u001b[39m\u001b[32m332\u001b[39m   outs, out_flat, out_tree, args_flat, jaxpr, attrs_tracked = \u001b[43m_python_pjit_helper\u001b[49m\u001b[43m(\u001b[49m\n\u001b[32m    333\u001b[39m \u001b[43m      \u001b[49m\u001b[43mfun\u001b[49m\u001b[43m,\u001b[49m\u001b[43m \u001b[49m\u001b[43mjit_info\u001b[49m\u001b[43m,\u001b[49m\u001b[43m \u001b[49m\u001b[43m*\u001b[49m\u001b[43margs\u001b[49m\u001b[43m,\u001b[49m\u001b[43m \u001b[49m\u001b[43m*\u001b[49m\u001b[43m*\u001b[49m\u001b[43mkwargs\u001b[49m\u001b[43m)\u001b[49m\n\u001b[32m    334\u001b[39m   executable = _read_most_recent_pjit_call_executable(jaxpr)\n\u001b[32m    335\u001b[39m   pgle_profiler = _read_pgle_profiler(jaxpr)\n",
      "\u001b[36mFile \u001b[39m\u001b[32m~/.conda/envs/verosenv/lib/python3.12/site-packages/jax/_src/pjit.py:190\u001b[39m, in \u001b[36m_python_pjit_helper\u001b[39m\u001b[34m(fun, jit_info, *args, **kwargs)\u001b[39m\n\u001b[32m    187\u001b[39m   args_flat = [*init_states, *args_flat]\n\u001b[32m    189\u001b[39m \u001b[38;5;28;01mtry\u001b[39;00m:\n\u001b[32m--> \u001b[39m\u001b[32m190\u001b[39m   out_flat = \u001b[43mpjit_p\u001b[49m\u001b[43m.\u001b[49m\u001b[43mbind\u001b[49m\u001b[43m(\u001b[49m\u001b[43m*\u001b[49m\u001b[43margs_flat\u001b[49m\u001b[43m,\u001b[49m\u001b[43m \u001b[49m\u001b[43m*\u001b[49m\u001b[43m*\u001b[49m\u001b[43mp\u001b[49m\u001b[43m.\u001b[49m\u001b[43mparams\u001b[49m\u001b[43m)\u001b[49m\n\u001b[32m    191\u001b[39m \u001b[38;5;28;01mexcept\u001b[39;00m pxla.DeviceAssignmentMismatchError \u001b[38;5;28;01mas\u001b[39;00m e:\n\u001b[32m    192\u001b[39m   fails, = e.args\n",
      "\u001b[36mFile \u001b[39m\u001b[32m~/.conda/envs/verosenv/lib/python3.12/site-packages/jax/_src/core.py:2739\u001b[39m, in \u001b[36mAxisPrimitive.bind\u001b[39m\u001b[34m(self, *args, **params)\u001b[39m\n\u001b[32m   2735\u001b[39m axis_main = \u001b[38;5;28mmax\u001b[39m((axis_frame(a).main_trace \u001b[38;5;28;01mfor\u001b[39;00m a \u001b[38;5;129;01min\u001b[39;00m used_axis_names(\u001b[38;5;28mself\u001b[39m, params)),\n\u001b[32m   2736\u001b[39m                 default=\u001b[38;5;28;01mNone\u001b[39;00m, key=\u001b[38;5;28;01mlambda\u001b[39;00m t: \u001b[38;5;28mgetattr\u001b[39m(t, \u001b[33m'\u001b[39m\u001b[33mlevel\u001b[39m\u001b[33m'\u001b[39m, -\u001b[32m1\u001b[39m))\n\u001b[32m   2737\u001b[39m top_trace = (top_trace \u001b[38;5;28;01mif\u001b[39;00m \u001b[38;5;129;01mnot\u001b[39;00m axis_main \u001b[38;5;129;01mor\u001b[39;00m axis_main.level < top_trace.level\n\u001b[32m   2738\u001b[39m              \u001b[38;5;28;01melse\u001b[39;00m axis_main.with_cur_sublevel())\n\u001b[32m-> \u001b[39m\u001b[32m2739\u001b[39m \u001b[38;5;28;01mreturn\u001b[39;00m \u001b[38;5;28;43mself\u001b[39;49m\u001b[43m.\u001b[49m\u001b[43mbind_with_trace\u001b[49m\u001b[43m(\u001b[49m\u001b[43mtop_trace\u001b[49m\u001b[43m,\u001b[49m\u001b[43m \u001b[49m\u001b[43margs\u001b[49m\u001b[43m,\u001b[49m\u001b[43m \u001b[49m\u001b[43mparams\u001b[49m\u001b[43m)\u001b[49m\n",
      "\u001b[36mFile \u001b[39m\u001b[32m~/.conda/envs/verosenv/lib/python3.12/site-packages/jax/_src/core.py:433\u001b[39m, in \u001b[36mPrimitive.bind_with_trace\u001b[39m\u001b[34m(self, trace, args, params)\u001b[39m\n\u001b[32m    431\u001b[39m \u001b[38;5;28;01mdef\u001b[39;00m\u001b[38;5;250m \u001b[39m\u001b[34mbind_with_trace\u001b[39m(\u001b[38;5;28mself\u001b[39m, trace, args, params):\n\u001b[32m    432\u001b[39m   \u001b[38;5;28;01mwith\u001b[39;00m pop_level(trace.level):\n\u001b[32m--> \u001b[39m\u001b[32m433\u001b[39m     out = \u001b[43mtrace\u001b[49m\u001b[43m.\u001b[49m\u001b[43mprocess_primitive\u001b[49m\u001b[43m(\u001b[49m\u001b[38;5;28;43mself\u001b[39;49m\u001b[43m,\u001b[49m\u001b[43m \u001b[49m\u001b[38;5;28;43mmap\u001b[39;49m\u001b[43m(\u001b[49m\u001b[43mtrace\u001b[49m\u001b[43m.\u001b[49m\u001b[43mfull_raise\u001b[49m\u001b[43m,\u001b[49m\u001b[43m \u001b[49m\u001b[43margs\u001b[49m\u001b[43m)\u001b[49m\u001b[43m,\u001b[49m\u001b[43m \u001b[49m\u001b[43mparams\u001b[49m\u001b[43m)\u001b[49m\n\u001b[32m    434\u001b[39m   \u001b[38;5;28;01mreturn\u001b[39;00m \u001b[38;5;28mmap\u001b[39m(full_lower, out) \u001b[38;5;28;01mif\u001b[39;00m \u001b[38;5;28mself\u001b[39m.multiple_results \u001b[38;5;28;01melse\u001b[39;00m full_lower(out)\n",
      "\u001b[36mFile \u001b[39m\u001b[32m~/.conda/envs/verosenv/lib/python3.12/site-packages/jax/_src/core.py:939\u001b[39m, in \u001b[36mEvalTrace.process_primitive\u001b[39m\u001b[34m(self, primitive, tracers, params)\u001b[39m\n\u001b[32m    937\u001b[39m   \u001b[38;5;28;01mreturn\u001b[39;00m call_impl_with_key_reuse_checks(primitive, primitive.impl, *tracers, **params)\n\u001b[32m    938\u001b[39m \u001b[38;5;28;01melse\u001b[39;00m:\n\u001b[32m--> \u001b[39m\u001b[32m939\u001b[39m   \u001b[38;5;28;01mreturn\u001b[39;00m \u001b[43mprimitive\u001b[49m\u001b[43m.\u001b[49m\u001b[43mimpl\u001b[49m\u001b[43m(\u001b[49m\u001b[43m*\u001b[49m\u001b[43mtracers\u001b[49m\u001b[43m,\u001b[49m\u001b[43m \u001b[49m\u001b[43m*\u001b[49m\u001b[43m*\u001b[49m\u001b[43mparams\u001b[49m\u001b[43m)\u001b[49m\n",
      "\u001b[36mFile \u001b[39m\u001b[32m~/.conda/envs/verosenv/lib/python3.12/site-packages/jax/_src/pjit.py:1730\u001b[39m, in \u001b[36m_pjit_call_impl\u001b[39m\u001b[34m(jaxpr, in_shardings, out_shardings, in_layouts, out_layouts, resource_env, donated_invars, name, keep_unused, inline, *args)\u001b[39m\n\u001b[32m   1727\u001b[39m donated_argnums = [i \u001b[38;5;28;01mfor\u001b[39;00m i, d \u001b[38;5;129;01min\u001b[39;00m \u001b[38;5;28menumerate\u001b[39m(donated_invars) \u001b[38;5;28;01mif\u001b[39;00m d]\n\u001b[32m   1728\u001b[39m has_explicit_sharding = _pjit_explicit_sharding(\n\u001b[32m   1729\u001b[39m     in_shardings, out_shardings, \u001b[38;5;28;01mNone\u001b[39;00m, \u001b[38;5;28;01mNone\u001b[39;00m)\n\u001b[32m-> \u001b[39m\u001b[32m1730\u001b[39m \u001b[38;5;28;01mreturn\u001b[39;00m \u001b[43mxc\u001b[49m\u001b[43m.\u001b[49m\u001b[43m_xla\u001b[49m\u001b[43m.\u001b[49m\u001b[43mpjit\u001b[49m\u001b[43m(\u001b[49m\n\u001b[32m   1731\u001b[39m \u001b[43m    \u001b[49m\u001b[43mname\u001b[49m\u001b[43m,\u001b[49m\u001b[43m \u001b[49m\u001b[43mf\u001b[49m\u001b[43m,\u001b[49m\u001b[43m \u001b[49m\u001b[43mcall_impl_cache_miss\u001b[49m\u001b[43m,\u001b[49m\u001b[43m \u001b[49m\u001b[43m[\u001b[49m\u001b[43m]\u001b[49m\u001b[43m,\u001b[49m\u001b[43m \u001b[49m\u001b[43m[\u001b[49m\u001b[43m]\u001b[49m\u001b[43m,\u001b[49m\u001b[43m \u001b[49m\u001b[43mdonated_argnums\u001b[49m\u001b[43m,\u001b[49m\n\u001b[32m   1732\u001b[39m \u001b[43m    \u001b[49m\u001b[43mtree_util\u001b[49m\u001b[43m.\u001b[49m\u001b[43mdispatch_registry\u001b[49m\u001b[43m,\u001b[49m\n\u001b[32m   1733\u001b[39m \u001b[43m    \u001b[49m\u001b[38;5;28;43;01mlambda\u001b[39;49;00m\u001b[43m \u001b[49m\u001b[43mx\u001b[49m\u001b[43m,\u001b[49m\u001b[43m \u001b[49m\u001b[43msharding\u001b[49m\u001b[43m:\u001b[49m\u001b[43m \u001b[49m\u001b[43mpxla\u001b[49m\u001b[43m.\u001b[49m\u001b[43mshard_args\u001b[49m\u001b[43m(\u001b[49m\u001b[43m[\u001b[49m\u001b[43msharding\u001b[49m\u001b[43m]\u001b[49m\u001b[43m,\u001b[49m\u001b[43m \u001b[49m\u001b[43m[\u001b[49m\u001b[43mx\u001b[49m\u001b[43m]\u001b[49m\u001b[43m)\u001b[49m\u001b[43m[\u001b[49m\u001b[32;43m0\u001b[39;49m\u001b[43m]\u001b[49m\u001b[43m,\u001b[49m\n\u001b[32m   1734\u001b[39m \u001b[43m    \u001b[49m\u001b[43m_get_cpp_global_cache\u001b[49m\u001b[43m(\u001b[49m\u001b[43mhas_explicit_sharding\u001b[49m\u001b[43m)\u001b[49m\u001b[43m)\u001b[49m\u001b[43m(\u001b[49m\u001b[43m*\u001b[49m\u001b[43margs\u001b[49m\u001b[43m)\u001b[49m\n",
      "\u001b[36mFile \u001b[39m\u001b[32m~/.conda/envs/verosenv/lib/python3.12/site-packages/jax/_src/pjit.py:1712\u001b[39m, in \u001b[36m_pjit_call_impl.<locals>.call_impl_cache_miss\u001b[39m\u001b[34m(*args_, **kwargs_)\u001b[39m\n\u001b[32m   1711\u001b[39m \u001b[38;5;28;01mdef\u001b[39;00m\u001b[38;5;250m \u001b[39m\u001b[34mcall_impl_cache_miss\u001b[39m(*args_, **kwargs_):\n\u001b[32m-> \u001b[39m\u001b[32m1712\u001b[39m   out_flat, compiled = \u001b[43m_pjit_call_impl_python\u001b[49m\u001b[43m(\u001b[49m\n\u001b[32m   1713\u001b[39m \u001b[43m      \u001b[49m\u001b[43m*\u001b[49m\u001b[43margs\u001b[49m\u001b[43m,\u001b[49m\u001b[43m \u001b[49m\u001b[43mjaxpr\u001b[49m\u001b[43m=\u001b[49m\u001b[43mjaxpr\u001b[49m\u001b[43m,\u001b[49m\u001b[43m \u001b[49m\u001b[43min_shardings\u001b[49m\u001b[43m=\u001b[49m\u001b[43min_shardings\u001b[49m\u001b[43m,\u001b[49m\n\u001b[32m   1714\u001b[39m \u001b[43m      \u001b[49m\u001b[43mout_shardings\u001b[49m\u001b[43m=\u001b[49m\u001b[43mout_shardings\u001b[49m\u001b[43m,\u001b[49m\u001b[43m \u001b[49m\u001b[43min_layouts\u001b[49m\u001b[43m=\u001b[49m\u001b[43min_layouts\u001b[49m\u001b[43m,\u001b[49m\n\u001b[32m   1715\u001b[39m \u001b[43m      \u001b[49m\u001b[43mout_layouts\u001b[49m\u001b[43m=\u001b[49m\u001b[43mout_layouts\u001b[49m\u001b[43m,\u001b[49m\u001b[43m \u001b[49m\u001b[43mresource_env\u001b[49m\u001b[43m=\u001b[49m\u001b[43mresource_env\u001b[49m\u001b[43m,\u001b[49m\n\u001b[32m   1716\u001b[39m \u001b[43m      \u001b[49m\u001b[43mdonated_invars\u001b[49m\u001b[43m=\u001b[49m\u001b[43mdonated_invars\u001b[49m\u001b[43m,\u001b[49m\u001b[43m \u001b[49m\u001b[43mname\u001b[49m\u001b[43m=\u001b[49m\u001b[43mname\u001b[49m\u001b[43m,\u001b[49m\u001b[43m \u001b[49m\u001b[43mkeep_unused\u001b[49m\u001b[43m=\u001b[49m\u001b[43mkeep_unused\u001b[49m\u001b[43m,\u001b[49m\n\u001b[32m   1717\u001b[39m \u001b[43m      \u001b[49m\u001b[43minline\u001b[49m\u001b[43m=\u001b[49m\u001b[43minline\u001b[49m\u001b[43m)\u001b[49m\n\u001b[32m   1718\u001b[39m   pgle_profiler = _read_pgle_profiler(jaxpr)\n\u001b[32m   1719\u001b[39m   fastpath_data = _get_fastpath_data(\n\u001b[32m   1720\u001b[39m       compiled, tree_structure(out_flat), args, out_flat, [], jaxpr.effects,\n\u001b[32m   1721\u001b[39m       jaxpr.consts, \u001b[38;5;28;01mNone\u001b[39;00m, pgle_profiler)\n",
      "\u001b[36mFile \u001b[39m\u001b[32m~/.conda/envs/verosenv/lib/python3.12/site-packages/jax/_src/pjit.py:1642\u001b[39m, in \u001b[36m_pjit_call_impl_python\u001b[39m\u001b[34m(jaxpr, in_shardings, out_shardings, in_layouts, out_layouts, resource_env, donated_invars, name, keep_unused, inline, *args)\u001b[39m\n\u001b[32m   1629\u001b[39m     compile_options = {\u001b[33m'\u001b[39m\u001b[33mfdo_profile\u001b[39m\u001b[33m'\u001b[39m: fdo_profile}\n\u001b[32m   1631\u001b[39m \u001b[38;5;66;03m# TODO(patrios): Do not pass mutable profile session through cached lowering\u001b[39;00m\n\u001b[32m   1632\u001b[39m \u001b[38;5;66;03m# chain. Instead we need to move profilers dictionary to pxla module and use\u001b[39;00m\n\u001b[32m   1633\u001b[39m \u001b[38;5;66;03m# module as key. Right now we can't do that since there is no way to evict _pjit_lower_cached cache for in PGLE mode.\u001b[39;00m\n\u001b[32m   1634\u001b[39m compiled = \u001b[43m_resolve_and_lower\u001b[49m\u001b[43m(\u001b[49m\n\u001b[32m   1635\u001b[39m \u001b[43m    \u001b[49m\u001b[43margs\u001b[49m\u001b[43m,\u001b[49m\u001b[43m \u001b[49m\u001b[43mjaxpr\u001b[49m\u001b[43m=\u001b[49m\u001b[43mjaxpr\u001b[49m\u001b[43m,\u001b[49m\u001b[43m \u001b[49m\u001b[43min_shardings\u001b[49m\u001b[43m=\u001b[49m\u001b[43min_shardings\u001b[49m\u001b[43m,\u001b[49m\n\u001b[32m   1636\u001b[39m \u001b[43m    \u001b[49m\u001b[43mout_shardings\u001b[49m\u001b[43m=\u001b[49m\u001b[43mout_shardings\u001b[49m\u001b[43m,\u001b[49m\u001b[43m \u001b[49m\u001b[43min_layouts\u001b[49m\u001b[43m=\u001b[49m\u001b[43min_layouts\u001b[49m\u001b[43m,\u001b[49m\n\u001b[32m   1637\u001b[39m \u001b[43m    \u001b[49m\u001b[43mout_layouts\u001b[49m\u001b[43m=\u001b[49m\u001b[43mout_layouts\u001b[49m\u001b[43m,\u001b[49m\u001b[43m \u001b[49m\u001b[43mresource_env\u001b[49m\u001b[43m=\u001b[49m\u001b[43mresource_env\u001b[49m\u001b[43m,\u001b[49m\n\u001b[32m   1638\u001b[39m \u001b[43m    \u001b[49m\u001b[43mdonated_invars\u001b[49m\u001b[43m=\u001b[49m\u001b[43mdonated_invars\u001b[49m\u001b[43m,\u001b[49m\u001b[43m \u001b[49m\u001b[43mname\u001b[49m\u001b[43m=\u001b[49m\u001b[43mname\u001b[49m\u001b[43m,\u001b[49m\u001b[43m \u001b[49m\u001b[43mkeep_unused\u001b[49m\u001b[43m=\u001b[49m\u001b[43mkeep_unused\u001b[49m\u001b[43m,\u001b[49m\n\u001b[32m   1639\u001b[39m \u001b[43m    \u001b[49m\u001b[43minline\u001b[49m\u001b[43m=\u001b[49m\u001b[43minline\u001b[49m\u001b[43m,\u001b[49m\u001b[43m \u001b[49m\u001b[43mlowering_platforms\u001b[49m\u001b[43m=\u001b[49m\u001b[38;5;28;43;01mNone\u001b[39;49;00m\u001b[43m,\u001b[49m\n\u001b[32m   1640\u001b[39m \u001b[43m    \u001b[49m\u001b[43mlowering_parameters\u001b[49m\u001b[43m=\u001b[49m\u001b[43mmlir\u001b[49m\u001b[43m.\u001b[49m\u001b[43mLoweringParameters\u001b[49m\u001b[43m(\u001b[49m\u001b[43m)\u001b[49m\u001b[43m,\u001b[49m\n\u001b[32m   1641\u001b[39m \u001b[43m    \u001b[49m\u001b[43mpgle_profiler\u001b[49m\u001b[43m=\u001b[49m\u001b[43mpgle_profiler\u001b[49m\n\u001b[32m-> \u001b[39m\u001b[32m1642\u001b[39m \u001b[43m\u001b[49m\u001b[43m)\u001b[49m\u001b[43m.\u001b[49m\u001b[43mcompile\u001b[49m\u001b[43m(\u001b[49m\u001b[43mcompile_options\u001b[49m\u001b[43m)\u001b[49m\n\u001b[32m   1644\u001b[39m _most_recent_pjit_call_executable.weak_key_dict[jaxpr] = compiled\n\u001b[32m   1645\u001b[39m \u001b[38;5;66;03m# This check is expensive so only do it if enable_checks is on.\u001b[39;00m\n",
      "\u001b[36mFile \u001b[39m\u001b[32m~/.conda/envs/verosenv/lib/python3.12/site-packages/jax/_src/interpreters/pxla.py:2295\u001b[39m, in \u001b[36mMeshComputation.compile\u001b[39m\u001b[34m(self, compiler_options)\u001b[39m\n\u001b[32m   2293\u001b[39m \u001b[38;5;28;01mdef\u001b[39;00m\u001b[38;5;250m \u001b[39m\u001b[34mcompile\u001b[39m(\u001b[38;5;28mself\u001b[39m, compiler_options=\u001b[38;5;28;01mNone\u001b[39;00m) -> MeshExecutable:\n\u001b[32m   2294\u001b[39m   \u001b[38;5;28;01mif\u001b[39;00m \u001b[38;5;28mself\u001b[39m._executable \u001b[38;5;129;01mis\u001b[39;00m \u001b[38;5;28;01mNone\u001b[39;00m \u001b[38;5;129;01mor\u001b[39;00m compiler_options \u001b[38;5;129;01mis\u001b[39;00m \u001b[38;5;129;01mnot\u001b[39;00m \u001b[38;5;28;01mNone\u001b[39;00m:\n\u001b[32m-> \u001b[39m\u001b[32m2295\u001b[39m     executable = \u001b[43mUnloadedMeshExecutable\u001b[49m\u001b[43m.\u001b[49m\u001b[43mfrom_hlo\u001b[49m\u001b[43m(\u001b[49m\n\u001b[32m   2296\u001b[39m \u001b[43m        \u001b[49m\u001b[38;5;28;43mself\u001b[39;49m\u001b[43m.\u001b[49m\u001b[43m_name\u001b[49m\u001b[43m,\u001b[49m\u001b[43m \u001b[49m\u001b[38;5;28;43mself\u001b[39;49m\u001b[43m.\u001b[49m\u001b[43m_hlo\u001b[49m\u001b[43m,\u001b[49m\u001b[43m \u001b[49m\u001b[43m*\u001b[49m\u001b[43m*\u001b[49m\u001b[38;5;28;43mself\u001b[39;49m\u001b[43m.\u001b[49m\u001b[43mcompile_args\u001b[49m\u001b[43m,\u001b[49m\n\u001b[32m   2297\u001b[39m \u001b[43m        \u001b[49m\u001b[43mcompiler_options\u001b[49m\u001b[43m=\u001b[49m\u001b[43mcompiler_options\u001b[49m\u001b[43m)\u001b[49m\n\u001b[32m   2298\u001b[39m     \u001b[38;5;28;01mif\u001b[39;00m compiler_options \u001b[38;5;129;01mis\u001b[39;00m \u001b[38;5;28;01mNone\u001b[39;00m:\n\u001b[32m   2299\u001b[39m       \u001b[38;5;28mself\u001b[39m._executable = executable\n",
      "\u001b[36mFile \u001b[39m\u001b[32m~/.conda/envs/verosenv/lib/python3.12/site-packages/jax/_src/interpreters/pxla.py:2807\u001b[39m, in \u001b[36mUnloadedMeshExecutable.from_hlo\u001b[39m\u001b[34m(***failed resolving arguments***)\u001b[39m\n\u001b[32m   2804\u001b[39m       mesh = i.mesh  \u001b[38;5;66;03m# type: ignore\u001b[39;00m\n\u001b[32m   2805\u001b[39m       \u001b[38;5;28;01mbreak\u001b[39;00m\n\u001b[32m-> \u001b[39m\u001b[32m2807\u001b[39m xla_executable = \u001b[43m_cached_compilation\u001b[49m\u001b[43m(\u001b[49m\n\u001b[32m   2808\u001b[39m \u001b[43m    \u001b[49m\u001b[43mhlo\u001b[49m\u001b[43m,\u001b[49m\u001b[43m \u001b[49m\u001b[43mname\u001b[49m\u001b[43m,\u001b[49m\u001b[43m \u001b[49m\u001b[43mmesh\u001b[49m\u001b[43m,\u001b[49m\u001b[43m \u001b[49m\u001b[43mspmd_lowering\u001b[49m\u001b[43m,\u001b[49m\n\u001b[32m   2809\u001b[39m \u001b[43m    \u001b[49m\u001b[43mtuple_args\u001b[49m\u001b[43m,\u001b[49m\u001b[43m \u001b[49m\u001b[43mauto_spmd_lowering\u001b[49m\u001b[43m,\u001b[49m\u001b[43m \u001b[49m\u001b[43mallow_prop_to_inputs\u001b[49m\u001b[43m,\u001b[49m\n\u001b[32m   2810\u001b[39m \u001b[43m    \u001b[49m\u001b[43mallow_prop_to_outputs\u001b[49m\u001b[43m,\u001b[49m\u001b[43m \u001b[49m\u001b[38;5;28;43mtuple\u001b[39;49m\u001b[43m(\u001b[49m\u001b[43mhost_callbacks\u001b[49m\u001b[43m)\u001b[49m\u001b[43m,\u001b[49m\u001b[43m \u001b[49m\u001b[43mbackend\u001b[49m\u001b[43m,\u001b[49m\u001b[43m \u001b[49m\u001b[43mda\u001b[49m\u001b[43m,\u001b[49m\u001b[43m \u001b[49m\u001b[43mpmap_nreps\u001b[49m\u001b[43m,\u001b[49m\n\u001b[32m   2811\u001b[39m \u001b[43m    \u001b[49m\u001b[43mcompiler_options_keys\u001b[49m\u001b[43m,\u001b[49m\u001b[43m \u001b[49m\u001b[43mcompiler_options_values\u001b[49m\u001b[43m,\u001b[49m\u001b[43m \u001b[49m\u001b[43mpgle_profiler\u001b[49m\u001b[43m)\u001b[49m\n\u001b[32m   2813\u001b[39m \u001b[38;5;28;01mif\u001b[39;00m auto_spmd_lowering:\n\u001b[32m   2814\u001b[39m   \u001b[38;5;28;01massert\u001b[39;00m mesh \u001b[38;5;129;01mis\u001b[39;00m \u001b[38;5;129;01mnot\u001b[39;00m \u001b[38;5;28;01mNone\u001b[39;00m\n",
      "\u001b[36mFile \u001b[39m\u001b[32m~/.conda/envs/verosenv/lib/python3.12/site-packages/jax/_src/interpreters/pxla.py:2621\u001b[39m, in \u001b[36m_cached_compilation\u001b[39m\u001b[34m(computation, name, mesh, spmd_lowering, tuple_args, auto_spmd_lowering, allow_prop_to_inputs, allow_prop_to_outputs, host_callbacks, backend, da, pmap_nreps, compiler_options_keys, compiler_options_values, pgle_profiler)\u001b[39m\n\u001b[32m   2613\u001b[39m compile_options = create_compile_options(\n\u001b[32m   2614\u001b[39m     computation, mesh, spmd_lowering, tuple_args, auto_spmd_lowering,\n\u001b[32m   2615\u001b[39m     allow_prop_to_inputs, allow_prop_to_outputs, backend,\n\u001b[32m   2616\u001b[39m     dev, pmap_nreps, compiler_options)\n\u001b[32m   2618\u001b[39m \u001b[38;5;28;01mwith\u001b[39;00m dispatch.log_elapsed_time(\n\u001b[32m   2619\u001b[39m     \u001b[33m\"\u001b[39m\u001b[33mFinished XLA compilation of \u001b[39m\u001b[38;5;132;01m{fun_name}\u001b[39;00m\u001b[33m in \u001b[39m\u001b[38;5;132;01m{elapsed_time:.9f}\u001b[39;00m\u001b[33m sec\u001b[39m\u001b[33m\"\u001b[39m,\n\u001b[32m   2620\u001b[39m     fun_name=name, event=dispatch.BACKEND_COMPILE_EVENT):\n\u001b[32m-> \u001b[39m\u001b[32m2621\u001b[39m   xla_executable = \u001b[43mcompiler\u001b[49m\u001b[43m.\u001b[49m\u001b[43mcompile_or_get_cached\u001b[49m\u001b[43m(\u001b[49m\n\u001b[32m   2622\u001b[39m \u001b[43m      \u001b[49m\u001b[43mbackend\u001b[49m\u001b[43m,\u001b[49m\u001b[43m \u001b[49m\u001b[43mcomputation\u001b[49m\u001b[43m,\u001b[49m\u001b[43m \u001b[49m\u001b[43mdev\u001b[49m\u001b[43m,\u001b[49m\u001b[43m \u001b[49m\u001b[43mcompile_options\u001b[49m\u001b[43m,\u001b[49m\u001b[43m \u001b[49m\u001b[43mhost_callbacks\u001b[49m\u001b[43m,\u001b[49m\n\u001b[32m   2623\u001b[39m \u001b[43m      \u001b[49m\u001b[43mpgle_profiler\u001b[49m\u001b[43m)\u001b[49m\n\u001b[32m   2624\u001b[39m \u001b[38;5;28;01mreturn\u001b[39;00m xla_executable\n",
      "\u001b[36mFile \u001b[39m\u001b[32m~/.conda/envs/verosenv/lib/python3.12/site-packages/jax/_src/compiler.py:399\u001b[39m, in \u001b[36mcompile_or_get_cached\u001b[39m\u001b[34m(backend, computation, devices, compile_options, host_callbacks, pgle_profiler)\u001b[39m\n\u001b[32m    397\u001b[39m \u001b[38;5;28;01melse\u001b[39;00m:\n\u001b[32m    398\u001b[39m   log_persistent_cache_miss(module_name, cache_key)\n\u001b[32m--> \u001b[39m\u001b[32m399\u001b[39m   \u001b[38;5;28;01mreturn\u001b[39;00m \u001b[43m_compile_and_write_cache\u001b[49m\u001b[43m(\u001b[49m\n\u001b[32m    400\u001b[39m \u001b[43m      \u001b[49m\u001b[43mbackend\u001b[49m\u001b[43m,\u001b[49m\n\u001b[32m    401\u001b[39m \u001b[43m      \u001b[49m\u001b[43mcomputation\u001b[49m\u001b[43m,\u001b[49m\n\u001b[32m    402\u001b[39m \u001b[43m      \u001b[49m\u001b[43mcompile_options\u001b[49m\u001b[43m,\u001b[49m\n\u001b[32m    403\u001b[39m \u001b[43m      \u001b[49m\u001b[43mhost_callbacks\u001b[49m\u001b[43m,\u001b[49m\n\u001b[32m    404\u001b[39m \u001b[43m      \u001b[49m\u001b[43mmodule_name\u001b[49m\u001b[43m,\u001b[49m\n\u001b[32m    405\u001b[39m \u001b[43m      \u001b[49m\u001b[43mcache_key\u001b[49m\u001b[43m,\u001b[49m\n\u001b[32m    406\u001b[39m \u001b[43m  \u001b[49m\u001b[43m)\u001b[49m\n",
      "\u001b[36mFile \u001b[39m\u001b[32m~/.conda/envs/verosenv/lib/python3.12/site-packages/jax/_src/compiler.py:627\u001b[39m, in \u001b[36m_compile_and_write_cache\u001b[39m\u001b[34m(backend, computation, compile_options, host_callbacks, module_name, cache_key)\u001b[39m\n\u001b[32m    618\u001b[39m \u001b[38;5;28;01mdef\u001b[39;00m\u001b[38;5;250m \u001b[39m\u001b[34m_compile_and_write_cache\u001b[39m(\n\u001b[32m    619\u001b[39m     backend: xc.Client,\n\u001b[32m    620\u001b[39m     computation: ir.Module,\n\u001b[32m   (...)\u001b[39m\u001b[32m    624\u001b[39m     cache_key: \u001b[38;5;28mstr\u001b[39m,\n\u001b[32m    625\u001b[39m ) -> xc.LoadedExecutable:\n\u001b[32m    626\u001b[39m   start_time = time.monotonic()\n\u001b[32m--> \u001b[39m\u001b[32m627\u001b[39m   executable = \u001b[43mbackend_compile\u001b[49m\u001b[43m(\u001b[49m\n\u001b[32m    628\u001b[39m \u001b[43m      \u001b[49m\u001b[43mbackend\u001b[49m\u001b[43m,\u001b[49m\u001b[43m \u001b[49m\u001b[43mcomputation\u001b[49m\u001b[43m,\u001b[49m\u001b[43m \u001b[49m\u001b[43mcompile_options\u001b[49m\u001b[43m,\u001b[49m\u001b[43m \u001b[49m\u001b[43mhost_callbacks\u001b[49m\n\u001b[32m    629\u001b[39m \u001b[43m  \u001b[49m\u001b[43m)\u001b[49m\n\u001b[32m    630\u001b[39m   compile_time = time.monotonic() - start_time\n\u001b[32m    631\u001b[39m   _cache_write(\n\u001b[32m    632\u001b[39m       cache_key, compile_time, module_name, backend, executable, host_callbacks\n\u001b[32m    633\u001b[39m   )\n",
      "\u001b[36mFile \u001b[39m\u001b[32m~/.conda/envs/verosenv/lib/python3.12/site-packages/jax/_src/profiler.py:336\u001b[39m, in \u001b[36mannotate_function.<locals>.wrapper\u001b[39m\u001b[34m(*args, **kwargs)\u001b[39m\n\u001b[32m    333\u001b[39m \u001b[38;5;129m@wraps\u001b[39m(func)\n\u001b[32m    334\u001b[39m \u001b[38;5;28;01mdef\u001b[39;00m\u001b[38;5;250m \u001b[39m\u001b[34mwrapper\u001b[39m(*args, **kwargs):\n\u001b[32m    335\u001b[39m   \u001b[38;5;28;01mwith\u001b[39;00m TraceAnnotation(name, **decorator_kwargs):\n\u001b[32m--> \u001b[39m\u001b[32m336\u001b[39m     \u001b[38;5;28;01mreturn\u001b[39;00m \u001b[43mfunc\u001b[49m\u001b[43m(\u001b[49m\u001b[43m*\u001b[49m\u001b[43margs\u001b[49m\u001b[43m,\u001b[49m\u001b[43m \u001b[49m\u001b[43m*\u001b[49m\u001b[43m*\u001b[49m\u001b[43mkwargs\u001b[49m\u001b[43m)\u001b[49m\n\u001b[32m    337\u001b[39m   \u001b[38;5;28;01mreturn\u001b[39;00m wrapper\n",
      "\u001b[36mFile \u001b[39m\u001b[32m~/.conda/envs/verosenv/lib/python3.12/site-packages/jax/_src/compiler.py:267\u001b[39m, in \u001b[36mbackend_compile\u001b[39m\u001b[34m(backend, module, options, host_callbacks)\u001b[39m\n\u001b[32m    262\u001b[39m   \u001b[38;5;28;01mreturn\u001b[39;00m backend.compile(built_c, compile_options=options,\n\u001b[32m    263\u001b[39m                          host_callbacks=host_callbacks)\n\u001b[32m    264\u001b[39m \u001b[38;5;66;03m# Some backends don't have `host_callbacks` option yet\u001b[39;00m\n\u001b[32m    265\u001b[39m \u001b[38;5;66;03m# TODO(sharadmv): remove this fallback when all backends allow `compile`\u001b[39;00m\n\u001b[32m    266\u001b[39m \u001b[38;5;66;03m# to take in `host_callbacks`\u001b[39;00m\n\u001b[32m--> \u001b[39m\u001b[32m267\u001b[39m \u001b[38;5;28;01mreturn\u001b[39;00m \u001b[43mbackend\u001b[49m\u001b[43m.\u001b[49m\u001b[43mcompile\u001b[49m\u001b[43m(\u001b[49m\u001b[43mbuilt_c\u001b[49m\u001b[43m,\u001b[49m\u001b[43m \u001b[49m\u001b[43mcompile_options\u001b[49m\u001b[43m=\u001b[49m\u001b[43moptions\u001b[49m\u001b[43m)\u001b[49m\n",
      "\u001b[31mKeyboardInterrupt\u001b[39m: "
     ]
    }
   ],
   "source": [
    "stats = []\n",
    "\n",
    "for nitt in range(5) :\n",
    "    s = {'n_iteration' : nitt}\n",
    "    s['autodiff_grad'] = dir_der_autodiff(state, field, direction, step_function,\n",
    "                          agg_function, nitt, epsilon=1e-4)\n",
    "    \n",
    "    s['numerical_grad'] = dir_der_numerical(state, field, direction, step_function,\n",
    "                          agg_function, nitt, epsilon=1e-4)\n",
    "    stats.append(s)\n",
    "    print(s)"
   ]
  },
  {
   "cell_type": "code",
   "execution_count": 41,
   "id": "019fa905-07da-44e0-a8e9-4eb4b23dce4d",
   "metadata": {},
   "outputs": [],
   "source": [
    "stats = pd.DataFrame(stats)"
   ]
  },
  {
   "cell_type": "code",
   "execution_count": 50,
   "id": "4c62a5dd-c184-43db-9d53-2654350623b6",
   "metadata": {},
   "outputs": [
    {
     "ename": "ValueError",
     "evalue": "value_name (value) cannot match an element in the DataFrame columns.",
     "output_type": "error",
     "traceback": [
      "\u001b[31m---------------------------------------------------------------------------\u001b[39m",
      "\u001b[31mValueError\u001b[39m                                Traceback (most recent call last)",
      "\u001b[36mCell\u001b[39m\u001b[36m \u001b[39m\u001b[32mIn[50]\u001b[39m\u001b[32m, line 1\u001b[39m\n\u001b[32m----> \u001b[39m\u001b[32m1\u001b[39m stats = \u001b[43mstats\u001b[49m\u001b[43m.\u001b[49m\u001b[43mmelt\u001b[49m\u001b[43m(\u001b[49m\u001b[43mid_vars\u001b[49m\u001b[43m=\u001b[49m\u001b[33;43m'\u001b[39;49m\u001b[33;43mn_iteration\u001b[39;49m\u001b[33;43m'\u001b[39;49m\u001b[43m)\u001b[49m\n",
      "\u001b[36mFile \u001b[39m\u001b[32m~/.conda/envs/verosenv/lib/python3.12/site-packages/pandas/core/frame.py:9969\u001b[39m, in \u001b[36mDataFrame.melt\u001b[39m\u001b[34m(self, id_vars, value_vars, var_name, value_name, col_level, ignore_index)\u001b[39m\n\u001b[32m   9959\u001b[39m \u001b[38;5;129m@Appender\u001b[39m(_shared_docs[\u001b[33m\"\u001b[39m\u001b[33mmelt\u001b[39m\u001b[33m\"\u001b[39m] % {\u001b[33m\"\u001b[39m\u001b[33mcaller\u001b[39m\u001b[33m\"\u001b[39m: \u001b[33m\"\u001b[39m\u001b[33mdf.melt(\u001b[39m\u001b[33m\"\u001b[39m, \u001b[33m\"\u001b[39m\u001b[33mother\u001b[39m\u001b[33m\"\u001b[39m: \u001b[33m\"\u001b[39m\u001b[33mmelt\u001b[39m\u001b[33m\"\u001b[39m})\n\u001b[32m   9960\u001b[39m \u001b[38;5;28;01mdef\u001b[39;00m\u001b[38;5;250m \u001b[39m\u001b[34mmelt\u001b[39m(\n\u001b[32m   9961\u001b[39m     \u001b[38;5;28mself\u001b[39m,\n\u001b[32m   (...)\u001b[39m\u001b[32m   9967\u001b[39m     ignore_index: \u001b[38;5;28mbool\u001b[39m = \u001b[38;5;28;01mTrue\u001b[39;00m,\n\u001b[32m   9968\u001b[39m ) -> DataFrame:\n\u001b[32m-> \u001b[39m\u001b[32m9969\u001b[39m     \u001b[38;5;28;01mreturn\u001b[39;00m \u001b[43mmelt\u001b[49m\u001b[43m(\u001b[49m\n\u001b[32m   9970\u001b[39m \u001b[43m        \u001b[49m\u001b[38;5;28;43mself\u001b[39;49m\u001b[43m,\u001b[49m\n\u001b[32m   9971\u001b[39m \u001b[43m        \u001b[49m\u001b[43mid_vars\u001b[49m\u001b[43m=\u001b[49m\u001b[43mid_vars\u001b[49m\u001b[43m,\u001b[49m\n\u001b[32m   9972\u001b[39m \u001b[43m        \u001b[49m\u001b[43mvalue_vars\u001b[49m\u001b[43m=\u001b[49m\u001b[43mvalue_vars\u001b[49m\u001b[43m,\u001b[49m\n\u001b[32m   9973\u001b[39m \u001b[43m        \u001b[49m\u001b[43mvar_name\u001b[49m\u001b[43m=\u001b[49m\u001b[43mvar_name\u001b[49m\u001b[43m,\u001b[49m\n\u001b[32m   9974\u001b[39m \u001b[43m        \u001b[49m\u001b[43mvalue_name\u001b[49m\u001b[43m=\u001b[49m\u001b[43mvalue_name\u001b[49m\u001b[43m,\u001b[49m\n\u001b[32m   9975\u001b[39m \u001b[43m        \u001b[49m\u001b[43mcol_level\u001b[49m\u001b[43m=\u001b[49m\u001b[43mcol_level\u001b[49m\u001b[43m,\u001b[49m\n\u001b[32m   9976\u001b[39m \u001b[43m        \u001b[49m\u001b[43mignore_index\u001b[49m\u001b[43m=\u001b[49m\u001b[43mignore_index\u001b[49m\u001b[43m,\u001b[49m\n\u001b[32m   9977\u001b[39m \u001b[43m    \u001b[49m\u001b[43m)\u001b[49m.__finalize__(\u001b[38;5;28mself\u001b[39m, method=\u001b[33m\"\u001b[39m\u001b[33mmelt\u001b[39m\u001b[33m\"\u001b[39m)\n",
      "\u001b[36mFile \u001b[39m\u001b[32m~/.conda/envs/verosenv/lib/python3.12/site-packages/pandas/core/reshape/melt.py:54\u001b[39m, in \u001b[36mmelt\u001b[39m\u001b[34m(frame, id_vars, value_vars, var_name, value_name, col_level, ignore_index)\u001b[39m\n\u001b[32m     43\u001b[39m \u001b[38;5;129m@Appender\u001b[39m(_shared_docs[\u001b[33m\"\u001b[39m\u001b[33mmelt\u001b[39m\u001b[33m\"\u001b[39m] % {\u001b[33m\"\u001b[39m\u001b[33mcaller\u001b[39m\u001b[33m\"\u001b[39m: \u001b[33m\"\u001b[39m\u001b[33mpd.melt(df, \u001b[39m\u001b[33m\"\u001b[39m, \u001b[33m\"\u001b[39m\u001b[33mother\u001b[39m\u001b[33m\"\u001b[39m: \u001b[33m\"\u001b[39m\u001b[33mDataFrame.melt\u001b[39m\u001b[33m\"\u001b[39m})\n\u001b[32m     44\u001b[39m \u001b[38;5;28;01mdef\u001b[39;00m\u001b[38;5;250m \u001b[39m\u001b[34mmelt\u001b[39m(\n\u001b[32m     45\u001b[39m     frame: DataFrame,\n\u001b[32m   (...)\u001b[39m\u001b[32m     51\u001b[39m     ignore_index: \u001b[38;5;28mbool\u001b[39m = \u001b[38;5;28;01mTrue\u001b[39;00m,\n\u001b[32m     52\u001b[39m ) -> DataFrame:\n\u001b[32m     53\u001b[39m     \u001b[38;5;28;01mif\u001b[39;00m value_name \u001b[38;5;129;01min\u001b[39;00m frame.columns:\n\u001b[32m---> \u001b[39m\u001b[32m54\u001b[39m         \u001b[38;5;28;01mraise\u001b[39;00m \u001b[38;5;167;01mValueError\u001b[39;00m(\n\u001b[32m     55\u001b[39m             \u001b[33mf\u001b[39m\u001b[33m\"\u001b[39m\u001b[33mvalue_name (\u001b[39m\u001b[38;5;132;01m{\u001b[39;00mvalue_name\u001b[38;5;132;01m}\u001b[39;00m\u001b[33m) cannot match an element in \u001b[39m\u001b[33m\"\u001b[39m\n\u001b[32m     56\u001b[39m             \u001b[33m\"\u001b[39m\u001b[33mthe DataFrame columns.\u001b[39m\u001b[33m\"\u001b[39m\n\u001b[32m     57\u001b[39m         )\n\u001b[32m     58\u001b[39m     id_vars = ensure_list_vars(id_vars, \u001b[33m\"\u001b[39m\u001b[33mid_vars\u001b[39m\u001b[33m\"\u001b[39m, frame.columns)\n\u001b[32m     59\u001b[39m     value_vars_was_not_none = value_vars \u001b[38;5;129;01mis\u001b[39;00m \u001b[38;5;129;01mnot\u001b[39;00m \u001b[38;5;28;01mNone\u001b[39;00m\n",
      "\u001b[31mValueError\u001b[39m: value_name (value) cannot match an element in the DataFrame columns."
     ]
    }
   ],
   "source": [
    "stats = stats.melt(id_vars='n_iteration')"
   ]
  },
  {
   "cell_type": "code",
   "execution_count": 53,
   "id": "c13f2d2c-3c2c-4f93-8028-333d201b47cd",
   "metadata": {},
   "outputs": [],
   "source": [
    "stats['value'] = stats['value'].apply(lambda x : x.item())"
   ]
  },
  {
   "cell_type": "code",
   "execution_count": 63,
   "id": "8f494235-6836-432e-a1a8-93800e3602c8",
   "metadata": {},
   "outputs": [],
   "source": [
    "stats_g =stats.pivot(columns='variable', index='n_iteration', values='value').reset_index()"
   ]
  },
  {
   "cell_type": "code",
   "execution_count": 69,
   "id": "df69552f-6b23-425b-8cee-d9d57ddaf682",
   "metadata": {},
   "outputs": [],
   "source": [
    "stats_g['accuracy'] = 1 - np.abs((stats_g['autodiff_grad'] - stats_g['numerical_grad'])/stats_g['numerical_grad'])"
   ]
  },
  {
   "cell_type": "code",
   "execution_count": 72,
   "id": "f70d1361-b5a4-47a1-a2bf-30de9553a457",
   "metadata": {},
   "outputs": [],
   "source": [
    "stats_gf =  stats_g.melt(id_vars='n_iteration')"
   ]
  },
  {
   "cell_type": "code",
   "execution_count": 77,
   "id": "3593c92a-b6a2-4a16-8a47-bed8e5eab3e1",
   "metadata": {},
   "outputs": [
    {
     "data": {
      "text/html": [
       "<div>\n",
       "<style scoped>\n",
       "    .dataframe tbody tr th:only-of-type {\n",
       "        vertical-align: middle;\n",
       "    }\n",
       "\n",
       "    .dataframe tbody tr th {\n",
       "        vertical-align: top;\n",
       "    }\n",
       "\n",
       "    .dataframe thead th {\n",
       "        text-align: right;\n",
       "    }\n",
       "</style>\n",
       "<table border=\"1\" class=\"dataframe\">\n",
       "  <thead>\n",
       "    <tr style=\"text-align: right;\">\n",
       "      <th></th>\n",
       "      <th>n_iteration</th>\n",
       "      <th>variable</th>\n",
       "      <th>value</th>\n",
       "    </tr>\n",
       "  </thead>\n",
       "  <tbody>\n",
       "    <tr>\n",
       "      <th>14</th>\n",
       "      <td>0</td>\n",
       "      <td>accuracy</td>\n",
       "      <td>0.999999</td>\n",
       "    </tr>\n",
       "    <tr>\n",
       "      <th>15</th>\n",
       "      <td>1</td>\n",
       "      <td>accuracy</td>\n",
       "      <td>0.999999</td>\n",
       "    </tr>\n",
       "    <tr>\n",
       "      <th>16</th>\n",
       "      <td>2</td>\n",
       "      <td>accuracy</td>\n",
       "      <td>0.997026</td>\n",
       "    </tr>\n",
       "    <tr>\n",
       "      <th>17</th>\n",
       "      <td>3</td>\n",
       "      <td>accuracy</td>\n",
       "      <td>0.979465</td>\n",
       "    </tr>\n",
       "    <tr>\n",
       "      <th>18</th>\n",
       "      <td>4</td>\n",
       "      <td>accuracy</td>\n",
       "      <td>0.989821</td>\n",
       "    </tr>\n",
       "    <tr>\n",
       "      <th>19</th>\n",
       "      <td>5</td>\n",
       "      <td>accuracy</td>\n",
       "      <td>0.994020</td>\n",
       "    </tr>\n",
       "    <tr>\n",
       "      <th>20</th>\n",
       "      <td>6</td>\n",
       "      <td>accuracy</td>\n",
       "      <td>-238.852972</td>\n",
       "    </tr>\n",
       "  </tbody>\n",
       "</table>\n",
       "</div>"
      ],
      "text/plain": [
       "    n_iteration  variable       value\n",
       "14            0  accuracy    0.999999\n",
       "15            1  accuracy    0.999999\n",
       "16            2  accuracy    0.997026\n",
       "17            3  accuracy    0.979465\n",
       "18            4  accuracy    0.989821\n",
       "19            5  accuracy    0.994020\n",
       "20            6  accuracy -238.852972"
      ]
     },
     "execution_count": 77,
     "metadata": {},
     "output_type": "execute_result"
    }
   ],
   "source": [
    "stats_gf.query('')"
   ]
  },
  {
   "cell_type": "code",
   "execution_count": 99,
   "id": "f5d7dccd-f125-4205-ba43-6f7dc9b2abe9",
   "metadata": {},
   "outputs": [
    {
     "data": {
      "image/png": "[encoded data removed]",
      "text/plain": [
       "<Figure size 1500x500 with 2 Axes>"
      ]
     },
     "metadata": {},
     "output_type": "display_data"
    }
   ],
   "source": [
    "fig, axs = plt.subplots(1,2, figsize=(15,5))\n",
    "sns.lineplot(data=stats_gf.query('n_iteration < 5 and variable != \"accuracy\"'),\n",
    "             x='n_iteration', y='value', hue='variable', ax=axs[0])\n",
    "axs[0].set_title('Directional derivative value')\n",
    "axs[0].set_xlabel('Number of iterations')\n",
    "sns.lineplot(data=stats_gf.query('n_iteration < 5 and variable == \"accuracy\"'),\n",
    "             x='n_iteration', y='value', ax=axs[1])\n",
    "axs[1].set_title('Accuracy directional derivative')\n",
    "axs[1].set_ylim([0,1.1])\n",
    "axs[1].set_xlabel('Number of iterations')\n",
    "fig.savefig(f'figures/directional_derivative_accuracy_{datetime.now().strftime(\"%d%m%y\")}.png')"
   ]
  },
  {
   "cell_type": "code",
   "execution_count": 1,
   "id": "3a7a9972-1c74-4783-8ed8-78256f0f1320",
   "metadata": {},
   "outputs": [
    {
     "ename": "NameError",
     "evalue": "name 'stats' is not defined",
     "output_type": "error",
     "traceback": [
      "\u001b[31m---------------------------------------------------------------------------\u001b[39m",
      "\u001b[31mNameError\u001b[39m                                 Traceback (most recent call last)",
      "\u001b[36mCell\u001b[39m\u001b[36m \u001b[39m\u001b[32mIn[1]\u001b[39m\u001b[32m, line 1\u001b[39m\n\u001b[32m----> \u001b[39m\u001b[32m1\u001b[39m \u001b[43mstats\u001b[49m\n",
      "\u001b[31mNameError\u001b[39m: name 'stats' is not defined"
     ]
    }
   ],
   "source": [
    "stats"
   ]
  },
  {
   "cell_type": "code",
   "execution_count": null,
   "id": "bab8ea39-2dae-4709-b3da-219f7ae52358",
   "metadata": {},
   "outputs": [],
   "source": [
    "w"
   ]
  }
 ],
 "metadata": {
  "kernelspec": {
   "display_name": "Python (verosenv_kernel)",
   "language": "python",
   "name": "verosenv"
  },
  "language_info": {
   "codemirror_mode": {
    "name": "ipython",
    "version": 3
   },
   "file_extension": ".py",
   "mimetype": "text/x-python",
   "name": "python",
   "nbconvert_exporter": "python",
   "pygments_lexer": "ipython3",
   "version": "3.12.4"
  }
 },
 "nbformat": 4,
 "nbformat_minor": 5
}
