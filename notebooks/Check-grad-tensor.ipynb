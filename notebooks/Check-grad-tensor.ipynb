{
 "cells": [
  {
   "cell_type": "code",
   "execution_count": 1,
   "id": "d9d04bff",
   "metadata": {},
   "outputs": [],
   "source": [
    "from __init__ import PRP; import sys\n",
    "sys.path.append(PRP)"
   ]
  },
  {
   "cell_type": "code",
   "execution_count": 3,
   "id": "fce1ff23",
   "metadata": {},
   "outputs": [],
   "source": [
    "from scripts.grad_compare import *"
   ]
  },
  {
   "cell_type": "code",
   "execution_count": 10,
   "id": "e0a542ad",
   "metadata": {},
   "outputs": [
    {
     "name": "stdout",
     "output_type": "stream",
     "text": [
      "Running model setup\n",
      " Running diagnostic \"averages\" every 5.0 days\n",
      " Writing output for diagnostic \"averages\" every 1.0 years\n",
      " Running diagnostic \"energy\" every 5.0 days\n",
      " Writing output for diagnostic \"energy\" every 7.6 days\n",
      " Running diagnostic \"overturning\" every 5.0 days\n",
      " Writing output for diagnostic \"overturning\" every 7.6 days\n",
      " Writing output for diagnostic \"snapshot\" every 10.0 days\n",
      " Writing output for diagnostic \"tracer_monitor\" every 30.4 days\n",
      "Diffusion grid factor delta_iso1 = 0.01942284820457075\n"
     ]
    },
    {
     "name": "stderr",
     "output_type": "stream",
     "text": [
      " 80%|████████  | 16/20 [00:04<00:00,  5.67it/s]"
     ]
    },
    {
     "name": "stdout",
     "output_type": "stream",
     "text": [
      " Writing snapshot at 10.00 days\n"
     ]
    },
    {
     "name": "stderr",
     "output_type": "stream",
     "text": [
      "100%|██████████| 20/20 [00:05<00:00,  3.80it/s]\n"
     ]
    }
   ],
   "source": [
    "acc = warmup_acc(20, override_settings={'enable_streamfunction' : False})\n",
    "acc.state._diagnostics = {}\n",
    "current_state = acc.state"
   ]
  },
  {
   "cell_type": "code",
   "execution_count": 14,
   "id": "1b48dd9f",
   "metadata": {},
   "outputs": [],
   "source": [
    "def step_function_(function, state) :\n",
    "    \"\"\"\n",
    "    Perform a single step of the simulation in a pure way (no inplace modification)\n",
    "\n",
    "    Args:\n",
    "        function: The step function to apply.\n",
    "        state: The current state of the simulation.\n",
    "\n",
    "    Returns:\n",
    "        The next state of the simulation.\n",
    "    \"\"\"\n",
    "\n",
    "    next_state = state.copy()\n",
    "    function(next_state)\n",
    "    return next_state\n",
    "\n",
    "# Params auto-diff\n",
    "def agg_sum(state, key_sum = 'u', cv = slice(-5,-1,1)) :\n",
    "    return ((getattr(state.variables, key_sum)[:,:,:] - 0)**2).mean()\n",
    "\n",
    "\n",
    "diff_function = lambda state : agg_sum(step_function_(acc.step, state))"
   ]
  },
  {
   "cell_type": "code",
   "execution_count": null,
   "id": "3d7d426d",
   "metadata": {},
   "outputs": [],
   "source": [
    "l, vjp_fun  = jax.vjp(diff_function, current_state)\n",
    "\n",
    "\n",
    "# Backward pass using VJP\n",
    "cotangent = jnp.ones_like(l)\n",
    "\n",
    "# Backpropagate through self.agg_function\n",
    "ds, = vjp_agg(cotangent)"
   ]
  },
  {
   "cell_type": "code",
   "execution_count": null,
   "id": "bd1cc802",
   "metadata": {},
   "outputs": [],
   "source": []
  },
  {
   "cell_type": "code",
   "execution_count": null,
   "id": "f118d50b",
   "metadata": {},
   "outputs": [],
   "source": [
    "\n",
    "methods = [numerical_diff, jvp_grad, vjp_grad]#[numerical_diff, backward_diff, forward_diff, jvp_grad, vjp_grad]\n",
    "\n",
    "for ad_method in methods :\n",
    "    ad = ad_method(step_function, agg_function,  var_name)\n",
    "\n",
    "    start_time = time.time()\n",
    "    n_diff = ad.g(acc.state, var_value = var, iterations=iteration_grad)\n",
    "    print(f'{ad} : ', n_diff)\n",
    "    n_diff_time = time.time() - start_time\n",
    "    print(f'Time taken for {ad}: {n_diff_time:.4f} seconds - its={iteration_grad} \\n')\n"
   ]
  },
  {
   "cell_type": "code",
   "execution_count": 5,
   "id": "0b62d21d",
   "metadata": {},
   "outputs": [
    {
     "ename": "NameError",
     "evalue": "name 'acc' is not defined",
     "output_type": "error",
     "traceback": [
      "\u001b[0;31m---------------------------------------------------------------------------\u001b[0m",
      "\u001b[0;31mNameError\u001b[0m                                 Traceback (most recent call last)",
      "Cell \u001b[0;32mIn[5], line 1\u001b[0m\n\u001b[0;32m----> 1\u001b[0m step_function \u001b[38;5;241m=\u001b[39m \u001b[43macc\u001b[49m\u001b[38;5;241m.\u001b[39mstep\n\u001b[1;32m      2\u001b[0m agg_function \u001b[38;5;241m=\u001b[39magg_sum\n\u001b[1;32m      3\u001b[0m var_name \u001b[38;5;241m=\u001b[39m \u001b[38;5;124m'\u001b[39m\u001b[38;5;124mr_bot\u001b[39m\u001b[38;5;124m'\u001b[39m\n",
      "\u001b[0;31mNameError\u001b[0m: name 'acc' is not defined"
     ]
    }
   ],
   "source": [
    "step_function = acc.step\n",
    "agg_function =agg_sum\n",
    "var_name = 'r_bot'\n",
    "var = jnp.array(1e-5, dtype=jnp.float64)\n",
    "iteration_grad = 5"
   ]
  },
  {
   "cell_type": "code",
   "execution_count": null,
   "id": "7b13aa59",
   "metadata": {},
   "outputs": [],
   "source": []
  },
  {
   "cell_type": "code",
   "execution_count": null,
   "id": "266c3847",
   "metadata": {},
   "outputs": [],
   "source": []
  }
 ],
 "metadata": {
  "kernelspec": {
   "display_name": "veros",
   "language": "python",
   "name": "python3"
  },
  "language_info": {
   "codemirror_mode": {
    "name": "ipython",
    "version": 3
   },
   "file_extension": ".py",
   "mimetype": "text/x-python",
   "name": "python",
   "nbconvert_exporter": "python",
   "pygments_lexer": "ipython3",
   "version": "3.12.4"
  }
 },
 "nbformat": 4,
 "nbformat_minor": 5
}
